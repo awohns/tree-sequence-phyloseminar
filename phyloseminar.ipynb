{
 "cells": [
  {
   "cell_type": "markdown",
   "metadata": {
    "slideshow": {
     "slide_type": "slide"
    }
   },
   "source": [
    "\n",
    "<center> <img src=\"figures/logos.png\" style=\"width:450px\">\n",
    "\n",
    "<center> <font size=\"+2\"> Tree Sequence Fundamentals: introduction to tskit, The Tree Sequence Toolkit </font>\n",
    "<center> <font size=\"+1\"> Anthony Wilder Wohns </font>\n",
    "<center> <font size=\"+1\"> Big Data Institute/Department of Statistics, University of Oxford </font>"
   ]
  },
  {
   "cell_type": "markdown",
   "metadata": {
    "slideshow": {
     "slide_type": "slide"
    }
   },
   "source": [
    "Datasets of millions of genomes demand highly compact data structures and an efficient analysis toolkit.\n"
   ]
  },
  {
   "cell_type": "markdown",
   "metadata": {
    "slideshow": {
     "slide_type": "fragment"
    }
   },
   "source": [
    "Tree sequences and $\\texttt{tskit}$ are our answer to this challenge.\n"
   ]
  },
  {
   "cell_type": "markdown",
   "metadata": {
    "slideshow": {
     "slide_type": "fragment"
    }
   },
   "source": [
    "$\\texttt{tskit}$ includes a suite of tools for calculating common statistics of interest from tree sequences. Tree sequences can be simulated using $\\texttt{msprime}$ and $\\texttt{SLiM}$ are scalable coalescent and forwards time simulators. Finally, we can infer tree sequences from millions of samples using $\\texttt{tsinfer}$.\n"
   ]
  },
  {
   "cell_type": "markdown",
   "metadata": {
    "slideshow": {
     "slide_type": "subslide"
    }
   },
   "source": [
    "We'll use the Python API for $\\texttt{tskit}$ and $\\texttt{msprime}$ to see how these tools work, how efficient they are, and how they can be used to answer questions you are interested in."
   ]
  },
  {
   "cell_type": "markdown",
   "metadata": {
    "slideshow": {
     "slide_type": "slide"
    }
   },
   "source": [
    "1. [tskit Python API](#ts)\n",
    "2. [Tree Sequence Statistics</span>](#statistics)\n",
    "3. [msprime Simulations</span>](#msprime)"
   ]
  },
  {
   "cell_type": "code",
   "execution_count": 1,
   "metadata": {
    "slideshow": {
     "slide_type": "skip"
    }
   },
   "outputs": [],
   "source": [
    "import tsinfer\n",
    "import tskit\n",
    "import msprime\n",
    "import io\n",
    "import numpy as np\n",
    "import matplotlib.pyplot as plt\n",
    "import pysvg\n",
    "import json\n",
    "from IPython.display import SVG, display, HTML\n",
    "import scipy\n",
    "import seaborn as sns\n",
    "import pandas as pd\n",
    "\n",
    "nodes = io.StringIO(\"\"\"\\\n",
    "id  is_sample   population  individual  time    metadata\n",
    "0   1   0   -1  0.00000000000000    \n",
    "1   1   0   -1  0.00000000000000    \n",
    "2   1   0   -1  0.00000000000000    \n",
    "3   1   0   -1  0.00000000000000    \n",
    "4   1   0   -1  0.00000000000000    \n",
    "5   1   0   -1  0.00000000000000    \n",
    "6   0   0   -1  0.5   \n",
    "7   0   0   -1  0.5   \n",
    "8   0   0   -1  0.75 \n",
    "9   0   0   -1  1.5\n",
    "10  0   0   -1  1.5\n",
    "11  0   0   -1  1.75\n",
    "12  0   0   -1  2.5 \n",
    "        \"\"\")\n",
    "edges = io.StringIO(\"\"\"\\\n",
    "id  left        right       parent  child\n",
    "0   0.00000000  50.00000000 7   0\n",
    "1   0.00000000  50.00000000 7   1\n",
    "2   0.00000000  15          11   2\n",
    "3   0.00000000  15          8   3\n",
    "4   0.00000000  15          12   11\n",
    "5   0.00000000  15          11   9\n",
    "6   0.00000000  50          8   4\n",
    "7   0.00000000  50          9   5\n",
    "8   0.00000000  50          9  8\n",
    "9   15  30          6  2\n",
    "10   15  30          6  3\n",
    "11   15  50          12  9\n",
    "12  30  50 10  3\n",
    "13  30  50 12  10\n",
    "14  30  50 8  2\n",
    "15  30  50 10  7\n",
    "15  0  30 12  7\n",
    "15  15  30 8  6\n",
    "\"\"\")\n",
    "sites = io.StringIO(\"\"\"\\\n",
    "id  position    ancestral_state metadata\n",
    "0   6 0   \n",
    "1   12 0   \n",
    "2   20 0 \n",
    "3   40 0 \n",
    "\"\"\")\n",
    "mutations = io.StringIO(\"\"\"\\\n",
    "id  site    node    derived_state   parent  metadata\n",
    "0   0   0   1   -1  \n",
    "1   1   11  1   -1  \n",
    "2   2   8  1   -1 \n",
    "3   3   10  1   -1 \n",
    "\"\"\")\n",
    "treeseq_example = tskit.load_text(nodes, edges, sites = sites, mutations = mutations, sequence_length=50, strict=False)\n",
    "\n",
    "\n",
    "treeseq_example.dump('data/tree_sequence_example.trees')"
   ]
  },
  {
   "cell_type": "markdown",
   "metadata": {},
   "source": [
    "# 1. [tskit Python API](#ts)\n"
   ]
  },
  {
   "cell_type": "markdown",
   "metadata": {
    "slideshow": {
     "slide_type": "slide"
    }
   },
   "source": [
    "Let's get hands on with the python API as we familiarize ourselves with tree sequences. Note that a comprehensive documentation can be found at https://tskit.readthedocs.io/<br>\n"
   ]
  },
  {
   "cell_type": "markdown",
   "metadata": {
    "slideshow": {
     "slide_type": "fragment"
    }
   },
   "source": [
    "We'll start with the top level $\\texttt{TreeSequence}$ class. "
   ]
  },
  {
   "cell_type": "code",
   "execution_count": 2,
   "metadata": {
    "slideshow": {
     "slide_type": "subslide"
    }
   },
   "outputs": [],
   "source": [
    "import tskit\n",
    "# Let's load the example we were just looking at as a tree sequence\n",
    "treeseq_example = tskit.load(\"data/tree_sequence_example.trees\")"
   ]
  },
  {
   "cell_type": "markdown",
   "metadata": {
    "slideshow": {
     "slide_type": "subslide"
    }
   },
   "source": [
    "Let's look again at the trees from the example above. The simpest way to do this is to print call the draw_svg() function."
   ]
  },
  {
   "cell_type": "code",
   "execution_count": 3,
   "metadata": {},
   "outputs": [
    {
     "data": {
      "image/svg+xml": [
       "<svg baseProfile=\"full\" height=\"200\" version=\"1.1\" width=\"600\" xmlns=\"http://www.w3.org/2000/svg\" xmlns:ev=\"http://www.w3.org/2001/xml-events\" xmlns:xlink=\"http://www.w3.org/1999/xlink\"><defs><g id=\"tree_0\"><g fill=\"none\" id=\"edges\" stroke=\"black\"><path d=\"M 45.714285714285715 118.0 V 30.0 H 73.98809523809524\" id=\"edge_0_7\"/><path d=\"M 33.80952380952381 140.0 V 118.0 H 45.714285714285715\" id=\"edge_0_0\"/><path d=\"M 57.61904761904762 140.0 V 118.0 H 45.714285714285715\" id=\"edge_0_1\"/><path d=\"M 102.26190476190476 63.0 V 30.0 H 73.98809523809524\" id=\"edge_0_11\"/><path d=\"M 81.42857142857143 140.0 V 63.0 H 102.26190476190476\" id=\"edge_0_2\"/><path d=\"M 123.09523809523809 74.0 V 63.0 H 102.26190476190476\" id=\"edge_0_9\"/><path d=\"M 105.23809523809524 140.0 V 74.0 H 123.09523809523809\" id=\"edge_0_5\"/><path d=\"M 140.95238095238093 107.0 V 74.0 H 123.09523809523809\" id=\"edge_0_8\"/><path d=\"M 129.04761904761904 140.0 V 107.0 H 140.95238095238093\" id=\"edge_0_3\"/><path d=\"M 152.85714285714283 140.0 V 107.0 H 140.95238095238093\" id=\"edge_0_4\"/></g><g id=\"symbols\"><g class=\"nodes\"><circle cx=\"73.98809523809524\" cy=\"30.0\" id=\"node_0_12\" r=\"3\"/><circle cx=\"45.714285714285715\" cy=\"118.0\" id=\"node_0_7\" r=\"3\"/><circle cx=\"33.80952380952381\" cy=\"140.0\" id=\"node_0_0\" r=\"3\"/><circle cx=\"57.61904761904762\" cy=\"140.0\" id=\"node_0_1\" r=\"3\"/><circle cx=\"102.26190476190476\" cy=\"63.0\" id=\"node_0_11\" r=\"3\"/><circle cx=\"81.42857142857143\" cy=\"140.0\" id=\"node_0_2\" r=\"3\"/><circle cx=\"123.09523809523809\" cy=\"74.0\" id=\"node_0_9\" r=\"3\"/><circle cx=\"105.23809523809524\" cy=\"140.0\" id=\"node_0_5\" r=\"3\"/><circle cx=\"140.95238095238093\" cy=\"107.0\" id=\"node_0_8\" r=\"3\"/><circle cx=\"129.04761904761904\" cy=\"140.0\" id=\"node_0_3\" r=\"3\"/><circle cx=\"152.85714285714283\" cy=\"140.0\" id=\"node_0_4\" r=\"3\"/></g><g class=\"mutations\" fill=\"red\"><rect height=\"6\" transform=\"translate(-3, -3)\" width=\"6\" x=\"33.80952380952381\" y=\"129.0\"/><rect height=\"6\" transform=\"translate(-3, -3)\" width=\"6\" x=\"102.26190476190476\" y=\"46.5\"/></g></g><g font-size=\"14\" id=\"labels\"><g class=\"nodes\"><g text-anchor=\"start\"><text x=\"107.26190476190476\" y=\"58.0\">11</text><text x=\"128.09523809523807\" y=\"69.0\">9</text><text x=\"145.95238095238093\" y=\"102.0\">8</text></g><g text-anchor=\"middle\"><text x=\"73.98809523809524\" y=\"25.0\">12</text><text x=\"33.80952380952381\" y=\"160.0\">0</text><text x=\"57.61904761904762\" y=\"160.0\">1</text><text x=\"81.42857142857143\" y=\"160.0\">2</text><text x=\"105.23809523809524\" y=\"160.0\">5</text><text x=\"129.04761904761904\" y=\"160.0\">3</text><text x=\"152.85714285714283\" y=\"160.0\">4</text></g><g text-anchor=\"end\"><text x=\"40.714285714285715\" y=\"113.0\">7</text></g></g><g class=\"mutations\" font-style=\"italic\"><g text-anchor=\"start\"><text x=\"107.26190476190476\" y=\"50.5\">1</text></g><g text-anchor=\"end\"><text x=\"28.80952380952381\" y=\"133.0\">0</text></g></g></g></g><g id=\"tree_1\"><g fill=\"none\" id=\"edges\" stroke=\"black\"><path d=\"M 45.714285714285715 118.0 V 30.0 H 73.98809523809524\" id=\"edge_1_7\"/><path d=\"M 33.80952380952381 140.0 V 118.0 H 45.714285714285715\" id=\"edge_1_0\"/><path d=\"M 57.61904761904762 140.0 V 118.0 H 45.714285714285715\" id=\"edge_1_1\"/><path d=\"M 102.26190476190476 74.0 V 30.0 H 73.98809523809524\" id=\"edge_1_9\"/><path d=\"M 81.42857142857143 140.0 V 74.0 H 102.26190476190476\" id=\"edge_1_5\"/><path d=\"M 123.09523809523809 107.0 V 74.0 H 102.26190476190476\" id=\"edge_1_8\"/><path d=\"M 105.23809523809524 140.0 V 107.0 H 123.09523809523809\" id=\"edge_1_4\"/><path d=\"M 140.95238095238093 118.0 V 107.0 H 123.09523809523809\" id=\"edge_1_6\"/><path d=\"M 129.04761904761904 140.0 V 118.0 H 140.95238095238093\" id=\"edge_1_2\"/><path d=\"M 152.85714285714283 140.0 V 118.0 H 140.95238095238093\" id=\"edge_1_3\"/></g><g id=\"symbols\"><g class=\"nodes\"><circle cx=\"73.98809523809524\" cy=\"30.0\" id=\"node_1_12\" r=\"3\"/><circle cx=\"45.714285714285715\" cy=\"118.0\" id=\"node_1_7\" r=\"3\"/><circle cx=\"33.80952380952381\" cy=\"140.0\" id=\"node_1_0\" r=\"3\"/><circle cx=\"57.61904761904762\" cy=\"140.0\" id=\"node_1_1\" r=\"3\"/><circle cx=\"102.26190476190476\" cy=\"74.0\" id=\"node_1_9\" r=\"3\"/><circle cx=\"81.42857142857143\" cy=\"140.0\" id=\"node_1_5\" r=\"3\"/><circle cx=\"123.09523809523809\" cy=\"107.0\" id=\"node_1_8\" r=\"3\"/><circle cx=\"105.23809523809524\" cy=\"140.0\" id=\"node_1_4\" r=\"3\"/><circle cx=\"140.95238095238093\" cy=\"118.0\" id=\"node_1_6\" r=\"3\"/><circle cx=\"129.04761904761904\" cy=\"140.0\" id=\"node_1_2\" r=\"3\"/><circle cx=\"152.85714285714283\" cy=\"140.0\" id=\"node_1_3\" r=\"3\"/></g><g class=\"mutations\" fill=\"red\"><rect height=\"6\" transform=\"translate(-3, -3)\" width=\"6\" x=\"123.09523809523809\" y=\"90.5\"/></g></g><g font-size=\"14\" id=\"labels\"><g class=\"nodes\"><g text-anchor=\"start\"><text x=\"107.26190476190476\" y=\"69.0\">9</text><text x=\"128.09523809523807\" y=\"102.0\">8</text><text x=\"145.95238095238093\" y=\"113.0\">6</text></g><g text-anchor=\"middle\"><text x=\"73.98809523809524\" y=\"25.0\">12</text><text x=\"33.80952380952381\" y=\"160.0\">0</text><text x=\"57.61904761904762\" y=\"160.0\">1</text><text x=\"81.42857142857143\" y=\"160.0\">5</text><text x=\"105.23809523809524\" y=\"160.0\">4</text><text x=\"129.04761904761904\" y=\"160.0\">2</text><text x=\"152.85714285714283\" y=\"160.0\">3</text></g><g text-anchor=\"end\"><text x=\"40.714285714285715\" y=\"113.0\">7</text></g></g><g class=\"mutations\" font-style=\"italic\"><g text-anchor=\"start\"><text x=\"128.09523809523807\" y=\"94.5\">2</text></g><g text-anchor=\"end\"/></g></g></g><g id=\"tree_2\"><g fill=\"none\" id=\"edges\" stroke=\"black\"><path d=\"M 51.666666666666664 74.0 V 30.0 H 87.38095238095238\" id=\"edge_2_9\"/><path d=\"M 33.80952380952381 140.0 V 74.0 H 51.666666666666664\" id=\"edge_2_5\"/><path d=\"M 69.52380952380952 107.0 V 74.0 H 51.666666666666664\" id=\"edge_2_8\"/><path d=\"M 57.61904761904762 140.0 V 107.0 H 69.52380952380952\" id=\"edge_2_4\"/><path d=\"M 81.42857142857143 140.0 V 107.0 H 69.52380952380952\" id=\"edge_2_2\"/><path d=\"M 123.09523809523809 74.0 V 30.0 H 87.38095238095238\" id=\"edge_2_10\"/><path d=\"M 105.23809523809524 140.0 V 74.0 H 123.09523809523809\" id=\"edge_2_3\"/><path d=\"M 140.95238095238093 118.0 V 74.0 H 123.09523809523809\" id=\"edge_2_7\"/><path d=\"M 129.04761904761904 140.0 V 118.0 H 140.95238095238093\" id=\"edge_2_0\"/><path d=\"M 152.85714285714283 140.0 V 118.0 H 140.95238095238093\" id=\"edge_2_1\"/></g><g id=\"symbols\"><g class=\"nodes\"><circle cx=\"87.38095238095238\" cy=\"30.0\" id=\"node_2_12\" r=\"3\"/><circle cx=\"51.666666666666664\" cy=\"74.0\" id=\"node_2_9\" r=\"3\"/><circle cx=\"33.80952380952381\" cy=\"140.0\" id=\"node_2_5\" r=\"3\"/><circle cx=\"69.52380952380952\" cy=\"107.0\" id=\"node_2_8\" r=\"3\"/><circle cx=\"57.61904761904762\" cy=\"140.0\" id=\"node_2_4\" r=\"3\"/><circle cx=\"81.42857142857143\" cy=\"140.0\" id=\"node_2_2\" r=\"3\"/><circle cx=\"123.09523809523809\" cy=\"74.0\" id=\"node_2_10\" r=\"3\"/><circle cx=\"105.23809523809524\" cy=\"140.0\" id=\"node_2_3\" r=\"3\"/><circle cx=\"140.95238095238093\" cy=\"118.0\" id=\"node_2_7\" r=\"3\"/><circle cx=\"129.04761904761904\" cy=\"140.0\" id=\"node_2_0\" r=\"3\"/><circle cx=\"152.85714285714283\" cy=\"140.0\" id=\"node_2_1\" r=\"3\"/></g><g class=\"mutations\" fill=\"red\"><rect height=\"6\" transform=\"translate(-3, -3)\" width=\"6\" x=\"123.09523809523809\" y=\"52.0\"/></g></g><g font-size=\"14\" id=\"labels\"><g class=\"nodes\"><g text-anchor=\"start\"><text x=\"74.52380952380952\" y=\"102.0\">8</text><text x=\"128.09523809523807\" y=\"69.0\">10</text><text x=\"145.95238095238093\" y=\"113.0\">7</text></g><g text-anchor=\"middle\"><text x=\"87.38095238095238\" y=\"25.0\">12</text><text x=\"33.80952380952381\" y=\"160.0\">5</text><text x=\"57.61904761904762\" y=\"160.0\">4</text><text x=\"81.42857142857143\" y=\"160.0\">2</text><text x=\"105.23809523809524\" y=\"160.0\">3</text><text x=\"129.04761904761904\" y=\"160.0\">0</text><text x=\"152.85714285714283\" y=\"160.0\">1</text></g><g text-anchor=\"end\"><text x=\"46.666666666666664\" y=\"69.0\">9</text></g></g><g class=\"mutations\" font-style=\"italic\"><g text-anchor=\"start\"><text x=\"128.09523809523807\" y=\"56.0\">3</text></g><g text-anchor=\"end\"/></g></g></g></defs><use x=\"20\" xlink:href=\"#tree_0\" y=\"15\"/><use x=\"206.66666666666666\" xlink:href=\"#tree_1\" y=\"15\"/><use x=\"393.3333333333333\" xlink:href=\"#tree_2\" y=\"15\"/><line stroke=\"black\" x1=\"20\" x2=\"580\" y1=\"180\" y2=\"180\"/><line stroke=\"black\" x1=\"20\" x2=\"20\" y1=\"175\" y2=\"185\"/><text font-size=\"14\" font-weight=\"bold\" text-anchor=\"middle\" x=\"20\" y=\"200\">0.00</text><line stroke=\"black\" x1=\"206.66666666666666\" x2=\"206.66666666666666\" y1=\"175\" y2=\"185\"/><text font-size=\"14\" font-weight=\"bold\" text-anchor=\"middle\" x=\"206.66666666666666\" y=\"200\">15.00</text><line stroke=\"black\" x1=\"393.3333333333333\" x2=\"393.3333333333333\" y1=\"175\" y2=\"185\"/><text font-size=\"14\" font-weight=\"bold\" text-anchor=\"middle\" x=\"393.3333333333333\" y=\"200\">30.00</text><line stroke=\"black\" x1=\"580.0\" x2=\"580.0\" y1=\"175\" y2=\"185\"/><text font-size=\"14\" font-weight=\"bold\" text-anchor=\"middle\" x=\"580.0\" y=\"200\">50.00</text></svg>"
      ],
      "text/plain": [
       "<IPython.core.display.SVG object>"
      ]
     },
     "execution_count": 3,
     "metadata": {},
     "output_type": "execute_result"
    }
   ],
   "source": [
    "SVG(treeseq_example.draw_svg())"
   ]
  },
  {
   "cell_type": "markdown",
   "metadata": {},
   "source": [
    "This is the example we've been working with."
   ]
  },
  {
   "cell_type": "markdown",
   "metadata": {
    "slideshow": {
     "slide_type": "slide"
    }
   },
   "source": [
    "The `tskit` library allow us to use tree sequence objects in Python; these have specific properties and can also be queried using various methods. For example, we can easily show the number of trees in a tree sequence as follows "
   ]
  },
  {
   "cell_type": "code",
   "execution_count": 17,
   "metadata": {
    "slideshow": {
     "slide_type": "fragment"
    }
   },
   "outputs": [
    {
     "data": {
      "text/plain": [
       "3"
      ]
     },
     "execution_count": 17,
     "metadata": {},
     "output_type": "execute_result"
    }
   ],
   "source": [
    "treeseq_example.num_trees"
   ]
  },
  {
   "cell_type": "markdown",
   "metadata": {
    "slideshow": {
     "slide_type": "subslide"
    }
   },
   "source": [
    "We can also show the number of nodes, mutations and edges in the tree sequence"
   ]
  },
  {
   "cell_type": "code",
   "execution_count": 18,
   "metadata": {
    "slideshow": {
     "slide_type": "fragment"
    }
   },
   "outputs": [
    {
     "data": {
      "text/plain": [
       "13"
      ]
     },
     "execution_count": 18,
     "metadata": {},
     "output_type": "execute_result"
    }
   ],
   "source": [
    "treeseq_example.num_nodes"
   ]
  },
  {
   "cell_type": "code",
   "execution_count": 19,
   "metadata": {
    "slideshow": {
     "slide_type": "fragment"
    }
   },
   "outputs": [
    {
     "data": {
      "text/plain": [
       "18"
      ]
     },
     "execution_count": 19,
     "metadata": {},
     "output_type": "execute_result"
    }
   ],
   "source": [
    "treeseq_example.num_edges"
   ]
  },
  {
   "cell_type": "code",
   "execution_count": 20,
   "metadata": {
    "slideshow": {
     "slide_type": "fragment"
    }
   },
   "outputs": [
    {
     "data": {
      "text/plain": [
       "4"
      ]
     },
     "execution_count": 20,
     "metadata": {},
     "output_type": "execute_result"
    }
   ],
   "source": [
    "treeseq_example.num_mutations"
   ]
  },
  {
   "cell_type": "markdown",
   "metadata": {
    "slideshow": {
     "slide_type": "subslide"
    }
   },
   "source": [
    "We can get the same information for each individual tree. All we need to do is iterate over the trees again"
   ]
  },
  {
   "cell_type": "code",
   "execution_count": 21,
   "metadata": {
    "slideshow": {
     "slide_type": "fragment"
    }
   },
   "outputs": [
    {
     "name": "stdout",
     "output_type": "stream",
     "text": [
      "Tree 0 has: 2 mutation(s)\n",
      "Tree 1 has: 1 mutation(s)\n",
      "Tree 2 has: 1 mutation(s)\n"
     ]
    }
   ],
   "source": [
    "for tree in treeseq_example.trees():\n",
    "    print('Tree', tree.index,'has:', tree.num_mutations, 'mutation(s)')\n"
   ]
  },
  {
   "cell_type": "markdown",
   "metadata": {
    "slideshow": {
     "slide_type": "slide"
    }
   },
   "source": [
    "# Tables: The underlying infrastructure of a Tree Sequence\n",
    "We'll understand how tree sequences are stored before getting hands-on with the API again \n"
   ]
  },
  {
   "cell_type": "markdown",
   "metadata": {
    "slideshow": {
     "slide_type": "skip"
    }
   },
   "source": [
    "![SegmentLocal](figures/mutations_gif.gif \"segment\")"
   ]
  },
  {
   "cell_type": "markdown",
   "metadata": {
    "slideshow": {
     "slide_type": "skip"
    }
   },
   "source": [
    "![SegmentLocal](figures/edges_gif.gif \"segment\")"
   ]
  },
  {
   "cell_type": "markdown",
   "metadata": {
    "slideshow": {
     "slide_type": "skip"
    }
   },
   "source": [
    "![SegmentLocal](figures/nodes_gif.gif \"segment\")"
   ]
  },
  {
   "cell_type": "markdown",
   "metadata": {
    "slideshow": {
     "slide_type": "subslide"
    }
   },
   "source": [
    "Since a tree sequence object is entirely specified by tables, these provide access to the internal representation of a tree sequence object. Below is a simple example of inspecting tables."
   ]
  },
  {
   "cell_type": "code",
   "execution_count": 22,
   "metadata": {
    "slideshow": {
     "slide_type": "fragment"
    }
   },
   "outputs": [
    {
     "data": {
      "text/html": [
       "\n",
       "            <div>\n",
       "                <style scoped=\"\">\n",
       "                    .tskit-table tbody tr th:only-of-type {vertical-align: middle;}\n",
       "                    .tskit-table tbody tr th {vertical-align: top;}\n",
       "                    .tskit-table tbody td {text-align: right;}\n",
       "                </style>\n",
       "                <table border=\"1\" class=\"tskit-table\">\n",
       "                    <thead>\n",
       "                        <tr>\n",
       "                            <th>id</th><th>flags</th><th>population</th><th>individual</th><th>time</th><th>metadata</th>\n",
       "                        </tr>\n",
       "                    </thead>\n",
       "                    <tbody>\n",
       "                        <tr><td>0</td><td>1</td><td>0</td><td>-1</td><td>0.00000000000000</td><td></td></tr>\n",
       "<tr><td>1</td><td>1</td><td>0</td><td>-1</td><td>0.00000000000000</td><td></td></tr>\n",
       "<tr><td>2</td><td>1</td><td>0</td><td>-1</td><td>0.00000000000000</td><td></td></tr>\n",
       "<tr><td>3</td><td>1</td><td>0</td><td>-1</td><td>0.00000000000000</td><td></td></tr>\n",
       "<tr><td>4</td><td>1</td><td>0</td><td>-1</td><td>0.00000000000000</td><td></td></tr>\n",
       "<tr><td>5</td><td>1</td><td>0</td><td>-1</td><td>0.00000000000000</td><td></td></tr>\n",
       "<tr><td>6</td><td>0</td><td>0</td><td>-1</td><td>0.50000000000000</td><td></td></tr>\n",
       "<tr><td>7</td><td>0</td><td>0</td><td>-1</td><td>0.50000000000000</td><td></td></tr>\n",
       "<tr><td>8</td><td>0</td><td>0</td><td>-1</td><td>0.75000000000000</td><td></td></tr>\n",
       "<tr><td>9</td><td>0</td><td>0</td><td>-1</td><td>1.50000000000000</td><td></td></tr>\n",
       "<tr><td>10</td><td>0</td><td>0</td><td>-1</td><td>1.50000000000000</td><td></td></tr>\n",
       "<tr><td>11</td><td>0</td><td>0</td><td>-1</td><td>1.75000000000000</td><td></td></tr>\n",
       "<tr><td>12</td><td>0</td><td>0</td><td>-1</td><td>2.50000000000000</td><td></td></tr>\n",
       "\n",
       "                    </tbody>\n",
       "                </table>\n",
       "            </div>\n",
       "        "
      ],
      "text/plain": [
       "<tskit.tables.NodeTable at 0x1299bad30>"
      ]
     },
     "execution_count": 22,
     "metadata": {},
     "output_type": "execute_result"
    }
   ],
   "source": [
    "treeseq_example.tables.nodes"
   ]
  },
  {
   "cell_type": "code",
   "execution_count": 23,
   "metadata": {
    "slideshow": {
     "slide_type": "subslide"
    }
   },
   "outputs": [
    {
     "data": {
      "text/html": [
       "\n",
       "            <div>\n",
       "                <style scoped=\"\">\n",
       "                    .tskit-table tbody tr th:only-of-type {vertical-align: middle;}\n",
       "                    .tskit-table tbody tr th {vertical-align: top;}\n",
       "                    .tskit-table tbody td {text-align: right;}\n",
       "                </style>\n",
       "                <table border=\"1\" class=\"tskit-table\">\n",
       "                    <thead>\n",
       "                        <tr>\n",
       "                            <th>id</th><th>left\t</th><th>right\t</th><th>parent</th><th>child</th><th>metadata</th>\n",
       "                        </tr>\n",
       "                    </thead>\n",
       "                    <tbody>\n",
       "                        <tr><td>0</td><td>15.00000000</td><td>30.00000000</td><td>6</td><td>2</td><td></td></tr>\n",
       "<tr><td>1</td><td>15.00000000</td><td>30.00000000</td><td>6</td><td>3</td><td></td></tr>\n",
       "<tr><td>2</td><td>0.00000000</td><td>50.00000000</td><td>7</td><td>0</td><td></td></tr>\n",
       "<tr><td>3</td><td>0.00000000</td><td>50.00000000</td><td>7</td><td>1</td><td></td></tr>\n",
       "<tr><td>4</td><td>30.00000000</td><td>50.00000000</td><td>8</td><td>2</td><td></td></tr>\n",
       "<tr><td>5</td><td>0.00000000</td><td>15.00000000</td><td>8</td><td>3</td><td></td></tr>\n",
       "<tr><td>6</td><td>0.00000000</td><td>50.00000000</td><td>8</td><td>4</td><td></td></tr>\n",
       "<tr><td>7</td><td>15.00000000</td><td>30.00000000</td><td>8</td><td>6</td><td></td></tr>\n",
       "<tr><td>8</td><td>0.00000000</td><td>50.00000000</td><td>9</td><td>5</td><td></td></tr>\n",
       "<tr><td>9</td><td>0.00000000</td><td>50.00000000</td><td>9</td><td>8</td><td></td></tr>\n",
       "<tr><td>10</td><td>30.00000000</td><td>50.00000000</td><td>10</td><td>3</td><td></td></tr>\n",
       "<tr><td>11</td><td>30.00000000</td><td>50.00000000</td><td>10</td><td>7</td><td></td></tr>\n",
       "<tr><td>12</td><td>0.00000000</td><td>15.00000000</td><td>11</td><td>2</td><td></td></tr>\n",
       "<tr><td>13</td><td>0.00000000</td><td>15.00000000</td><td>11</td><td>9</td><td></td></tr>\n",
       "<tr><td>14</td><td>0.00000000</td><td>30.00000000</td><td>12</td><td>7</td><td></td></tr>\n",
       "<tr><td>15</td><td>15.00000000</td><td>50.00000000</td><td>12</td><td>9</td><td></td></tr>\n",
       "<tr><td>16</td><td>30.00000000</td><td>50.00000000</td><td>12</td><td>10</td><td></td></tr>\n",
       "<tr><td>17</td><td>0.00000000</td><td>15.00000000</td><td>12</td><td>11</td><td></td></tr>\n",
       "\n",
       "                    </tbody>\n",
       "                </table>\n",
       "            </div>\n",
       "        "
      ],
      "text/plain": [
       "<tskit.tables.EdgeTable at 0x1299ba828>"
      ]
     },
     "execution_count": 23,
     "metadata": {},
     "output_type": "execute_result"
    }
   ],
   "source": [
    "treeseq_example.tables.edges"
   ]
  },
  {
   "cell_type": "code",
   "execution_count": 24,
   "metadata": {
    "slideshow": {
     "slide_type": "subslide"
    }
   },
   "outputs": [
    {
     "data": {
      "text/html": [
       "\n",
       "            <div>\n",
       "                <style scoped=\"\">\n",
       "                    .tskit-table tbody tr th:only-of-type {vertical-align: middle;}\n",
       "                    .tskit-table tbody tr th {vertical-align: top;}\n",
       "                    .tskit-table tbody td {text-align: right;}\n",
       "                </style>\n",
       "                <table border=\"1\" class=\"tskit-table\">\n",
       "                    <thead>\n",
       "                        <tr>\n",
       "                            <th>id</th><th>site</th><th>node</th><th>derived_state</th><th>parent</th><th>metadata</th>\n",
       "                        </tr>\n",
       "                    </thead>\n",
       "                    <tbody>\n",
       "                        <tr><td>0</td><td>0</td><td>0</td><td>1</td><td>-1</td><td></td></tr>\n",
       "<tr><td>1</td><td>1</td><td>11</td><td>1</td><td>-1</td><td></td></tr>\n",
       "<tr><td>2</td><td>2</td><td>8</td><td>1</td><td>-1</td><td></td></tr>\n",
       "<tr><td>3</td><td>3</td><td>10</td><td>1</td><td>-1</td><td></td></tr>\n",
       "\n",
       "                    </tbody>\n",
       "                </table>\n",
       "            </div>\n",
       "        "
      ],
      "text/plain": [
       "<tskit.tables.MutationTable at 0x1299bacf8>"
      ]
     },
     "execution_count": 24,
     "metadata": {},
     "output_type": "execute_result"
    }
   ],
   "source": [
    "treeseq_example.tables.mutations"
   ]
  },
  {
   "cell_type": "markdown",
   "metadata": {
    "slideshow": {
     "slide_type": "subslide"
    }
   },
   "source": [
    "The data in a table is itself stored as numpy arrays:"
   ]
  },
  {
   "cell_type": "code",
   "execution_count": 25,
   "metadata": {
    "slideshow": {
     "slide_type": "fragment"
    }
   },
   "outputs": [
    {
     "data": {
      "text/plain": [
       "array([0.  , 0.  , 0.  , 0.  , 0.  , 0.  , 0.5 , 0.5 , 0.75, 1.5 , 1.5 ,\n",
       "       1.75, 2.5 ])"
      ]
     },
     "execution_count": 25,
     "metadata": {},
     "output_type": "execute_result"
    }
   ],
   "source": [
    "treeseq_example.tables.nodes.time"
   ]
  },
  {
   "cell_type": "markdown",
   "metadata": {
    "slideshow": {
     "slide_type": "subslide"
    }
   },
   "source": [
    "We can also use the $\\texttt{tskit}$ C API to work with tree sequences. Here we show a snippet from a Wright-Fisher simulator:"
   ]
  },
  {
   "cell_type": "markdown",
   "metadata": {
    "slideshow": {
     "slide_type": "fragment"
    }
   },
   "source": [
    "```C\n",
    "child = tsk_node_table_add_row(&tables->nodes, \n",
    "   0, t, TSK_NULL, TSK_NULL, NULL, 0);\n",
    "left_parent = parents[gsl_rng_uniform_int(rng, N)];\n",
    "right_parent = parents[gsl_rng_uniform_int(rng, N)];\n",
    "breakpoint = gsl_rng_uniform(rng);\n",
    "tsk_edge_table_add_row(&tables->edges, 0, breakpoint, left_parent, child);\n",
    "tsk_edge_table_add_row(&tables->edges, breakpoint, 1, right_parent, child);\n",
    "```"
   ]
  },
  {
   "cell_type": "markdown",
   "metadata": {},
   "source": [
    "# 2. Tree Sequence Statistics\n",
    "1. [tskit Python API](#ts)\n",
    "2. [Tree Sequence Statistics</span>](#statistics)\n",
    "3. [msprime Simulations</span>](#msprime)\n"
   ]
  },
  {
   "cell_type": "markdown",
   "metadata": {},
   "source": [
    "We can easily calculate a variety of statistics with tskit"
   ]
  },
  {
   "cell_type": "code",
   "execution_count": 26,
   "metadata": {},
   "outputs": [
    {
     "data": {
      "image/svg+xml": [
       "<svg baseProfile=\"full\" height=\"200\" version=\"1.1\" width=\"600\" xmlns=\"http://www.w3.org/2000/svg\" xmlns:ev=\"http://www.w3.org/2001/xml-events\" xmlns:xlink=\"http://www.w3.org/1999/xlink\"><defs><g id=\"tree_0\"><g fill=\"none\" id=\"edges\" stroke=\"black\"><path d=\"M 45.714285714285715 118.0 V 30.0 H 73.98809523809524\" id=\"edge_0_7\"/><path d=\"M 33.80952380952381 140.0 V 118.0 H 45.714285714285715\" id=\"edge_0_0\"/><path d=\"M 57.61904761904762 140.0 V 118.0 H 45.714285714285715\" id=\"edge_0_1\"/><path d=\"M 102.26190476190476 63.0 V 30.0 H 73.98809523809524\" id=\"edge_0_11\"/><path d=\"M 81.42857142857143 140.0 V 63.0 H 102.26190476190476\" id=\"edge_0_2\"/><path d=\"M 123.09523809523809 74.0 V 63.0 H 102.26190476190476\" id=\"edge_0_9\"/><path d=\"M 105.23809523809524 140.0 V 74.0 H 123.09523809523809\" id=\"edge_0_5\"/><path d=\"M 140.95238095238093 107.0 V 74.0 H 123.09523809523809\" id=\"edge_0_8\"/><path d=\"M 129.04761904761904 140.0 V 107.0 H 140.95238095238093\" id=\"edge_0_3\"/><path d=\"M 152.85714285714283 140.0 V 107.0 H 140.95238095238093\" id=\"edge_0_4\"/></g><g id=\"symbols\"><g class=\"nodes\"><circle cx=\"73.98809523809524\" cy=\"30.0\" id=\"node_0_12\" r=\"3\"/><circle cx=\"45.714285714285715\" cy=\"118.0\" id=\"node_0_7\" r=\"3\"/><circle cx=\"33.80952380952381\" cy=\"140.0\" id=\"node_0_0\" r=\"3\"/><circle cx=\"57.61904761904762\" cy=\"140.0\" id=\"node_0_1\" r=\"3\"/><circle cx=\"102.26190476190476\" cy=\"63.0\" id=\"node_0_11\" r=\"3\"/><circle cx=\"81.42857142857143\" cy=\"140.0\" id=\"node_0_2\" r=\"3\"/><circle cx=\"123.09523809523809\" cy=\"74.0\" id=\"node_0_9\" r=\"3\"/><circle cx=\"105.23809523809524\" cy=\"140.0\" id=\"node_0_5\" r=\"3\"/><circle cx=\"140.95238095238093\" cy=\"107.0\" id=\"node_0_8\" r=\"3\"/><circle cx=\"129.04761904761904\" cy=\"140.0\" id=\"node_0_3\" r=\"3\"/><circle cx=\"152.85714285714283\" cy=\"140.0\" id=\"node_0_4\" r=\"3\"/></g><g class=\"mutations\" fill=\"red\"><rect height=\"6\" transform=\"translate(-3, -3)\" width=\"6\" x=\"33.80952380952381\" y=\"129.0\"/><rect height=\"6\" transform=\"translate(-3, -3)\" width=\"6\" x=\"102.26190476190476\" y=\"46.5\"/></g></g><g font-size=\"14\" id=\"labels\"><g class=\"nodes\"><g text-anchor=\"start\"><text x=\"107.26190476190476\" y=\"58.0\">11</text><text x=\"128.09523809523807\" y=\"69.0\">9</text><text x=\"145.95238095238093\" y=\"102.0\">8</text></g><g text-anchor=\"middle\"><text x=\"73.98809523809524\" y=\"25.0\">12</text><text x=\"33.80952380952381\" y=\"160.0\">0</text><text x=\"57.61904761904762\" y=\"160.0\">1</text><text x=\"81.42857142857143\" y=\"160.0\">2</text><text x=\"105.23809523809524\" y=\"160.0\">5</text><text x=\"129.04761904761904\" y=\"160.0\">3</text><text x=\"152.85714285714283\" y=\"160.0\">4</text></g><g text-anchor=\"end\"><text x=\"40.714285714285715\" y=\"113.0\">7</text></g></g><g class=\"mutations\" font-style=\"italic\"><g text-anchor=\"start\"><text x=\"107.26190476190476\" y=\"50.5\">1</text></g><g text-anchor=\"end\"><text x=\"28.80952380952381\" y=\"133.0\">0</text></g></g></g></g><g id=\"tree_1\"><g fill=\"none\" id=\"edges\" stroke=\"black\"><path d=\"M 45.714285714285715 118.0 V 30.0 H 73.98809523809524\" id=\"edge_1_7\"/><path d=\"M 33.80952380952381 140.0 V 118.0 H 45.714285714285715\" id=\"edge_1_0\"/><path d=\"M 57.61904761904762 140.0 V 118.0 H 45.714285714285715\" id=\"edge_1_1\"/><path d=\"M 102.26190476190476 74.0 V 30.0 H 73.98809523809524\" id=\"edge_1_9\"/><path d=\"M 81.42857142857143 140.0 V 74.0 H 102.26190476190476\" id=\"edge_1_5\"/><path d=\"M 123.09523809523809 107.0 V 74.0 H 102.26190476190476\" id=\"edge_1_8\"/><path d=\"M 105.23809523809524 140.0 V 107.0 H 123.09523809523809\" id=\"edge_1_4\"/><path d=\"M 140.95238095238093 118.0 V 107.0 H 123.09523809523809\" id=\"edge_1_6\"/><path d=\"M 129.04761904761904 140.0 V 118.0 H 140.95238095238093\" id=\"edge_1_2\"/><path d=\"M 152.85714285714283 140.0 V 118.0 H 140.95238095238093\" id=\"edge_1_3\"/></g><g id=\"symbols\"><g class=\"nodes\"><circle cx=\"73.98809523809524\" cy=\"30.0\" id=\"node_1_12\" r=\"3\"/><circle cx=\"45.714285714285715\" cy=\"118.0\" id=\"node_1_7\" r=\"3\"/><circle cx=\"33.80952380952381\" cy=\"140.0\" id=\"node_1_0\" r=\"3\"/><circle cx=\"57.61904761904762\" cy=\"140.0\" id=\"node_1_1\" r=\"3\"/><circle cx=\"102.26190476190476\" cy=\"74.0\" id=\"node_1_9\" r=\"3\"/><circle cx=\"81.42857142857143\" cy=\"140.0\" id=\"node_1_5\" r=\"3\"/><circle cx=\"123.09523809523809\" cy=\"107.0\" id=\"node_1_8\" r=\"3\"/><circle cx=\"105.23809523809524\" cy=\"140.0\" id=\"node_1_4\" r=\"3\"/><circle cx=\"140.95238095238093\" cy=\"118.0\" id=\"node_1_6\" r=\"3\"/><circle cx=\"129.04761904761904\" cy=\"140.0\" id=\"node_1_2\" r=\"3\"/><circle cx=\"152.85714285714283\" cy=\"140.0\" id=\"node_1_3\" r=\"3\"/></g><g class=\"mutations\" fill=\"red\"><rect height=\"6\" transform=\"translate(-3, -3)\" width=\"6\" x=\"123.09523809523809\" y=\"90.5\"/></g></g><g font-size=\"14\" id=\"labels\"><g class=\"nodes\"><g text-anchor=\"start\"><text x=\"107.26190476190476\" y=\"69.0\">9</text><text x=\"128.09523809523807\" y=\"102.0\">8</text><text x=\"145.95238095238093\" y=\"113.0\">6</text></g><g text-anchor=\"middle\"><text x=\"73.98809523809524\" y=\"25.0\">12</text><text x=\"33.80952380952381\" y=\"160.0\">0</text><text x=\"57.61904761904762\" y=\"160.0\">1</text><text x=\"81.42857142857143\" y=\"160.0\">5</text><text x=\"105.23809523809524\" y=\"160.0\">4</text><text x=\"129.04761904761904\" y=\"160.0\">2</text><text x=\"152.85714285714283\" y=\"160.0\">3</text></g><g text-anchor=\"end\"><text x=\"40.714285714285715\" y=\"113.0\">7</text></g></g><g class=\"mutations\" font-style=\"italic\"><g text-anchor=\"start\"><text x=\"128.09523809523807\" y=\"94.5\">2</text></g><g text-anchor=\"end\"/></g></g></g><g id=\"tree_2\"><g fill=\"none\" id=\"edges\" stroke=\"black\"><path d=\"M 51.666666666666664 74.0 V 30.0 H 87.38095238095238\" id=\"edge_2_9\"/><path d=\"M 33.80952380952381 140.0 V 74.0 H 51.666666666666664\" id=\"edge_2_5\"/><path d=\"M 69.52380952380952 107.0 V 74.0 H 51.666666666666664\" id=\"edge_2_8\"/><path d=\"M 57.61904761904762 140.0 V 107.0 H 69.52380952380952\" id=\"edge_2_4\"/><path d=\"M 81.42857142857143 140.0 V 107.0 H 69.52380952380952\" id=\"edge_2_2\"/><path d=\"M 123.09523809523809 74.0 V 30.0 H 87.38095238095238\" id=\"edge_2_10\"/><path d=\"M 105.23809523809524 140.0 V 74.0 H 123.09523809523809\" id=\"edge_2_3\"/><path d=\"M 140.95238095238093 118.0 V 74.0 H 123.09523809523809\" id=\"edge_2_7\"/><path d=\"M 129.04761904761904 140.0 V 118.0 H 140.95238095238093\" id=\"edge_2_0\"/><path d=\"M 152.85714285714283 140.0 V 118.0 H 140.95238095238093\" id=\"edge_2_1\"/></g><g id=\"symbols\"><g class=\"nodes\"><circle cx=\"87.38095238095238\" cy=\"30.0\" id=\"node_2_12\" r=\"3\"/><circle cx=\"51.666666666666664\" cy=\"74.0\" id=\"node_2_9\" r=\"3\"/><circle cx=\"33.80952380952381\" cy=\"140.0\" id=\"node_2_5\" r=\"3\"/><circle cx=\"69.52380952380952\" cy=\"107.0\" id=\"node_2_8\" r=\"3\"/><circle cx=\"57.61904761904762\" cy=\"140.0\" id=\"node_2_4\" r=\"3\"/><circle cx=\"81.42857142857143\" cy=\"140.0\" id=\"node_2_2\" r=\"3\"/><circle cx=\"123.09523809523809\" cy=\"74.0\" id=\"node_2_10\" r=\"3\"/><circle cx=\"105.23809523809524\" cy=\"140.0\" id=\"node_2_3\" r=\"3\"/><circle cx=\"140.95238095238093\" cy=\"118.0\" id=\"node_2_7\" r=\"3\"/><circle cx=\"129.04761904761904\" cy=\"140.0\" id=\"node_2_0\" r=\"3\"/><circle cx=\"152.85714285714283\" cy=\"140.0\" id=\"node_2_1\" r=\"3\"/></g><g class=\"mutations\" fill=\"red\"><rect height=\"6\" transform=\"translate(-3, -3)\" width=\"6\" x=\"123.09523809523809\" y=\"52.0\"/></g></g><g font-size=\"14\" id=\"labels\"><g class=\"nodes\"><g text-anchor=\"start\"><text x=\"74.52380952380952\" y=\"102.0\">8</text><text x=\"128.09523809523807\" y=\"69.0\">10</text><text x=\"145.95238095238093\" y=\"113.0\">7</text></g><g text-anchor=\"middle\"><text x=\"87.38095238095238\" y=\"25.0\">12</text><text x=\"33.80952380952381\" y=\"160.0\">5</text><text x=\"57.61904761904762\" y=\"160.0\">4</text><text x=\"81.42857142857143\" y=\"160.0\">2</text><text x=\"105.23809523809524\" y=\"160.0\">3</text><text x=\"129.04761904761904\" y=\"160.0\">0</text><text x=\"152.85714285714283\" y=\"160.0\">1</text></g><g text-anchor=\"end\"><text x=\"46.666666666666664\" y=\"69.0\">9</text></g></g><g class=\"mutations\" font-style=\"italic\"><g text-anchor=\"start\"><text x=\"128.09523809523807\" y=\"56.0\">3</text></g><g text-anchor=\"end\"/></g></g></g></defs><use x=\"20\" xlink:href=\"#tree_0\" y=\"15\"/><use x=\"206.66666666666666\" xlink:href=\"#tree_1\" y=\"15\"/><use x=\"393.3333333333333\" xlink:href=\"#tree_2\" y=\"15\"/><line stroke=\"black\" x1=\"20\" x2=\"580\" y1=\"180\" y2=\"180\"/><line stroke=\"black\" x1=\"20\" x2=\"20\" y1=\"175\" y2=\"185\"/><text font-size=\"14\" font-weight=\"bold\" text-anchor=\"middle\" x=\"20\" y=\"200\">0.00</text><line stroke=\"black\" x1=\"206.66666666666666\" x2=\"206.66666666666666\" y1=\"175\" y2=\"185\"/><text font-size=\"14\" font-weight=\"bold\" text-anchor=\"middle\" x=\"206.66666666666666\" y=\"200\">15.00</text><line stroke=\"black\" x1=\"393.3333333333333\" x2=\"393.3333333333333\" y1=\"175\" y2=\"185\"/><text font-size=\"14\" font-weight=\"bold\" text-anchor=\"middle\" x=\"393.3333333333333\" y=\"200\">30.00</text><line stroke=\"black\" x1=\"580.0\" x2=\"580.0\" y1=\"175\" y2=\"185\"/><text font-size=\"14\" font-weight=\"bold\" text-anchor=\"middle\" x=\"580.0\" y=\"200\">50.00</text></svg>"
      ],
      "text/plain": [
       "<IPython.core.display.SVG object>"
      ]
     },
     "execution_count": 26,
     "metadata": {},
     "output_type": "execute_result"
    }
   ],
   "source": [
    "SVG(treeseq_example.draw_svg())"
   ]
  },
  {
   "cell_type": "code",
   "execution_count": 27,
   "metadata": {},
   "outputs": [
    {
     "data": {
      "text/plain": [
       "array([0., 1., 0., 2., 1., 0., 0.])"
      ]
     },
     "execution_count": 27,
     "metadata": {},
     "output_type": "execute_result"
    }
   ],
   "source": [
    "treeseq_example.allele_frequency_spectrum(span_normalise=False, polarised=True)"
   ]
  },
  {
   "cell_type": "code",
   "execution_count": 28,
   "metadata": {},
   "outputs": [
    {
     "data": {
      "text/plain": [
       "2.066666666666667"
      ]
     },
     "execution_count": 28,
     "metadata": {},
     "output_type": "execute_result"
    }
   ],
   "source": [
    "treeseq_example.pairwise_diversity()"
   ]
  },
  {
   "cell_type": "markdown",
   "metadata": {},
   "source": [
    "For a complete list of statistics implemented in tskit, see: https://tskit.readthedocs.io/en/latest/stats.html"
   ]
  },
  {
   "cell_type": "markdown",
   "metadata": {},
   "source": [
    "# Parsimony"
   ]
  },
  {
   "cell_type": "markdown",
   "metadata": {},
   "source": [
    "The Tree.map_mutations() method finds a parsimonious explanation for a set of discrete character observations on the samples in a tree using classical phylogenetic algorithms."
   ]
  },
  {
   "cell_type": "code",
   "execution_count": 29,
   "metadata": {},
   "outputs": [
    {
     "name": "stdout",
     "output_type": "stream",
     "text": [
      "Ancestral state =  red\n",
      "Mutation: node = 5 derived_state = green\n",
      "Mutation: node = 4 derived_state = blue\n"
     ]
    },
    {
     "data": {
      "image/svg+xml": [
       "<svg baseProfile=\"full\" height=\"200\" version=\"1.1\" width=\"200\" xmlns=\"http://www.w3.org/2000/svg\" xmlns:ev=\"http://www.w3.org/2001/xml-events\" xmlns:xlink=\"http://www.w3.org/1999/xlink\"><defs/><g id=\"tree_0\"><g fill=\"none\" id=\"edges\" stroke=\"black\"><path d=\"M 48.57142857142857 154.32155899325562 V 30.0 H 79.10714285714286\" id=\"edge_0_7\"/><path d=\"M 35.714285714285715 170.0 V 154.32155899325562 H 48.57142857142857\" id=\"edge_0_2\"/><path d=\"M 61.42857142857143 170.0 V 154.32155899325562 H 48.57142857142857\" id=\"edge_0_3\"/><path d=\"M 109.64285714285715 48.19960630655906 V 30.0 H 79.10714285714286\" id=\"edge_0_9\"/><path d=\"M 87.14285714285714 170.0 V 48.19960630655906 H 109.64285714285715\" id=\"edge_0_5\"/><path d=\"M 132.14285714285717 108.0438813219724 V 48.19960630655906 H 109.64285714285715\" id=\"edge_0_8\"/><path d=\"M 112.85714285714286 170.0 V 108.0438813219724 H 132.14285714285717\" id=\"edge_0_4\"/><path d=\"M 151.42857142857144 160.48499301036108 V 108.0438813219724 H 132.14285714285717\" id=\"edge_0_6\"/><path d=\"M 138.57142857142858 170.0 V 160.48499301036108 H 151.42857142857144\" id=\"edge_0_0\"/><path d=\"M 164.2857142857143 170.0 V 160.48499301036108 H 151.42857142857144\" id=\"edge_0_1\"/></g><g id=\"symbols\"><g class=\"nodes\"><circle cx=\"79.10714285714286\" cy=\"30.0\" id=\"node_0_10\" r=\"3\"/><circle cx=\"48.57142857142857\" cy=\"154.32155899325562\" id=\"node_0_7\" r=\"3\"/><circle cx=\"35.714285714285715\" cy=\"170.0\" fill=\"red\" id=\"node_0_2\" r=\"3\"/><circle cx=\"61.42857142857143\" cy=\"170.0\" fill=\"red\" id=\"node_0_3\" r=\"3\"/><circle cx=\"109.64285714285715\" cy=\"48.19960630655906\" id=\"node_0_9\" r=\"3\"/><circle cx=\"87.14285714285714\" cy=\"170.0\" fill=\"green\" id=\"node_0_5\" r=\"3\"/><circle cx=\"132.14285714285717\" cy=\"108.0438813219724\" id=\"node_0_8\" r=\"3\"/><circle cx=\"112.85714285714286\" cy=\"170.0\" fill=\"blue\" id=\"node_0_4\" r=\"3\"/><circle cx=\"151.42857142857144\" cy=\"160.48499301036108\" id=\"node_0_6\" r=\"3\"/><circle cx=\"138.57142857142858\" cy=\"170.0\" fill=\"red\" id=\"node_0_0\" r=\"3\"/><circle cx=\"164.2857142857143\" cy=\"170.0\" fill=\"red\" id=\"node_0_1\" r=\"3\"/></g><g class=\"mutations\" fill=\"red\"/></g><g font-size=\"14\" id=\"labels\"><g class=\"nodes\"><g text-anchor=\"start\"><text x=\"114.64285714285715\" y=\"43.19960630655906\">9</text><text x=\"137.14285714285717\" y=\"103.0438813219724\">8</text><text x=\"156.42857142857144\" y=\"155.48499301036108\">6</text></g><g text-anchor=\"middle\"><text x=\"79.10714285714286\" y=\"25.0\">10</text><text x=\"35.714285714285715\" y=\"190.0\">2</text><text x=\"61.42857142857143\" y=\"190.0\">3</text><text x=\"87.14285714285714\" y=\"190.0\">5</text><text x=\"112.85714285714286\" y=\"190.0\">4</text><text x=\"138.57142857142858\" y=\"190.0\">0</text><text x=\"164.2857142857143\" y=\"190.0\">1</text></g><g text-anchor=\"end\"><text x=\"43.57142857142857\" y=\"149.32155899325562\">7</text></g></g><g class=\"mutations\" font-style=\"italic\"><g text-anchor=\"start\"/><g text-anchor=\"end\"/></g></g></g></svg>"
      ],
      "text/plain": [
       "<IPython.core.display.SVG object>"
      ]
     },
     "execution_count": 29,
     "metadata": {},
     "output_type": "execute_result"
    }
   ],
   "source": [
    "tree = msprime.simulate(6, random_seed=42).first()\n",
    "alleles = [\"red\", \"blue\", \"green\"]\n",
    "genotypes = [0, 0, 0, 0, 1, 2]\n",
    "node_colours = {j: alleles[g] for j, g in enumerate(genotypes)}\n",
    "ancestral_state, mutations = tree.map_mutations(genotypes, alleles)\n",
    "print(\"Ancestral state = \", ancestral_state)\n",
    "for mut in mutations:\n",
    "    print(f\"Mutation: node = {mut.node} derived_state = {mut.derived_state}\")\n",
    "SVG(tree.draw(node_colours=node_colours))"
   ]
  },
  {
   "cell_type": "markdown",
   "metadata": {},
   "source": [
    "So, the algorithm has concluded, quite reasonably, that the most parsimonious description of this state (i.e. the fewest number of transitions) is that the ancestral state is red and there was a mutation to blue and green over nodes 4 and 5."
   ]
  },
  {
   "cell_type": "markdown",
   "metadata": {
    "slideshow": {
     "slide_type": "slide"
    }
   },
   "source": [
    "## Genealogical Nearest Neighbours\n",
    "A useful, topology-based metric for understanding population level relationships from a tree sequence is genealogical nearest neighbours. \n"
   ]
  },
  {
   "cell_type": "markdown",
   "metadata": {
    "slideshow": {
     "slide_type": "fragment"
    }
   },
   "source": [
    "Given K sets of reference nodes (e.g., the samples for each of the 15 populations of clonal *vivax* samples), the GNN statistic for a specific node is a K-vector describing the proportion of its immediate neighbours within the tree from each of these reference sets. <br>\n",
    "Here is an example from the small example we've been working with."
   ]
  },
  {
   "cell_type": "code",
   "execution_count": null,
   "metadata": {
    "slideshow": {
     "slide_type": "subslide"
    }
   },
   "outputs": [],
   "source": [
    "# Define a reference set for each individual\n",
    "reference_sets = [[0,1],[2,3],[4,5]]\n",
    "pd.DataFrame(treeseq_example.genealogical_nearest_neighbours(treeseq_example.samples(),reference_sets),\n",
    "             columns=[\"Individual_A\",\"Individual_B\",\"Individual_C\"])\n"
   ]
  },
  {
   "cell_type": "markdown",
   "metadata": {
    "slideshow": {
     "slide_type": "fragment"
    }
   },
   "source": [
    "<img src=\"figures/original_trees.png\" width=700px>\n"
   ]
  },
  {
   "cell_type": "markdown",
   "metadata": {
    "slideshow": {
     "slide_type": "subslide"
    }
   },
   "source": [
    "Think of this as looking at the most recent ancestor of each sample and determining what population the other daughter sample(s) of that node came from.  \n",
    "<br>\n",
    "\n"
   ]
  },
  {
   "cell_type": "markdown",
   "metadata": {
    "slideshow": {
     "slide_type": "slide"
    }
   },
   "source": [
    "# 3. msprime Simulations\n",
    "\n",
    "1. [tskit Python API](#ts)\n",
    "2. [Tree Sequence Statistics</span>](#statistics)\n",
    "3. [msprime Simulations</span>](#msprime)"
   ]
  },
  {
   "cell_type": "markdown",
   "metadata": {
    "slideshow": {
     "slide_type": "subslide"
    }
   },
   "source": [
    "Tree sequences can be simulated using either a coalescent simulator, $\\texttt{msprime}$, or a fowards time simulator, $\\texttt{SLiM}$."
   ]
  },
  {
   "cell_type": "markdown",
   "metadata": {
    "slideshow": {
     "slide_type": "subslide"
    }
   },
   "source": [
    "## Reverse-time simulations with $\\texttt{msprime}$\n",
    "The $\\texttt{msprime}$ program is an efficient reimplementation of Hudson's $\\texttt{ms}$ simulator which outputs coalescent trees using the tree sequence format. The easiest way to use it is through the Python API, which is well documented at https://msprime.readthedocs.io/en/stable/api.html. The citation is as follows: <br> Kelleher, Jerome, Alison M. Etheridge, and Gilean McVean. \"Efficient coalescent simulation and genealogical analysis for large sample sizes.\" PLoS computational biology 12.5 (2016): e1004842."
   ]
  },
  {
   "cell_type": "markdown",
   "metadata": {
    "slideshow": {
     "slide_type": "fragment"
    }
   },
   "source": [
    "Running simulations is very straightforward, and produces trees with branch lengths as expected under the full coalescent."
   ]
  },
  {
   "cell_type": "code",
   "execution_count": 30,
   "metadata": {
    "slideshow": {
     "slide_type": "subslide"
    }
   },
   "outputs": [
    {
     "name": "stdout",
     "output_type": "stream",
     "text": [
      "Number of Trees: 1\n"
     ]
    }
   ],
   "source": [
    "# simulate the coalescent for 6 samples, with effective population size of 10,000\n",
    "# since the recombination rate defaults to zero, we should have only one tree\n",
    "singular_tree_seq = msprime.simulate(sample_size=6, Ne=10000, random_seed=10)\n",
    "\n",
    "# check there is only one tree in this ts\n",
    "print(\"Number of Trees:\",singular_tree_seq.num_trees)"
   ]
  },
  {
   "cell_type": "code",
   "execution_count": 31,
   "metadata": {
    "slideshow": {
     "slide_type": "subslide"
    }
   },
   "outputs": [
    {
     "data": {
      "image/svg+xml": [
       "<svg baseProfile=\"full\" height=\"200\" version=\"1.1\" width=\"200\" xmlns=\"http://www.w3.org/2000/svg\" xmlns:ev=\"http://www.w3.org/2001/xml-events\" xmlns:xlink=\"http://www.w3.org/1999/xlink\"><defs/><g id=\"tree_0\"><g fill=\"none\" id=\"edges\" stroke=\"black\"><path d=\"M 35.714285714285715 170.0 V 30.0 H 69.46428571428572\" id=\"edge_0_2\"/><path d=\"M 103.21428571428572 63.98036497314585 V 30.0 H 69.46428571428572\" id=\"edge_0_9\"/><path d=\"M 74.28571428571428 154.85723928910372 V 63.98036497314585 H 103.21428571428572\" id=\"edge_0_6\"/><path d=\"M 61.42857142857143 170.0 V 154.85723928910372 H 74.28571428571428\" id=\"edge_0_4\"/><path d=\"M 87.14285714285714 170.0 V 154.85723928910372 H 74.28571428571428\" id=\"edge_0_5\"/><path d=\"M 132.14285714285717 108.90473417056447 V 63.98036497314585 H 103.21428571428572\" id=\"edge_0_8\"/><path d=\"M 112.85714285714286 170.0 V 108.90473417056447 H 132.14285714285717\" id=\"edge_0_0\"/><path d=\"M 151.42857142857144 144.35199946017312 V 108.90473417056447 H 132.14285714285717\" id=\"edge_0_7\"/><path d=\"M 138.57142857142858 170.0 V 144.35199946017312 H 151.42857142857144\" id=\"edge_0_1\"/><path d=\"M 164.2857142857143 170.0 V 144.35199946017312 H 151.42857142857144\" id=\"edge_0_3\"/></g><g id=\"symbols\"><g class=\"nodes\"><circle cx=\"69.46428571428572\" cy=\"30.0\" id=\"node_0_10\" r=\"3\"/><circle cx=\"35.714285714285715\" cy=\"170.0\" id=\"node_0_2\" r=\"3\"/><circle cx=\"103.21428571428572\" cy=\"63.98036497314585\" id=\"node_0_9\" r=\"3\"/><circle cx=\"74.28571428571428\" cy=\"154.85723928910372\" id=\"node_0_6\" r=\"3\"/><circle cx=\"61.42857142857143\" cy=\"170.0\" id=\"node_0_4\" r=\"3\"/><circle cx=\"87.14285714285714\" cy=\"170.0\" id=\"node_0_5\" r=\"3\"/><circle cx=\"132.14285714285717\" cy=\"108.90473417056447\" id=\"node_0_8\" r=\"3\"/><circle cx=\"112.85714285714286\" cy=\"170.0\" id=\"node_0_0\" r=\"3\"/><circle cx=\"151.42857142857144\" cy=\"144.35199946017312\" id=\"node_0_7\" r=\"3\"/><circle cx=\"138.57142857142858\" cy=\"170.0\" id=\"node_0_1\" r=\"3\"/><circle cx=\"164.2857142857143\" cy=\"170.0\" id=\"node_0_3\" r=\"3\"/></g><g class=\"mutations\" fill=\"red\"/></g><g font-size=\"14\" id=\"labels\"><g class=\"nodes\"><g text-anchor=\"start\"><text x=\"108.21428571428572\" y=\"58.98036497314585\">9</text><text x=\"137.14285714285717\" y=\"103.90473417056447\">8</text><text x=\"156.42857142857144\" y=\"139.35199946017312\">7</text></g><g text-anchor=\"middle\"><text x=\"69.46428571428572\" y=\"25.0\">10</text><text x=\"35.714285714285715\" y=\"190.0\">2</text><text x=\"61.42857142857143\" y=\"190.0\">4</text><text x=\"87.14285714285714\" y=\"190.0\">5</text><text x=\"112.85714285714286\" y=\"190.0\">0</text><text x=\"138.57142857142858\" y=\"190.0\">1</text><text x=\"164.2857142857143\" y=\"190.0\">3</text></g><g text-anchor=\"end\"><text x=\"69.28571428571428\" y=\"149.85723928910372\">6</text></g></g><g class=\"mutations\" font-style=\"italic\"><g text-anchor=\"start\"/><g text-anchor=\"end\"/></g></g></g></svg>"
      ],
      "text/plain": [
       "<IPython.core.display.SVG object>"
      ]
     },
     "execution_count": 31,
     "metadata": {},
     "output_type": "execute_result"
    }
   ],
   "source": [
    "#take the first (only) tree and visualize\n",
    "first_tree=singular_tree_seq.first()\n",
    "SVG(first_tree.draw())"
   ]
  },
  {
   "cell_type": "markdown",
   "metadata": {
    "slideshow": {
     "slide_type": "subslide"
    }
   },
   "source": [
    "The `simulate()` function returns a standard `TreeSequence` object. Here there is only one tree because we have not provided a value for recombination_rate, which therefore defaults to zero. We can access the first (and only) tree in this sequence using `first()` method of a `TreeSequence` object."
   ]
  },
  {
   "cell_type": "markdown",
   "metadata": {
    "slideshow": {
     "slide_type": "fragment"
    }
   },
   "source": [
    "\n",
    "We can also obtain the length of a branch joining a node to its parent using the `branch_length()` method; the total branch length in the tree is also stored in the `total_branch_length` attribute: "
   ]
  },
  {
   "cell_type": "code",
   "execution_count": 32,
   "metadata": {
    "slideshow": {
     "slide_type": "fragment"
    }
   },
   "outputs": [
    {
     "name": "stdout",
     "output_type": "stream",
     "text": [
      "Branch length above node 7 is 4605.0710027482955\n",
      "Total branch length in tree is 63385.43180380048\n"
     ]
    }
   ],
   "source": [
    "node = 7\n",
    "print(\"Branch length above node\", node, \"is\", first_tree.branch_length(node))\n",
    "print(\"Total branch length in tree is\", first_tree.total_branch_length)"
   ]
  },
  {
   "cell_type": "markdown",
   "metadata": {
    "slideshow": {
     "slide_type": "subslide"
    }
   },
   "source": [
    "We can do the standard tree traverals using the ``nodes`` iterator:"
   ]
  },
  {
   "cell_type": "code",
   "execution_count": 33,
   "metadata": {
    "slideshow": {
     "slide_type": "fragment"
    }
   },
   "outputs": [
    {
     "data": {
      "image/svg+xml": [
       "<svg baseProfile=\"full\" height=\"200\" version=\"1.1\" width=\"200\" xmlns=\"http://www.w3.org/2000/svg\" xmlns:ev=\"http://www.w3.org/2001/xml-events\" xmlns:xlink=\"http://www.w3.org/1999/xlink\"><defs/><g id=\"tree_0\"><g fill=\"none\" id=\"edges\" stroke=\"black\"><path d=\"M 35.714285714285715 170.0 V 30.0 H 69.46428571428572\" id=\"edge_0_2\"/><path d=\"M 103.21428571428572 63.98036497314585 V 30.0 H 69.46428571428572\" id=\"edge_0_9\"/><path d=\"M 74.28571428571428 154.85723928910372 V 63.98036497314585 H 103.21428571428572\" id=\"edge_0_6\"/><path d=\"M 61.42857142857143 170.0 V 154.85723928910372 H 74.28571428571428\" id=\"edge_0_4\"/><path d=\"M 87.14285714285714 170.0 V 154.85723928910372 H 74.28571428571428\" id=\"edge_0_5\"/><path d=\"M 132.14285714285717 108.90473417056447 V 63.98036497314585 H 103.21428571428572\" id=\"edge_0_8\"/><path d=\"M 112.85714285714286 170.0 V 108.90473417056447 H 132.14285714285717\" id=\"edge_0_0\"/><path d=\"M 151.42857142857144 144.35199946017312 V 108.90473417056447 H 132.14285714285717\" id=\"edge_0_7\"/><path d=\"M 138.57142857142858 170.0 V 144.35199946017312 H 151.42857142857144\" id=\"edge_0_1\"/><path d=\"M 164.2857142857143 170.0 V 144.35199946017312 H 151.42857142857144\" id=\"edge_0_3\"/></g><g id=\"symbols\"><g class=\"nodes\"><circle cx=\"69.46428571428572\" cy=\"30.0\" id=\"node_0_10\" r=\"3\"/><circle cx=\"35.714285714285715\" cy=\"170.0\" id=\"node_0_2\" r=\"3\"/><circle cx=\"103.21428571428572\" cy=\"63.98036497314585\" id=\"node_0_9\" r=\"3\"/><circle cx=\"74.28571428571428\" cy=\"154.85723928910372\" id=\"node_0_6\" r=\"3\"/><circle cx=\"61.42857142857143\" cy=\"170.0\" id=\"node_0_4\" r=\"3\"/><circle cx=\"87.14285714285714\" cy=\"170.0\" id=\"node_0_5\" r=\"3\"/><circle cx=\"132.14285714285717\" cy=\"108.90473417056447\" id=\"node_0_8\" r=\"3\"/><circle cx=\"112.85714285714286\" cy=\"170.0\" id=\"node_0_0\" r=\"3\"/><circle cx=\"151.42857142857144\" cy=\"144.35199946017312\" id=\"node_0_7\" r=\"3\"/><circle cx=\"138.57142857142858\" cy=\"170.0\" id=\"node_0_1\" r=\"3\"/><circle cx=\"164.2857142857143\" cy=\"170.0\" id=\"node_0_3\" r=\"3\"/></g><g class=\"mutations\" fill=\"red\"/></g><g font-size=\"14\" id=\"labels\"><g class=\"nodes\"><g text-anchor=\"start\"><text x=\"108.21428571428572\" y=\"58.98036497314585\">9</text><text x=\"137.14285714285717\" y=\"103.90473417056447\">8</text><text x=\"156.42857142857144\" y=\"139.35199946017312\">7</text></g><g text-anchor=\"middle\"><text x=\"69.46428571428572\" y=\"25.0\">10</text><text x=\"35.714285714285715\" y=\"190.0\">2</text><text x=\"61.42857142857143\" y=\"190.0\">4</text><text x=\"87.14285714285714\" y=\"190.0\">5</text><text x=\"112.85714285714286\" y=\"190.0\">0</text><text x=\"138.57142857142858\" y=\"190.0\">1</text><text x=\"164.2857142857143\" y=\"190.0\">3</text></g><g text-anchor=\"end\"><text x=\"69.28571428571428\" y=\"149.85723928910372\">6</text></g></g><g class=\"mutations\" font-style=\"italic\"><g text-anchor=\"start\"/><g text-anchor=\"end\"/></g></g></g></svg>"
      ],
      "text/plain": [
       "<IPython.core.display.SVG object>"
      ]
     },
     "metadata": {},
     "output_type": "display_data"
    },
    {
     "name": "stdout",
     "output_type": "stream",
     "text": [
      "Default:\t [10, 2, 9, 6, 4, 5, 8, 0, 7, 1, 3]\n",
      "Preorder:\t [10, 2, 9, 6, 4, 5, 8, 0, 7, 1, 3]\n",
      "Inorder:\t [2, 10, 4, 6, 5, 9, 0, 8, 1, 7, 3]\n",
      "Postorder:\t [2, 4, 5, 6, 0, 1, 3, 7, 8, 9, 10]\n"
     ]
    }
   ],
   "source": [
    "display(SVG(first_tree.draw()))\n",
    "print(\"Default:\\t\", list(first_tree.nodes()))\n",
    "print(\"Preorder:\\t\", list(first_tree.nodes(order=\"preorder\")))\n",
    "print(\"Inorder:\\t\", list(first_tree.nodes(order=\"inorder\")))\n",
    "print(\"Postorder:\\t\", list(first_tree.nodes(order=\"postorder\")))"
   ]
  },
  {
   "cell_type": "markdown",
   "metadata": {
    "slideshow": {
     "slide_type": "subslide"
    }
   },
   "source": [
    "### Recombination\n",
    "We are most often interested in simulating the history of our sample across large genomic regions under the influence of recombination. The msprime API is specifically designed to make this common requirement both easy and efficient. "
   ]
  },
  {
   "cell_type": "markdown",
   "metadata": {
    "slideshow": {
     "slide_type": "fragment"
    }
   },
   "source": [
    "To model genomic sequences under the influence of recombination we have two parameters to the `simulate()` function. The length parameter specifies the length of the simulated sequence. The recombination_rate parameter specifies the rate of crossing over per unit of length per generation, and is zero by default.\n",
    "\n",
    "Here, we simulate the trees across over a 10kb region with a recombination rate of 2×10−8 per base per generation, with a diploid effective population size of 1000:"
   ]
  },
  {
   "cell_type": "code",
   "execution_count": 34,
   "metadata": {
    "slideshow": {
     "slide_type": "subslide"
    }
   },
   "outputs": [
    {
     "name": "stdout",
     "output_type": "stream",
     "text": [
      "--------------------\n",
      "tree 0: interval = (0.0, 6173.258988692718)\n"
     ]
    },
    {
     "data": {
      "image/svg+xml": [
       "<svg baseProfile=\"full\" height=\"200\" version=\"1.1\" width=\"200\" xmlns=\"http://www.w3.org/2000/svg\" xmlns:ev=\"http://www.w3.org/2001/xml-events\" xmlns:xlink=\"http://www.w3.org/1999/xlink\"><defs/><g id=\"tree_0\"><g fill=\"none\" id=\"edges\" stroke=\"black\"><path d=\"M 74.28571428571428 108.0361268149992 V 30.0 H 112.85714285714286\" id=\"edge_0_9\"/><path d=\"M 48.57142857142857 168.43718446645167 V 108.0361268149992 H 74.28571428571428\" id=\"edge_0_6\"/><path d=\"M 35.714285714285715 170.0 V 168.43718446645167 H 48.57142857142857\" id=\"edge_0_1\"/><path d=\"M 61.42857142857143 170.0 V 168.43718446645167 H 48.57142857142857\" id=\"edge_0_4\"/><path d=\"M 100.0 119.0916780314106 V 108.0361268149992 H 74.28571428571428\" id=\"edge_0_7\"/><path d=\"M 87.14285714285714 170.0 V 119.0916780314106 H 100.0\" id=\"edge_0_3\"/><path d=\"M 112.85714285714286 170.0 V 119.0916780314106 H 100.0\" id=\"edge_0_5\"/><path d=\"M 151.42857142857144 73.5873797858969 V 30.0 H 112.85714285714286\" id=\"edge_0_10\"/><path d=\"M 138.57142857142858 170.0 V 73.5873797858969 H 151.42857142857144\" id=\"edge_0_0\"/><path d=\"M 164.2857142857143 170.0 V 73.5873797858969 H 151.42857142857144\" id=\"edge_0_2\"/></g><g id=\"symbols\"><g class=\"nodes\"><circle cx=\"112.85714285714286\" cy=\"30.0\" id=\"node_0_11\" r=\"3\"/><circle cx=\"74.28571428571428\" cy=\"108.0361268149992\" id=\"node_0_9\" r=\"3\"/><circle cx=\"48.57142857142857\" cy=\"168.43718446645167\" id=\"node_0_6\" r=\"3\"/><circle cx=\"35.714285714285715\" cy=\"170.0\" id=\"node_0_1\" r=\"3\"/><circle cx=\"61.42857142857143\" cy=\"170.0\" id=\"node_0_4\" r=\"3\"/><circle cx=\"100.0\" cy=\"119.0916780314106\" id=\"node_0_7\" r=\"3\"/><circle cx=\"87.14285714285714\" cy=\"170.0\" id=\"node_0_3\" r=\"3\"/><circle cx=\"112.85714285714286\" cy=\"170.0\" id=\"node_0_5\" r=\"3\"/><circle cx=\"151.42857142857144\" cy=\"73.5873797858969\" id=\"node_0_10\" r=\"3\"/><circle cx=\"138.57142857142858\" cy=\"170.0\" id=\"node_0_0\" r=\"3\"/><circle cx=\"164.2857142857143\" cy=\"170.0\" id=\"node_0_2\" r=\"3\"/></g><g class=\"mutations\" fill=\"red\"/></g><g font-size=\"14\" id=\"labels\"><g class=\"nodes\"><g text-anchor=\"start\"><text x=\"105.0\" y=\"114.0916780314106\">7</text><text x=\"156.42857142857144\" y=\"68.5873797858969\">10</text></g><g text-anchor=\"middle\"><text x=\"112.85714285714286\" y=\"25.0\">11</text><text x=\"35.714285714285715\" y=\"190.0\">1</text><text x=\"61.42857142857143\" y=\"190.0\">4</text><text x=\"87.14285714285714\" y=\"190.0\">3</text><text x=\"112.85714285714286\" y=\"190.0\">5</text><text x=\"138.57142857142858\" y=\"190.0\">0</text><text x=\"164.2857142857143\" y=\"190.0\">2</text></g><g text-anchor=\"end\"><text x=\"69.28571428571428\" y=\"103.0361268149992\">9</text><text x=\"43.57142857142857\" y=\"163.43718446645167\">6</text></g></g><g class=\"mutations\" font-style=\"italic\"><g text-anchor=\"start\"/><g text-anchor=\"end\"/></g></g></g></svg>"
      ],
      "text/plain": [
       "<IPython.core.display.SVG object>"
      ]
     },
     "metadata": {},
     "output_type": "display_data"
    },
    {
     "name": "stdout",
     "output_type": "stream",
     "text": [
      "--------------------\n",
      "tree 1: interval = (6173.258988692718, 10000.0)\n"
     ]
    },
    {
     "data": {
      "image/svg+xml": [
       "<svg baseProfile=\"full\" height=\"200\" version=\"1.1\" width=\"200\" xmlns=\"http://www.w3.org/2000/svg\" xmlns:ev=\"http://www.w3.org/2001/xml-events\" xmlns:xlink=\"http://www.w3.org/1999/xlink\"><defs/><g id=\"tree_1\"><g fill=\"none\" id=\"edges\" stroke=\"black\"><path d=\"M 77.5 108.0361268149992 V 30.0 H 120.89285714285715\" id=\"edge_1_9\"/><path d=\"M 48.57142857142857 119.0916780314106 V 108.0361268149992 H 77.5\" id=\"edge_1_7\"/><path d=\"M 35.714285714285715 170.0 V 119.0916780314106 H 48.57142857142857\" id=\"edge_1_3\"/><path d=\"M 61.42857142857143 170.0 V 119.0916780314106 H 48.57142857142857\" id=\"edge_1_5\"/><path d=\"M 106.42857142857143 112.77118071311742 V 108.0361268149992 H 77.5\" id=\"edge_1_8\"/><path d=\"M 87.14285714285714 170.0 V 112.77118071311742 H 106.42857142857143\" id=\"edge_1_2\"/><path d=\"M 125.71428571428572 168.43718446645167 V 112.77118071311742 H 106.42857142857143\" id=\"edge_1_6\"/><path d=\"M 112.85714285714286 170.0 V 168.43718446645167 H 125.71428571428572\" id=\"edge_1_1\"/><path d=\"M 138.57142857142858 170.0 V 168.43718446645167 H 125.71428571428572\" id=\"edge_1_4\"/><path d=\"M 164.2857142857143 170.0 V 30.0 H 120.89285714285715\" id=\"edge_1_0\"/></g><g id=\"symbols\"><g class=\"nodes\"><circle cx=\"120.89285714285715\" cy=\"30.0\" id=\"node_1_11\" r=\"3\"/><circle cx=\"77.5\" cy=\"108.0361268149992\" id=\"node_1_9\" r=\"3\"/><circle cx=\"48.57142857142857\" cy=\"119.0916780314106\" id=\"node_1_7\" r=\"3\"/><circle cx=\"35.714285714285715\" cy=\"170.0\" id=\"node_1_3\" r=\"3\"/><circle cx=\"61.42857142857143\" cy=\"170.0\" id=\"node_1_5\" r=\"3\"/><circle cx=\"106.42857142857143\" cy=\"112.77118071311742\" id=\"node_1_8\" r=\"3\"/><circle cx=\"87.14285714285714\" cy=\"170.0\" id=\"node_1_2\" r=\"3\"/><circle cx=\"125.71428571428572\" cy=\"168.43718446645167\" id=\"node_1_6\" r=\"3\"/><circle cx=\"112.85714285714286\" cy=\"170.0\" id=\"node_1_1\" r=\"3\"/><circle cx=\"138.57142857142858\" cy=\"170.0\" id=\"node_1_4\" r=\"3\"/><circle cx=\"164.2857142857143\" cy=\"170.0\" id=\"node_1_0\" r=\"3\"/></g><g class=\"mutations\" fill=\"red\"/></g><g font-size=\"14\" id=\"labels\"><g class=\"nodes\"><g text-anchor=\"start\"><text x=\"111.42857142857143\" y=\"107.77118071311742\">8</text><text x=\"130.71428571428572\" y=\"163.43718446645167\">6</text></g><g text-anchor=\"middle\"><text x=\"120.89285714285715\" y=\"25.0\">11</text><text x=\"35.714285714285715\" y=\"190.0\">3</text><text x=\"61.42857142857143\" y=\"190.0\">5</text><text x=\"87.14285714285714\" y=\"190.0\">2</text><text x=\"112.85714285714286\" y=\"190.0\">1</text><text x=\"138.57142857142858\" y=\"190.0\">4</text><text x=\"164.2857142857143\" y=\"190.0\">0</text></g><g text-anchor=\"end\"><text x=\"72.5\" y=\"103.0361268149992\">9</text><text x=\"43.57142857142857\" y=\"114.0916780314106\">7</text></g></g><g class=\"mutations\" font-style=\"italic\"><g text-anchor=\"start\"/><g text-anchor=\"end\"/></g></g></g></svg>"
      ],
      "text/plain": [
       "<IPython.core.display.SVG object>"
      ]
     },
     "metadata": {},
     "output_type": "display_data"
    }
   ],
   "source": [
    "simple_tree_seq = msprime.simulate(\n",
    "  sample_size=6, Ne=1000, length=1e4, recombination_rate=2e-8, random_seed=7)\n",
    "for tree in simple_tree_seq.trees():\n",
    "    print(\"-\" * 20)\n",
    "    print(\"tree {}: interval = {}\".format(tree.index, tree.interval))\n",
    "    display(SVG(tree.draw()))"
   ]
  },
  {
   "cell_type": "markdown",
   "metadata": {
    "slideshow": {
     "slide_type": "subslide"
    }
   },
   "source": [
    "As before, we use the `trees()` method to iterate over the trees in the sequence. For each tree we print out its index (i.e. its position in the sequence) and the interval the tree covers (i.e. the genomic coordinates which all share precisely this tree) using the index and interval attributes. Thus, the first tree covers the first 6kb of sequence, the second tree covers the remaining 4kb."
   ]
  },
  {
   "cell_type": "markdown",
   "metadata": {
    "slideshow": {
     "slide_type": "subslide"
    }
   },
   "source": [
    "### Mutations\n",
    "Mutations are generated in msprime by throwing mutations down on the branches of trees at a particular rate. The mutation rate for simulations is specified using the mutation_rate parameter of `simulate()`. For example, the following chunk simulates 50kb of nonrecombining sequence with a mutation rate of 1×10−8 per base per generation:"
   ]
  },
  {
   "cell_type": "code",
   "execution_count": 35,
   "metadata": {
    "slideshow": {
     "slide_type": "subslide"
    }
   },
   "outputs": [
    {
     "name": "stdout",
     "output_type": "stream",
     "text": [
      "Num trees: 1\n",
      "Mutation 0 @ position 1556.54 over node 9\n",
      "Mutation 1 @ position 4485.17 over node 6\n",
      "Mutation 2 @ position 9788.56 over node 6\n",
      "Mutation 3 @ position 11759.03 over node 6\n",
      "Mutation 4 @ position 11949.32 over node 6\n",
      "Mutation 5 @ position 14321.77 over node 9\n",
      "Mutation 6 @ position 31454.99 over node 6\n",
      "Mutation 7 @ position 45125.69 over node 9\n",
      "Mutation 8 @ position 49709.68 over node 6\n"
     ]
    },
    {
     "data": {
      "image/svg+xml": [
       "<svg baseProfile=\"full\" height=\"200\" version=\"1.1\" width=\"200\" xmlns=\"http://www.w3.org/2000/svg\" xmlns:ev=\"http://www.w3.org/2001/xml-events\" xmlns:xlink=\"http://www.w3.org/1999/xlink\"><defs/><g id=\"tree_0\"><g fill=\"none\" id=\"edges\" stroke=\"black\"><path d=\"M 48.57142857142857 168.19054396894734 V 30.0 H 87.14285714285714\" id=\"edge_0_6\"/><path d=\"M 35.714285714285715 170.0 V 168.19054396894734 H 48.57142857142857\" id=\"edge_0_0\"/><path d=\"M 61.42857142857143 170.0 V 168.19054396894734 H 48.57142857142857\" id=\"edge_0_4\"/><path d=\"M 125.71428571428572 156.02967657194657 V 30.0 H 87.14285714285714\" id=\"edge_0_9\"/><path d=\"M 100.0 167.5437252123846 V 156.02967657194657 H 125.71428571428572\" id=\"edge_0_7\"/><path d=\"M 87.14285714285714 170.0 V 167.5437252123846 H 100.0\" id=\"edge_0_2\"/><path d=\"M 112.85714285714286 170.0 V 167.5437252123846 H 100.0\" id=\"edge_0_5\"/><path d=\"M 151.42857142857144 166.76130818933413 V 156.02967657194657 H 125.71428571428572\" id=\"edge_0_8\"/><path d=\"M 138.57142857142858 170.0 V 166.76130818933413 H 151.42857142857144\" id=\"edge_0_1\"/><path d=\"M 164.2857142857143 170.0 V 166.76130818933413 H 151.42857142857144\" id=\"edge_0_3\"/></g><g id=\"symbols\"><g class=\"nodes\"><circle cx=\"87.14285714285714\" cy=\"30.0\" id=\"node_0_10\" r=\"3\"/><circle cx=\"48.57142857142857\" cy=\"168.19054396894734\" id=\"node_0_6\" r=\"3\"/><circle cx=\"35.714285714285715\" cy=\"170.0\" id=\"node_0_0\" r=\"3\"/><circle cx=\"61.42857142857143\" cy=\"170.0\" id=\"node_0_4\" r=\"3\"/><circle cx=\"125.71428571428572\" cy=\"156.02967657194657\" id=\"node_0_9\" r=\"3\"/><circle cx=\"100.0\" cy=\"167.5437252123846\" id=\"node_0_7\" r=\"3\"/><circle cx=\"87.14285714285714\" cy=\"170.0\" id=\"node_0_2\" r=\"3\"/><circle cx=\"112.85714285714286\" cy=\"170.0\" id=\"node_0_5\" r=\"3\"/><circle cx=\"151.42857142857144\" cy=\"166.76130818933413\" id=\"node_0_8\" r=\"3\"/><circle cx=\"138.57142857142858\" cy=\"170.0\" id=\"node_0_1\" r=\"3\"/><circle cx=\"164.2857142857143\" cy=\"170.0\" id=\"node_0_3\" r=\"3\"/></g><g class=\"mutations\" fill=\"red\"><rect height=\"6\" transform=\"translate(-3, -3)\" width=\"6\" x=\"48.57142857142857\" y=\"49.74150628127819\"/><rect height=\"6\" transform=\"translate(-3, -3)\" width=\"6\" x=\"48.57142857142857\" y=\"69.48301256255638\"/><rect height=\"6\" transform=\"translate(-3, -3)\" width=\"6\" x=\"48.57142857142857\" y=\"89.22451884383457\"/><rect height=\"6\" transform=\"translate(-3, -3)\" width=\"6\" x=\"48.57142857142857\" y=\"108.96602512511276\"/><rect height=\"6\" transform=\"translate(-3, -3)\" width=\"6\" x=\"48.57142857142857\" y=\"128.70753140639096\"/><rect height=\"6\" transform=\"translate(-3, -3)\" width=\"6\" x=\"48.57142857142857\" y=\"148.44903768766915\"/><rect height=\"6\" transform=\"translate(-3, -3)\" width=\"6\" x=\"125.71428571428572\" y=\"61.50741914298664\"/><rect height=\"6\" transform=\"translate(-3, -3)\" width=\"6\" x=\"125.71428571428572\" y=\"93.01483828597328\"/><rect height=\"6\" transform=\"translate(-3, -3)\" width=\"6\" x=\"125.71428571428572\" y=\"124.52225742895993\"/></g></g><g font-size=\"14\" id=\"labels\"><g class=\"nodes\"><g text-anchor=\"start\"><text x=\"130.71428571428572\" y=\"151.02967657194657\">9</text><text x=\"156.42857142857144\" y=\"161.76130818933413\">8</text></g><g text-anchor=\"middle\"><text x=\"87.14285714285714\" y=\"25.0\">10</text><text x=\"35.714285714285715\" y=\"190.0\">0</text><text x=\"61.42857142857143\" y=\"190.0\">4</text><text x=\"87.14285714285714\" y=\"190.0\">2</text><text x=\"112.85714285714286\" y=\"190.0\">5</text><text x=\"138.57142857142858\" y=\"190.0\">1</text><text x=\"164.2857142857143\" y=\"190.0\">3</text></g><g text-anchor=\"end\"><text x=\"43.57142857142857\" y=\"163.19054396894734\">6</text><text x=\"95.0\" y=\"162.5437252123846\">7</text></g></g><g class=\"mutations\" font-style=\"italic\"><g text-anchor=\"start\"><text x=\"130.71428571428572\" y=\"65.50741914298663\">7</text><text x=\"130.71428571428572\" y=\"97.01483828597328\">5</text><text x=\"130.71428571428572\" y=\"128.52225742895993\">0</text></g><g text-anchor=\"end\"><text x=\"43.57142857142857\" y=\"53.74150628127819\">8</text><text x=\"43.57142857142857\" y=\"73.48301256255638\">6</text><text x=\"43.57142857142857\" y=\"93.22451884383457\">4</text><text x=\"43.57142857142857\" y=\"112.96602512511276\">3</text><text x=\"43.57142857142857\" y=\"132.70753140639096\">2</text><text x=\"43.57142857142857\" y=\"152.44903768766915\">1</text></g></g></g></g></svg>"
      ],
      "text/plain": [
       "<IPython.core.display.SVG object>"
      ]
     },
     "metadata": {},
     "output_type": "display_data"
    }
   ],
   "source": [
    "mut_tree_seq = msprime.simulate(\n",
    "  sample_size=6, Ne=1000, length=50e3, mutation_rate=1e-8, random_seed=30)\n",
    "print(\"Num trees:\", mut_tree_seq.num_trees)\n",
    "tree = mut_tree_seq.first()\n",
    "for site in tree.sites():\n",
    "    for mutation in site.mutations:\n",
    "        print(\"Mutation {} @ position {:.2f} over node {}\".format(\n",
    "        mutation.id, site.position, mutation.node))\n",
    "display(SVG(tree.draw()))"
   ]
  },
  {
   "cell_type": "markdown",
   "metadata": {
    "slideshow": {
     "slide_type": "slide"
    }
   },
   "source": [
    "## Large simulations with $\\texttt{msprime}$\n",
    "\n"
   ]
  },
  {
   "cell_type": "markdown",
   "metadata": {
    "slideshow": {
     "slide_type": "skip"
    }
   },
   "source": [
    "One of the big advantages of msprime/tskit is that we can simulate and process genetic data on a very large scale. For example, here is a simulation of 100K human-like 10Mb chromosomes:"
   ]
  },
  {
   "cell_type": "code",
   "execution_count": 36,
   "metadata": {
    "slideshow": {
     "slide_type": "skip"
    }
   },
   "outputs": [
    {
     "name": "stdout",
     "output_type": "stream",
     "text": [
      "CPU times: user 5.64 s, sys: 120 ms, total: 5.76 s\n",
      "Wall time: 6.17 s\n"
     ]
    }
   ],
   "source": [
    "%%time\n",
    "ts = msprime.simulate(\n",
    "    sample_size=10**5, length=1e7, recombination_rate=1e-8, Ne=10**4, random_seed=20)"
   ]
  },
  {
   "cell_type": "code",
   "execution_count": 37,
   "metadata": {
    "slideshow": {
     "slide_type": "skip"
    }
   },
   "outputs": [
    {
     "name": "stdout",
     "output_type": "stream",
     "text": [
      "Number of simulated trees: 45597, Number of tips in each tree: 100000\n"
     ]
    }
   ],
   "source": [
    "print(\"Number of simulated trees: {}, Number of tips in each tree: {}\".format(ts.num_trees, ts.num_samples))"
   ]
  },
  {
   "cell_type": "code",
   "execution_count": 38,
   "metadata": {
    "slideshow": {
     "slide_type": "skip"
    }
   },
   "outputs": [
    {
     "name": "stdout",
     "output_type": "stream",
     "text": [
      "File size = 18.185260772705078MiB\n"
     ]
    }
   ],
   "source": [
    "# Write the tree sequence to file.\n",
    "ts.dump(\"data/large-ts-no-mutations.trees\")\n",
    "\n",
    "# Get the size\n",
    "import os\n",
    "print(\"File size = {}MiB\".format(os.path.getsize(\"data/large-ts-no-mutations.trees\") / 2**20))"
   ]
  },
  {
   "cell_type": "code",
   "execution_count": 39,
   "metadata": {
    "slideshow": {
     "slide_type": "skip"
    }
   },
   "outputs": [
    {
     "name": "stdout",
     "output_type": "stream",
     "text": [
      "CPU times: user 19.9 ms, sys: 20 ms, total: 39.8 ms\n",
      "Wall time: 40.4 ms\n"
     ]
    }
   ],
   "source": [
    "%%time\n",
    "# Loading is fast\n",
    "ts = msprime.load(\"data/large-ts-no-mutations.trees\")"
   ]
  },
  {
   "cell_type": "code",
   "execution_count": 40,
   "metadata": {
    "slideshow": {
     "slide_type": "skip"
    }
   },
   "outputs": [
    {
     "name": "stdout",
     "output_type": "stream",
     "text": [
      "10000000.0 10000000.0\n",
      "CPU times: user 180 ms, sys: 4.75 ms, total: 185 ms\n",
      "Wall time: 185 ms\n"
     ]
    }
   ],
   "source": [
    "%%time\n",
    "# So is iterating over all trees\n",
    "total = 0  \n",
    "for tree in ts.trees():\n",
    "    total += tree.interval[1] - tree.interval[0] # Just to do *something* in the loop\n",
    "\n",
    "print(total, ts.sequence_length)"
   ]
  },
  {
   "cell_type": "code",
   "execution_count": 41,
   "metadata": {
    "slideshow": {
     "slide_type": "skip"
    }
   },
   "outputs": [
    {
     "name": "stdout",
     "output_type": "stream",
     "text": [
      "CPU times: user 13.2 s, sys: 1.33 s, total: 14.5 s\n",
      "Wall time: 15 s\n"
     ]
    }
   ],
   "source": [
    "%%time\n",
    "# Insert a ridiculous number of mutations\n",
    "mutated_ts = msprime.mutate(ts, rate=1e-6, random_seed=42) # deliberately high mutation rate"
   ]
  },
  {
   "cell_type": "code",
   "execution_count": 42,
   "metadata": {
    "slideshow": {
     "slide_type": "skip"
    }
   },
   "outputs": [
    {
     "name": "stdout",
     "output_type": "stream",
     "text": [
      "We just created 4,873,605 variant sites!\n"
     ]
    }
   ],
   "source": [
    "print(\"We just created {:,} variant sites!\".format(mutated_ts.num_sites))"
   ]
  },
  {
   "cell_type": "code",
   "execution_count": 43,
   "metadata": {
    "slideshow": {
     "slide_type": "skip"
    }
   },
   "outputs": [
    {
     "name": "stdout",
     "output_type": "stream",
     "text": [
      "Tree sequence size = 194.80MiB\n"
     ]
    }
   ],
   "source": [
    "mutated_ts.dump(\"data/large-ts-mutations.trees\")\n",
    "\n",
    "print(\"Tree sequence size = {:.2f}MiB\".format(os.path.getsize(\"data/large-ts-mutations.trees\") / 2**20))\n",
    "# PUT THIS IN GIGBYTES (TODO)"
   ]
  },
  {
   "cell_type": "code",
   "execution_count": 44,
   "metadata": {},
   "outputs": [
    {
     "name": "stdout",
     "output_type": "stream",
     "text": [
      "Tree Sequence as a set of Newick Files is 191.201489727GiB\n"
     ]
    }
   ],
   "source": [
    "print(\"Tree Sequence as a set of Newick Files is {}GiB\".format((len(ts.first().newick()) * ts.num_trees) / 1e9))"
   ]
  },
  {
   "cell_type": "code",
   "execution_count": 45,
   "metadata": {
    "slideshow": {
     "slide_type": "skip"
    }
   },
   "outputs": [
    {
     "name": "stdout",
     "output_type": "stream",
     "text": [
      "Genotype matrix size: 453.89GiB\n"
     ]
    }
   ],
   "source": [
    "print(\"Genotype matrix size: {:.2f}GiB\".format(\n",
    "    mutated_ts.num_sites * mutated_ts.num_samples / 2**30))"
   ]
  },
  {
   "cell_type": "markdown",
   "metadata": {},
   "source": [
    "# References and Documentation"
   ]
  },
  {
   "cell_type": "markdown",
   "metadata": {},
   "source": [
    "$\\texttt{msprime}$: <br>\n",
    "Reference: Kelleher, J., Etheridge, A.M. and McVean, G., 2016. Efficient coalescent simulation and genealogical analysis for large sample sizes. PLoS computational biology, 12(5), p.e1004842.\n",
    "<br>\n",
    "Documentation: https://msprime.readthedocs.io/en/stable/index.html\n",
    "\n",
    "$\\texttt{SLiM}$: <br>\n",
    "Reference: Haller, B.C., Galloway, J., Kelleher, J., Messer, P.W. and Ralph, P.L., 2018. Tree‐sequence recording in SL iM opens new horizons for forward‐time simulation of whole genomes. Molecular Ecology Resources.\n",
    "<br>\n",
    "Documentation: http://benhaller.com/slim/SLiM_Manual.pdf\n",
    "\n",
    "$\\texttt{tsinfer}$: <br>\n",
    "Reference:  Kelleher, J., Wong, Y., Albers, P., Wohns, A.W. and McVean, G., 2018. Inferring the ancestry of everyone. bioRxiv, p.458067.\n",
    "<br>\n",
    "Documentation: https://tsinfer.readthedocs.io/en/latest/api.html?highlight=sample_data\n",
    "\n",
    "Out of Africa Model used in section 3: <br>\n",
    "Gutenkunst, R.N., Hernandez, R.D., Williamson, S.H. and Bustamante, C.D., 2009. Inferring the joint demographic history of multiple populations from multidimensional SNP frequency data. PLoS genetics, 5(10), p.e1000695."
   ]
  },
  {
   "cell_type": "code",
   "execution_count": null,
   "metadata": {},
   "outputs": [],
   "source": []
  }
 ],
 "metadata": {
  "kernelspec": {
   "display_name": "Python 3",
   "language": "python",
   "name": "python3"
  },
  "language_info": {
   "codemirror_mode": {
    "name": "ipython",
    "version": 3
   },
   "file_extension": ".py",
   "mimetype": "text/x-python",
   "name": "python",
   "nbconvert_exporter": "python",
   "pygments_lexer": "ipython3",
   "version": "3.6.8"
  }
 },
 "nbformat": 4,
 "nbformat_minor": 2
}
