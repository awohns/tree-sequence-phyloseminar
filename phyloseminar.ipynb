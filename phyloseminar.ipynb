{
 "cells": [
  {
   "cell_type": "markdown",
   "metadata": {
    "slideshow": {
     "slide_type": "slide"
    }
   },
   "source": [
    "\n",
    "<center> <img src=\"figures/logos.png\" style=\"width:450px\">\n",
    "\n",
    "<center> <font size=\"+2\"> Tree Sequence Fundamentals: introduction to tskit, The Tree Sequence Toolkit </font>\n",
    "<center> <font size=\"+1\"> Anthony Wilder Wohns </font>\n",
    "<center> <font size=\"+1\"> Big Data Institute/Department of Statistics, University of Oxford </font>"
   ]
  },
  {
   "cell_type": "markdown",
   "metadata": {
    "slideshow": {
     "slide_type": "slide"
    }
   },
   "source": [
    "Datasets of millions of genomes demand highly compact data structures and an efficient analysis toolkit.\n"
   ]
  },
  {
   "cell_type": "markdown",
   "metadata": {
    "slideshow": {
     "slide_type": "fragment"
    }
   },
   "source": [
    "Tree sequences and $\\texttt{tskit}$ are our answer to this challenge.\n"
   ]
  },
  {
   "cell_type": "markdown",
   "metadata": {
    "slideshow": {
     "slide_type": "fragment"
    }
   },
   "source": [
    "$\\texttt{tskit}$ includes a suite of tools for calculating common statistics of interest from tree sequences. Tree sequences can be simulated using $\\texttt{msprime}$ and $\\texttt{SLiM}$ are scalable coalescent and forwards time simulators. Finally, we can infer tree sequences from millions of samples using $\\texttt{tsinfer}$.\n"
   ]
  },
  {
   "cell_type": "markdown",
   "metadata": {
    "slideshow": {
     "slide_type": "subslide"
    }
   },
   "source": [
    "We'll use the Python API for $\\texttt{tskit}$ and $\\texttt{msprime}$ to see how these tools work, how efficient they are, and how they can be used to answer questions you are interested in."
   ]
  },
  {
   "cell_type": "markdown",
   "metadata": {
    "slideshow": {
     "slide_type": "slide"
    }
   },
   "source": [
    "1. [tskit Python API](#ts)\n",
    "2. [msprime Simulations</span>](#msprime)\n",
    "3. [Tree Sequence Statistics</span>](#statistics)"
   ]
  },
  {
   "cell_type": "code",
   "execution_count": 1,
   "metadata": {
    "slideshow": {
     "slide_type": "skip"
    }
   },
   "outputs": [],
   "source": [
    "import tsinfer\n",
    "import tskit\n",
    "import msprime\n",
    "import io\n",
    "import numpy as np\n",
    "import matplotlib.pyplot as plt\n",
    "import pysvg\n",
    "import json\n",
    "from IPython.display import SVG, display, HTML\n",
    "import scipy\n",
    "import seaborn as sns\n",
    "import pandas as pd\n",
    "\n",
    "nodes = io.StringIO(\"\"\"\\\n",
    "id  is_sample   population  individual  time    metadata\n",
    "0   1   0   -1  0.00000000000000    \n",
    "1   1   0   -1  0.00000000000000    \n",
    "2   1   0   -1  0.00000000000000    \n",
    "3   1   0   -1  0.00000000000000    \n",
    "4   1   0   -1  0.00000000000000    \n",
    "5   1   0   -1  0.00000000000000    \n",
    "6   0   0   -1  0.5   \n",
    "7   0   0   -1  0.5   \n",
    "8   0   0   -1  0.75 \n",
    "9   0   0   -1  1.5\n",
    "10  0   0   -1  1.5\n",
    "11  0   0   -1  1.75\n",
    "12  0   0   -1  2.5 \n",
    "        \"\"\")\n",
    "edges = io.StringIO(\"\"\"\\\n",
    "id  left        right       parent  child\n",
    "0   0.00000000  50.00000000 7   0\n",
    "1   0.00000000  50.00000000 7   1\n",
    "2   0.00000000  15          11   2\n",
    "3   0.00000000  15          8   3\n",
    "4   0.00000000  15          12   11\n",
    "5   0.00000000  15          11   9\n",
    "6   0.00000000  50          8   4\n",
    "7   0.00000000  50          9   5\n",
    "8   0.00000000  50          9  8\n",
    "9   15  30          6  2\n",
    "10   15  30          6  3\n",
    "11   15  50          12  9\n",
    "12  30  50 10  3\n",
    "13  30  50 12  10\n",
    "14  30  50 8  2\n",
    "15  30  50 10  7\n",
    "15  0  30 12  7\n",
    "15  15  30 8  6\n",
    "\"\"\")\n",
    "sites = io.StringIO(\"\"\"\\\n",
    "id  position    ancestral_state metadata\n",
    "0   6 0   \n",
    "1   12 0   \n",
    "2   20 0 \n",
    "3   40 0 \n",
    "\"\"\")\n",
    "mutations = io.StringIO(\"\"\"\\\n",
    "id  site    node    derived_state   parent  metadata\n",
    "0   0   0   1   -1  \n",
    "1   1   11  1   -1  \n",
    "2   2   8  1   -1 \n",
    "3   3   10  1   -1 \n",
    "\"\"\")\n",
    "treeseq_example = tskit.load_text(nodes, edges, sites = sites, mutations = mutations, sequence_length=50, strict=False)\n",
    "\n",
    "\n",
    "treeseq_example.dump('data/tree_sequence_example.trees')"
   ]
  },
  {
   "cell_type": "code",
   "execution_count": 2,
   "metadata": {
    "slideshow": {
     "slide_type": "skip"
    }
   },
   "outputs": [],
   "source": [
    "def draw_tree_horizontal(ts):\n",
    "    html = ''\n",
    "    for tree in ts.trees():\n",
    "        fraction_span = (tree.interval[1]-tree.interval[0])/tree.tree_sequence.sequence_length\n",
    "        html += \\\n",
    "            '<td style=\"width: {}%\">'.format(fraction_span*100) + \\\n",
    "                '<div\">' + \\\n",
    "                    tree.draw() + \\\n",
    "                '</div>' + \\\n",
    "            '</td>'\n",
    "    t1 = '<table><caption>Original ts</caption><tr>'+html+'</tr></table>'\n",
    "    display(HTML(html))"
   ]
  },
  {
   "cell_type": "markdown",
   "metadata": {},
   "source": [
    "# 1. [tskit Python API](#ts)\n"
   ]
  },
  {
   "cell_type": "markdown",
   "metadata": {
    "slideshow": {
     "slide_type": "slide"
    }
   },
   "source": [
    "Let's get hands on with the python API as we familiarize ourselves with tree sequences. Note that a comprehensive documentation can be found at https://tskit.readthedocs.io/<br>\n"
   ]
  },
  {
   "cell_type": "markdown",
   "metadata": {
    "slideshow": {
     "slide_type": "fragment"
    }
   },
   "source": [
    "We'll start with the top level $\\texttt{TreeSequence}$ class. "
   ]
  },
  {
   "cell_type": "code",
   "execution_count": 3,
   "metadata": {
    "slideshow": {
     "slide_type": "subslide"
    }
   },
   "outputs": [],
   "source": [
    "import tskit\n",
    "# Let's load the example we were just looking at as a tree sequence\n",
    "treeseq_example = tskit.load(\"data/tree_sequence_example.trees\")"
   ]
  },
  {
   "cell_type": "markdown",
   "metadata": {
    "slideshow": {
     "slide_type": "subslide"
    }
   },
   "source": [
    "Let's look again at the trees from the example above. The simpest way to do this is to print them one after another.\n",
    "We can access each individual tree in the tree sequence with the .trees() function"
   ]
  },
  {
   "cell_type": "code",
   "execution_count": 4,
   "metadata": {},
   "outputs": [
    {
     "data": {
      "image/svg+xml": [
       "<svg baseProfile=\"full\" height=\"200\" version=\"1.1\" width=\"600\" xmlns=\"http://www.w3.org/2000/svg\" xmlns:ev=\"http://www.w3.org/2001/xml-events\" xmlns:xlink=\"http://www.w3.org/1999/xlink\"><defs><g id=\"tree_0\"><g fill=\"none\" id=\"edges\" stroke=\"black\"><path d=\"M 45.714285714285715 118.0 V 30.0 H 73.98809523809524\" id=\"edge_0_7\"/><path d=\"M 33.80952380952381 140.0 V 118.0 H 45.714285714285715\" id=\"edge_0_0\"/><path d=\"M 57.61904761904762 140.0 V 118.0 H 45.714285714285715\" id=\"edge_0_1\"/><path d=\"M 102.26190476190476 63.0 V 30.0 H 73.98809523809524\" id=\"edge_0_11\"/><path d=\"M 81.42857142857143 140.0 V 63.0 H 102.26190476190476\" id=\"edge_0_2\"/><path d=\"M 123.09523809523809 74.0 V 63.0 H 102.26190476190476\" id=\"edge_0_9\"/><path d=\"M 105.23809523809524 140.0 V 74.0 H 123.09523809523809\" id=\"edge_0_5\"/><path d=\"M 140.95238095238093 107.0 V 74.0 H 123.09523809523809\" id=\"edge_0_8\"/><path d=\"M 129.04761904761904 140.0 V 107.0 H 140.95238095238093\" id=\"edge_0_3\"/><path d=\"M 152.85714285714283 140.0 V 107.0 H 140.95238095238093\" id=\"edge_0_4\"/></g><g id=\"symbols\"><g class=\"nodes\"><circle cx=\"73.98809523809524\" cy=\"30.0\" id=\"node_0_12\" r=\"3\"/><circle cx=\"45.714285714285715\" cy=\"118.0\" id=\"node_0_7\" r=\"3\"/><circle cx=\"33.80952380952381\" cy=\"140.0\" id=\"node_0_0\" r=\"3\"/><circle cx=\"57.61904761904762\" cy=\"140.0\" id=\"node_0_1\" r=\"3\"/><circle cx=\"102.26190476190476\" cy=\"63.0\" id=\"node_0_11\" r=\"3\"/><circle cx=\"81.42857142857143\" cy=\"140.0\" id=\"node_0_2\" r=\"3\"/><circle cx=\"123.09523809523809\" cy=\"74.0\" id=\"node_0_9\" r=\"3\"/><circle cx=\"105.23809523809524\" cy=\"140.0\" id=\"node_0_5\" r=\"3\"/><circle cx=\"140.95238095238093\" cy=\"107.0\" id=\"node_0_8\" r=\"3\"/><circle cx=\"129.04761904761904\" cy=\"140.0\" id=\"node_0_3\" r=\"3\"/><circle cx=\"152.85714285714283\" cy=\"140.0\" id=\"node_0_4\" r=\"3\"/></g><g class=\"mutations\" fill=\"red\"><rect height=\"6\" transform=\"translate(-3, -3)\" width=\"6\" x=\"33.80952380952381\" y=\"129.0\"/><rect height=\"6\" transform=\"translate(-3, -3)\" width=\"6\" x=\"102.26190476190476\" y=\"46.5\"/></g></g><g font-size=\"14\" id=\"labels\"><g class=\"nodes\"><g text-anchor=\"start\"><text x=\"107.26190476190476\" y=\"58.0\">11</text><text x=\"128.09523809523807\" y=\"69.0\">9</text><text x=\"145.95238095238093\" y=\"102.0\">8</text></g><g text-anchor=\"middle\"><text x=\"73.98809523809524\" y=\"25.0\">12</text><text x=\"33.80952380952381\" y=\"160.0\">0</text><text x=\"57.61904761904762\" y=\"160.0\">1</text><text x=\"81.42857142857143\" y=\"160.0\">2</text><text x=\"105.23809523809524\" y=\"160.0\">5</text><text x=\"129.04761904761904\" y=\"160.0\">3</text><text x=\"152.85714285714283\" y=\"160.0\">4</text></g><g text-anchor=\"end\"><text x=\"40.714285714285715\" y=\"113.0\">7</text></g></g><g class=\"mutations\" font-style=\"italic\"><g text-anchor=\"start\"><text x=\"107.26190476190476\" y=\"50.5\">1</text></g><g text-anchor=\"end\"><text x=\"28.80952380952381\" y=\"133.0\">0</text></g></g></g></g><g id=\"tree_1\"><g fill=\"none\" id=\"edges\" stroke=\"black\"><path d=\"M 45.714285714285715 118.0 V 30.0 H 73.98809523809524\" id=\"edge_1_7\"/><path d=\"M 33.80952380952381 140.0 V 118.0 H 45.714285714285715\" id=\"edge_1_0\"/><path d=\"M 57.61904761904762 140.0 V 118.0 H 45.714285714285715\" id=\"edge_1_1\"/><path d=\"M 102.26190476190476 74.0 V 30.0 H 73.98809523809524\" id=\"edge_1_9\"/><path d=\"M 81.42857142857143 140.0 V 74.0 H 102.26190476190476\" id=\"edge_1_5\"/><path d=\"M 123.09523809523809 107.0 V 74.0 H 102.26190476190476\" id=\"edge_1_8\"/><path d=\"M 105.23809523809524 140.0 V 107.0 H 123.09523809523809\" id=\"edge_1_4\"/><path d=\"M 140.95238095238093 118.0 V 107.0 H 123.09523809523809\" id=\"edge_1_6\"/><path d=\"M 129.04761904761904 140.0 V 118.0 H 140.95238095238093\" id=\"edge_1_2\"/><path d=\"M 152.85714285714283 140.0 V 118.0 H 140.95238095238093\" id=\"edge_1_3\"/></g><g id=\"symbols\"><g class=\"nodes\"><circle cx=\"73.98809523809524\" cy=\"30.0\" id=\"node_1_12\" r=\"3\"/><circle cx=\"45.714285714285715\" cy=\"118.0\" id=\"node_1_7\" r=\"3\"/><circle cx=\"33.80952380952381\" cy=\"140.0\" id=\"node_1_0\" r=\"3\"/><circle cx=\"57.61904761904762\" cy=\"140.0\" id=\"node_1_1\" r=\"3\"/><circle cx=\"102.26190476190476\" cy=\"74.0\" id=\"node_1_9\" r=\"3\"/><circle cx=\"81.42857142857143\" cy=\"140.0\" id=\"node_1_5\" r=\"3\"/><circle cx=\"123.09523809523809\" cy=\"107.0\" id=\"node_1_8\" r=\"3\"/><circle cx=\"105.23809523809524\" cy=\"140.0\" id=\"node_1_4\" r=\"3\"/><circle cx=\"140.95238095238093\" cy=\"118.0\" id=\"node_1_6\" r=\"3\"/><circle cx=\"129.04761904761904\" cy=\"140.0\" id=\"node_1_2\" r=\"3\"/><circle cx=\"152.85714285714283\" cy=\"140.0\" id=\"node_1_3\" r=\"3\"/></g><g class=\"mutations\" fill=\"red\"><rect height=\"6\" transform=\"translate(-3, -3)\" width=\"6\" x=\"123.09523809523809\" y=\"90.5\"/></g></g><g font-size=\"14\" id=\"labels\"><g class=\"nodes\"><g text-anchor=\"start\"><text x=\"107.26190476190476\" y=\"69.0\">9</text><text x=\"128.09523809523807\" y=\"102.0\">8</text><text x=\"145.95238095238093\" y=\"113.0\">6</text></g><g text-anchor=\"middle\"><text x=\"73.98809523809524\" y=\"25.0\">12</text><text x=\"33.80952380952381\" y=\"160.0\">0</text><text x=\"57.61904761904762\" y=\"160.0\">1</text><text x=\"81.42857142857143\" y=\"160.0\">5</text><text x=\"105.23809523809524\" y=\"160.0\">4</text><text x=\"129.04761904761904\" y=\"160.0\">2</text><text x=\"152.85714285714283\" y=\"160.0\">3</text></g><g text-anchor=\"end\"><text x=\"40.714285714285715\" y=\"113.0\">7</text></g></g><g class=\"mutations\" font-style=\"italic\"><g text-anchor=\"start\"><text x=\"128.09523809523807\" y=\"94.5\">2</text></g><g text-anchor=\"end\"/></g></g></g><g id=\"tree_2\"><g fill=\"none\" id=\"edges\" stroke=\"black\"><path d=\"M 51.666666666666664 74.0 V 30.0 H 87.38095238095238\" id=\"edge_2_9\"/><path d=\"M 33.80952380952381 140.0 V 74.0 H 51.666666666666664\" id=\"edge_2_5\"/><path d=\"M 69.52380952380952 107.0 V 74.0 H 51.666666666666664\" id=\"edge_2_8\"/><path d=\"M 57.61904761904762 140.0 V 107.0 H 69.52380952380952\" id=\"edge_2_4\"/><path d=\"M 81.42857142857143 140.0 V 107.0 H 69.52380952380952\" id=\"edge_2_2\"/><path d=\"M 123.09523809523809 74.0 V 30.0 H 87.38095238095238\" id=\"edge_2_10\"/><path d=\"M 105.23809523809524 140.0 V 74.0 H 123.09523809523809\" id=\"edge_2_3\"/><path d=\"M 140.95238095238093 118.0 V 74.0 H 123.09523809523809\" id=\"edge_2_7\"/><path d=\"M 129.04761904761904 140.0 V 118.0 H 140.95238095238093\" id=\"edge_2_0\"/><path d=\"M 152.85714285714283 140.0 V 118.0 H 140.95238095238093\" id=\"edge_2_1\"/></g><g id=\"symbols\"><g class=\"nodes\"><circle cx=\"87.38095238095238\" cy=\"30.0\" id=\"node_2_12\" r=\"3\"/><circle cx=\"51.666666666666664\" cy=\"74.0\" id=\"node_2_9\" r=\"3\"/><circle cx=\"33.80952380952381\" cy=\"140.0\" id=\"node_2_5\" r=\"3\"/><circle cx=\"69.52380952380952\" cy=\"107.0\" id=\"node_2_8\" r=\"3\"/><circle cx=\"57.61904761904762\" cy=\"140.0\" id=\"node_2_4\" r=\"3\"/><circle cx=\"81.42857142857143\" cy=\"140.0\" id=\"node_2_2\" r=\"3\"/><circle cx=\"123.09523809523809\" cy=\"74.0\" id=\"node_2_10\" r=\"3\"/><circle cx=\"105.23809523809524\" cy=\"140.0\" id=\"node_2_3\" r=\"3\"/><circle cx=\"140.95238095238093\" cy=\"118.0\" id=\"node_2_7\" r=\"3\"/><circle cx=\"129.04761904761904\" cy=\"140.0\" id=\"node_2_0\" r=\"3\"/><circle cx=\"152.85714285714283\" cy=\"140.0\" id=\"node_2_1\" r=\"3\"/></g><g class=\"mutations\" fill=\"red\"><rect height=\"6\" transform=\"translate(-3, -3)\" width=\"6\" x=\"123.09523809523809\" y=\"52.0\"/></g></g><g font-size=\"14\" id=\"labels\"><g class=\"nodes\"><g text-anchor=\"start\"><text x=\"74.52380952380952\" y=\"102.0\">8</text><text x=\"128.09523809523807\" y=\"69.0\">10</text><text x=\"145.95238095238093\" y=\"113.0\">7</text></g><g text-anchor=\"middle\"><text x=\"87.38095238095238\" y=\"25.0\">12</text><text x=\"33.80952380952381\" y=\"160.0\">5</text><text x=\"57.61904761904762\" y=\"160.0\">4</text><text x=\"81.42857142857143\" y=\"160.0\">2</text><text x=\"105.23809523809524\" y=\"160.0\">3</text><text x=\"129.04761904761904\" y=\"160.0\">0</text><text x=\"152.85714285714283\" y=\"160.0\">1</text></g><g text-anchor=\"end\"><text x=\"46.666666666666664\" y=\"69.0\">9</text></g></g><g class=\"mutations\" font-style=\"italic\"><g text-anchor=\"start\"><text x=\"128.09523809523807\" y=\"56.0\">3</text></g><g text-anchor=\"end\"/></g></g></g></defs><use x=\"20\" xlink:href=\"#tree_0\" y=\"15\"/><use x=\"206.66666666666666\" xlink:href=\"#tree_1\" y=\"15\"/><use x=\"393.3333333333333\" xlink:href=\"#tree_2\" y=\"15\"/><line stroke=\"black\" x1=\"20\" x2=\"580\" y1=\"180\" y2=\"180\"/><line stroke=\"black\" x1=\"20\" x2=\"20\" y1=\"175\" y2=\"185\"/><text font-size=\"14\" font-weight=\"bold\" text-anchor=\"middle\" x=\"20\" y=\"200\">0.00</text><line stroke=\"black\" x1=\"206.66666666666666\" x2=\"206.66666666666666\" y1=\"175\" y2=\"185\"/><text font-size=\"14\" font-weight=\"bold\" text-anchor=\"middle\" x=\"206.66666666666666\" y=\"200\">15.00</text><line stroke=\"black\" x1=\"393.3333333333333\" x2=\"393.3333333333333\" y1=\"175\" y2=\"185\"/><text font-size=\"14\" font-weight=\"bold\" text-anchor=\"middle\" x=\"393.3333333333333\" y=\"200\">30.00</text><line stroke=\"black\" x1=\"580.0\" x2=\"580.0\" y1=\"175\" y2=\"185\"/><text font-size=\"14\" font-weight=\"bold\" text-anchor=\"middle\" x=\"580.0\" y=\"200\">50.00</text></svg>"
      ],
      "text/plain": [
       "<IPython.core.display.SVG object>"
      ]
     },
     "execution_count": 4,
     "metadata": {},
     "output_type": "execute_result"
    }
   ],
   "source": [
    "SVG(treeseq_example.draw_svg())"
   ]
  },
  {
   "cell_type": "markdown",
   "metadata": {
    "slideshow": {
     "slide_type": "slide"
    }
   },
   "source": [
    "The `tskit` library allow us to use tree sequence objects in Python; these have specific properties and can also be queried using various methods. For example, we can easily show the number of trees in a tree sequence as follows "
   ]
  },
  {
   "cell_type": "code",
   "execution_count": 5,
   "metadata": {
    "slideshow": {
     "slide_type": "fragment"
    }
   },
   "outputs": [
    {
     "data": {
      "text/plain": [
       "3"
      ]
     },
     "execution_count": 5,
     "metadata": {},
     "output_type": "execute_result"
    }
   ],
   "source": [
    "treeseq_example.num_trees"
   ]
  },
  {
   "cell_type": "markdown",
   "metadata": {
    "slideshow": {
     "slide_type": "subslide"
    }
   },
   "source": [
    "We can also show the number of nodes, mutations and edges in the tree sequence"
   ]
  },
  {
   "cell_type": "code",
   "execution_count": 6,
   "metadata": {
    "slideshow": {
     "slide_type": "fragment"
    }
   },
   "outputs": [
    {
     "data": {
      "text/plain": [
       "13"
      ]
     },
     "execution_count": 6,
     "metadata": {},
     "output_type": "execute_result"
    }
   ],
   "source": [
    "treeseq_example.num_nodes"
   ]
  },
  {
   "cell_type": "code",
   "execution_count": 7,
   "metadata": {
    "slideshow": {
     "slide_type": "fragment"
    }
   },
   "outputs": [
    {
     "data": {
      "text/plain": [
       "18"
      ]
     },
     "execution_count": 7,
     "metadata": {},
     "output_type": "execute_result"
    }
   ],
   "source": [
    "treeseq_example.num_edges"
   ]
  },
  {
   "cell_type": "code",
   "execution_count": 8,
   "metadata": {
    "slideshow": {
     "slide_type": "fragment"
    }
   },
   "outputs": [
    {
     "data": {
      "text/plain": [
       "4"
      ]
     },
     "execution_count": 8,
     "metadata": {},
     "output_type": "execute_result"
    }
   ],
   "source": [
    "treeseq_example.num_mutations"
   ]
  },
  {
   "cell_type": "markdown",
   "metadata": {
    "slideshow": {
     "slide_type": "subslide"
    }
   },
   "source": [
    "We can get the same information for each individual tree. All we need to do is iterate over the trees again"
   ]
  },
  {
   "cell_type": "code",
   "execution_count": 9,
   "metadata": {
    "slideshow": {
     "slide_type": "fragment"
    }
   },
   "outputs": [
    {
     "name": "stdout",
     "output_type": "stream",
     "text": [
      "Tree 0 has: 2 mutation(s)\n",
      "Tree 1 has: 1 mutation(s)\n",
      "Tree 2 has: 1 mutation(s)\n"
     ]
    }
   ],
   "source": [
    "for tree in treeseq_example.trees():\n",
    "    print('Tree', tree.index,'has:', tree.num_mutations, 'mutation(s)')\n"
   ]
  },
  {
   "cell_type": "markdown",
   "metadata": {
    "slideshow": {
     "slide_type": "slide"
    }
   },
   "source": [
    "# Tables: The underlying infrastructure of a Tree Sequence\n",
    "We'll understand how tree sequences are stored before getting hands-on with the API again \n"
   ]
  },
  {
   "cell_type": "markdown",
   "metadata": {
    "slideshow": {
     "slide_type": "skip"
    }
   },
   "source": [
    "![SegmentLocal](figures/mutations_gif.gif \"segment\")"
   ]
  },
  {
   "cell_type": "markdown",
   "metadata": {
    "slideshow": {
     "slide_type": "skip"
    }
   },
   "source": [
    "![SegmentLocal](figures/edges_gif.gif \"segment\")"
   ]
  },
  {
   "cell_type": "markdown",
   "metadata": {
    "slideshow": {
     "slide_type": "skip"
    }
   },
   "source": [
    "![SegmentLocal](figures/nodes_gif.gif \"segment\")"
   ]
  },
  {
   "cell_type": "markdown",
   "metadata": {
    "slideshow": {
     "slide_type": "subslide"
    }
   },
   "source": [
    "Since a tree sequence object is entirely specified by tables, these provide access to the internal representation of a tree sequence object. Below is a simple example of inspecting tables."
   ]
  },
  {
   "cell_type": "code",
   "execution_count": 10,
   "metadata": {
    "slideshow": {
     "slide_type": "fragment"
    }
   },
   "outputs": [
    {
     "data": {
      "text/html": [
       "\n",
       "            <div>\n",
       "                <style scoped=\"\">\n",
       "                    .tskit-table tbody tr th:only-of-type {vertical-align: middle;}\n",
       "                    .tskit-table tbody tr th {vertical-align: top;}\n",
       "                    .tskit-table tbody td {text-align: right;}\n",
       "                </style>\n",
       "                <table border=\"1\" class=\"tskit-table\">\n",
       "                    <thead>\n",
       "                        <tr>\n",
       "                            <th>id</th><th>flags</th><th>population</th><th>individual</th><th>time</th><th>metadata</th>\n",
       "                        </tr>\n",
       "                    </thead>\n",
       "                    <tbody>\n",
       "                        <tr><td>0</td><td>1</td><td>0</td><td>-1</td><td>0.00000000000000</td><td></td></tr>\n",
       "<tr><td>1</td><td>1</td><td>0</td><td>-1</td><td>0.00000000000000</td><td></td></tr>\n",
       "<tr><td>2</td><td>1</td><td>0</td><td>-1</td><td>0.00000000000000</td><td></td></tr>\n",
       "<tr><td>3</td><td>1</td><td>0</td><td>-1</td><td>0.00000000000000</td><td></td></tr>\n",
       "<tr><td>4</td><td>1</td><td>0</td><td>-1</td><td>0.00000000000000</td><td></td></tr>\n",
       "<tr><td>5</td><td>1</td><td>0</td><td>-1</td><td>0.00000000000000</td><td></td></tr>\n",
       "<tr><td>6</td><td>0</td><td>0</td><td>-1</td><td>0.50000000000000</td><td></td></tr>\n",
       "<tr><td>7</td><td>0</td><td>0</td><td>-1</td><td>0.50000000000000</td><td></td></tr>\n",
       "<tr><td>8</td><td>0</td><td>0</td><td>-1</td><td>0.75000000000000</td><td></td></tr>\n",
       "<tr><td>9</td><td>0</td><td>0</td><td>-1</td><td>1.50000000000000</td><td></td></tr>\n",
       "<tr><td>10</td><td>0</td><td>0</td><td>-1</td><td>1.50000000000000</td><td></td></tr>\n",
       "<tr><td>11</td><td>0</td><td>0</td><td>-1</td><td>1.75000000000000</td><td></td></tr>\n",
       "<tr><td>12</td><td>0</td><td>0</td><td>-1</td><td>2.50000000000000</td><td></td></tr>\n",
       "\n",
       "                    </tbody>\n",
       "                </table>\n",
       "            </div>\n",
       "        "
      ],
      "text/plain": [
       "<tskit.tables.NodeTable at 0x7f2d6482f828>"
      ]
     },
     "execution_count": 13,
     "metadata": {},
     "output_type": "execute_result"
    }
   ],
   "source": [
    "treeseq_example.tables.nodes"
   ]
  },
  {
   "cell_type": "code",
   "execution_count": 11,
   "metadata": {
    "slideshow": {
     "slide_type": "subslide"
    }
   },
   "outputs": [
    {
     "data": {
      "text/html": [
       "\n",
       "            <div>\n",
       "                <style scoped=\"\">\n",
       "                    .tskit-table tbody tr th:only-of-type {vertical-align: middle;}\n",
       "                    .tskit-table tbody tr th {vertical-align: top;}\n",
       "                    .tskit-table tbody td {text-align: right;}\n",
       "                </style>\n",
       "                <table border=\"1\" class=\"tskit-table\">\n",
       "                    <thead>\n",
       "                        <tr>\n",
       "                            <th>id</th><th>left\t</th><th>right\t</th><th>parent</th><th>child</th><th>metadata</th>\n",
       "                        </tr>\n",
       "                    </thead>\n",
       "                    <tbody>\n",
       "                        <tr><td>0</td><td>15.00000000</td><td>30.00000000</td><td>6</td><td>2</td><td></td></tr>\n",
       "<tr><td>1</td><td>15.00000000</td><td>30.00000000</td><td>6</td><td>3</td><td></td></tr>\n",
       "<tr><td>2</td><td>0.00000000</td><td>50.00000000</td><td>7</td><td>0</td><td></td></tr>\n",
       "<tr><td>3</td><td>0.00000000</td><td>50.00000000</td><td>7</td><td>1</td><td></td></tr>\n",
       "<tr><td>4</td><td>30.00000000</td><td>50.00000000</td><td>8</td><td>2</td><td></td></tr>\n",
       "<tr><td>5</td><td>0.00000000</td><td>15.00000000</td><td>8</td><td>3</td><td></td></tr>\n",
       "<tr><td>6</td><td>0.00000000</td><td>50.00000000</td><td>8</td><td>4</td><td></td></tr>\n",
       "<tr><td>7</td><td>15.00000000</td><td>30.00000000</td><td>8</td><td>6</td><td></td></tr>\n",
       "<tr><td>8</td><td>0.00000000</td><td>50.00000000</td><td>9</td><td>5</td><td></td></tr>\n",
       "<tr><td>9</td><td>0.00000000</td><td>50.00000000</td><td>9</td><td>8</td><td></td></tr>\n",
       "<tr><td>10</td><td>30.00000000</td><td>50.00000000</td><td>10</td><td>3</td><td></td></tr>\n",
       "<tr><td>11</td><td>30.00000000</td><td>50.00000000</td><td>10</td><td>7</td><td></td></tr>\n",
       "<tr><td>12</td><td>0.00000000</td><td>15.00000000</td><td>11</td><td>2</td><td></td></tr>\n",
       "<tr><td>13</td><td>0.00000000</td><td>15.00000000</td><td>11</td><td>9</td><td></td></tr>\n",
       "<tr><td>14</td><td>0.00000000</td><td>30.00000000</td><td>12</td><td>7</td><td></td></tr>\n",
       "<tr><td>15</td><td>15.00000000</td><td>50.00000000</td><td>12</td><td>9</td><td></td></tr>\n",
       "<tr><td>16</td><td>30.00000000</td><td>50.00000000</td><td>12</td><td>10</td><td></td></tr>\n",
       "<tr><td>17</td><td>0.00000000</td><td>15.00000000</td><td>12</td><td>11</td><td></td></tr>\n",
       "\n",
       "                    </tbody>\n",
       "                </table>\n",
       "            </div>\n",
       "        "
      ],
      "text/plain": [
       "<tskit.tables.EdgeTable at 0x7f2d6482fa90>"
      ]
     },
     "execution_count": 14,
     "metadata": {},
     "output_type": "execute_result"
    }
   ],
   "source": [
    "treeseq_example.tables.edges"
   ]
  },
  {
   "cell_type": "code",
   "execution_count": 12,
   "metadata": {
    "slideshow": {
     "slide_type": "subslide"
    }
   },
   "outputs": [
    {
     "data": {
      "text/html": [
       "\n",
       "            <div>\n",
       "                <style scoped=\"\">\n",
       "                    .tskit-table tbody tr th:only-of-type {vertical-align: middle;}\n",
       "                    .tskit-table tbody tr th {vertical-align: top;}\n",
       "                    .tskit-table tbody td {text-align: right;}\n",
       "                </style>\n",
       "                <table border=\"1\" class=\"tskit-table\">\n",
       "                    <thead>\n",
       "                        <tr>\n",
       "                            <th>id</th><th>site</th><th>node</th><th>derived_state</th><th>parent</th><th>metadata</th>\n",
       "                        </tr>\n",
       "                    </thead>\n",
       "                    <tbody>\n",
       "                        <tr><td>0</td><td>0</td><td>0</td><td>1</td><td>-1</td><td></td></tr>\n",
       "<tr><td>1</td><td>1</td><td>11</td><td>1</td><td>-1</td><td></td></tr>\n",
       "<tr><td>2</td><td>2</td><td>8</td><td>1</td><td>-1</td><td></td></tr>\n",
       "<tr><td>3</td><td>3</td><td>10</td><td>1</td><td>-1</td><td></td></tr>\n",
       "\n",
       "                    </tbody>\n",
       "                </table>\n",
       "            </div>\n",
       "        "
      ],
      "text/plain": [
       "<tskit.tables.MutationTable at 0x7f2d6509e7b8>"
      ]
     },
     "execution_count": 15,
     "metadata": {},
     "output_type": "execute_result"
    }
   ],
   "source": [
    "treeseq_example.tables.mutations"
   ]
  },
  {
   "cell_type": "markdown",
   "metadata": {
    "slideshow": {
     "slide_type": "subslide"
    }
   },
   "source": [
    "The data in a table is itself stored as numpy arrays:"
   ]
  },
  {
   "cell_type": "code",
   "execution_count": 13,
   "metadata": {
    "slideshow": {
     "slide_type": "fragment"
    }
   },
   "outputs": [
    {
     "data": {
      "text/plain": [
       "array([0.  , 0.  , 0.  , 0.  , 0.  , 0.  , 0.5 , 0.5 , 0.75, 1.5 , 1.5 ,\n",
       "       1.75, 2.5 ])"
      ]
     },
     "execution_count": 13,
     "metadata": {},
     "output_type": "execute_result"
    }
   ],
   "source": [
    "treeseq_example.tables.nodes.time"
   ]
  },
  {
   "cell_type": "markdown",
   "metadata": {
    "slideshow": {
     "slide_type": "subslide"
    }
   },
   "source": [
    "We can also use the $\\texttt{tskit}$ C API to work with tree sequences. Here we show a snippet from a Wright-Fisher simulator:"
   ]
  },
  {
   "cell_type": "markdown",
   "metadata": {
    "slideshow": {
     "slide_type": "fragment"
    }
   },
   "source": [
    "```C\n",
    "child = tsk_node_table_add_row(&tables->nodes, \n",
    "   0, t, TSK_NULL, TSK_NULL, NULL, 0);\n",
    "left_parent = parents[gsl_rng_uniform_int(rng, N)];\n",
    "right_parent = parents[gsl_rng_uniform_int(rng, N)];\n",
    "breakpoint = gsl_rng_uniform(rng);\n",
    "tsk_edge_table_add_row(&tables->edges, 0, breakpoint, left_parent, child);\n",
    "tsk_edge_table_add_row(&tables->edges, breakpoint, 1, right_parent, child);\n",
    "```"
   ]
  },
  {
   "cell_type": "markdown",
   "metadata": {
    "slideshow": {
     "slide_type": "slide"
    }
   },
   "source": [
    "# 2. msprime Simulations\n",
    "\n",
    "1. [tskit Python API](#ts)\n",
    "2. [msprime Simulations</span>](#msprime)\n",
    "3. [Tree Sequence Statistics</span>](#statistics)"
   ]
  },
  {
   "cell_type": "markdown",
   "metadata": {
    "slideshow": {
     "slide_type": "subslide"
    }
   },
   "source": [
    "Tree sequences can be simulated using either a coalescent simulator, $\\texttt{msprime}$, or a fowards time simulator, $\\texttt{SLiM}$."
   ]
  },
  {
   "cell_type": "markdown",
   "metadata": {
    "slideshow": {
     "slide_type": "subslide"
    }
   },
   "source": [
    "## Reverse-time simulations with $\\texttt{msprime}$\n",
    "The $\\texttt{msprime}$ program is an efficient reimplementation of Hudson's $\\texttt{ms}$ simulator which outputs coalescent trees using the tree sequence format. The easiest way to use it is through the Python API, which is well documented at https://msprime.readthedocs.io/en/stable/api.html. The citation is as follows: <br> Kelleher, Jerome, Alison M. Etheridge, and Gilean McVean. \"Efficient coalescent simulation and genealogical analysis for large sample sizes.\" PLoS computational biology 12.5 (2016): e1004842."
   ]
  },
  {
   "cell_type": "markdown",
   "metadata": {
    "slideshow": {
     "slide_type": "fragment"
    }
   },
   "source": [
    "Running simulations is very straightforward, and produces trees with branch lengths as expected under the full coalescent."
   ]
  },
  {
   "cell_type": "code",
   "execution_count": 14,
   "metadata": {
    "slideshow": {
     "slide_type": "subslide"
    }
   },
   "outputs": [
    {
     "name": "stdout",
     "output_type": "stream",
     "text": [
      "Number of Trees: 1\n"
     ]
    }
   ],
   "source": [
    "# simulate the coalescent for 6 samples, with effective population size of 10,000\n",
    "# since the recombination rate defaults to zero, we should have only one tree\n",
    "singular_tree_seq = msprime.simulate(sample_size=6, Ne=10000, random_seed=10)\n",
    "\n",
    "# check there is only one tree in this ts\n",
    "print(\"Number of Trees:\",singular_tree_seq.num_trees)"
   ]
  },
  {
   "cell_type": "code",
   "execution_count": 15,
   "metadata": {
    "slideshow": {
     "slide_type": "subslide"
    }
   },
   "outputs": [
    {
     "data": {
      "image/svg+xml": [
       "<svg baseProfile=\"full\" height=\"200\" version=\"1.1\" width=\"200\" xmlns=\"http://www.w3.org/2000/svg\" xmlns:ev=\"http://www.w3.org/2001/xml-events\" xmlns:xlink=\"http://www.w3.org/1999/xlink\"><defs/><g id=\"tree_0\"><g fill=\"none\" id=\"edges\" stroke=\"black\"><path d=\"M 35.714285714285715 170.0 V 30.0 H 69.46428571428572\" id=\"edge_0_2\"/><path d=\"M 103.21428571428572 63.98036497314585 V 30.0 H 69.46428571428572\" id=\"edge_0_9\"/><path d=\"M 74.28571428571428 154.85723928910372 V 63.98036497314585 H 103.21428571428572\" id=\"edge_0_6\"/><path d=\"M 61.42857142857143 170.0 V 154.85723928910372 H 74.28571428571428\" id=\"edge_0_4\"/><path d=\"M 87.14285714285714 170.0 V 154.85723928910372 H 74.28571428571428\" id=\"edge_0_5\"/><path d=\"M 132.14285714285717 108.90473417056447 V 63.98036497314585 H 103.21428571428572\" id=\"edge_0_8\"/><path d=\"M 112.85714285714286 170.0 V 108.90473417056447 H 132.14285714285717\" id=\"edge_0_0\"/><path d=\"M 151.42857142857144 144.35199946017312 V 108.90473417056447 H 132.14285714285717\" id=\"edge_0_7\"/><path d=\"M 138.57142857142858 170.0 V 144.35199946017312 H 151.42857142857144\" id=\"edge_0_1\"/><path d=\"M 164.2857142857143 170.0 V 144.35199946017312 H 151.42857142857144\" id=\"edge_0_3\"/></g><g id=\"symbols\"><g class=\"nodes\"><circle cx=\"69.46428571428572\" cy=\"30.0\" id=\"node_0_10\" r=\"3\"/><circle cx=\"35.714285714285715\" cy=\"170.0\" id=\"node_0_2\" r=\"3\"/><circle cx=\"103.21428571428572\" cy=\"63.98036497314585\" id=\"node_0_9\" r=\"3\"/><circle cx=\"74.28571428571428\" cy=\"154.85723928910372\" id=\"node_0_6\" r=\"3\"/><circle cx=\"61.42857142857143\" cy=\"170.0\" id=\"node_0_4\" r=\"3\"/><circle cx=\"87.14285714285714\" cy=\"170.0\" id=\"node_0_5\" r=\"3\"/><circle cx=\"132.14285714285717\" cy=\"108.90473417056447\" id=\"node_0_8\" r=\"3\"/><circle cx=\"112.85714285714286\" cy=\"170.0\" id=\"node_0_0\" r=\"3\"/><circle cx=\"151.42857142857144\" cy=\"144.35199946017312\" id=\"node_0_7\" r=\"3\"/><circle cx=\"138.57142857142858\" cy=\"170.0\" id=\"node_0_1\" r=\"3\"/><circle cx=\"164.2857142857143\" cy=\"170.0\" id=\"node_0_3\" r=\"3\"/></g><g class=\"mutations\" fill=\"red\"/></g><g font-size=\"14\" id=\"labels\"><g class=\"nodes\"><g text-anchor=\"start\"><text x=\"108.21428571428572\" y=\"58.98036497314585\">9</text><text x=\"137.14285714285717\" y=\"103.90473417056447\">8</text><text x=\"156.42857142857144\" y=\"139.35199946017312\">7</text></g><g text-anchor=\"middle\"><text x=\"69.46428571428572\" y=\"25.0\">10</text><text x=\"35.714285714285715\" y=\"190.0\">2</text><text x=\"61.42857142857143\" y=\"190.0\">4</text><text x=\"87.14285714285714\" y=\"190.0\">5</text><text x=\"112.85714285714286\" y=\"190.0\">0</text><text x=\"138.57142857142858\" y=\"190.0\">1</text><text x=\"164.2857142857143\" y=\"190.0\">3</text></g><g text-anchor=\"end\"><text x=\"69.28571428571428\" y=\"149.85723928910372\">6</text></g></g><g class=\"mutations\" font-style=\"italic\"><g text-anchor=\"start\"/><g text-anchor=\"end\"/></g></g></g></svg>"
      ],
      "text/plain": [
       "<IPython.core.display.SVG object>"
      ]
     },
     "execution_count": 15,
     "metadata": {},
     "output_type": "execute_result"
    }
   ],
   "source": [
    "#take the first (only) tree and visualize\n",
    "first_tree=singular_tree_seq.first()\n",
    "SVG(first_tree.draw())"
   ]
  },
  {
   "cell_type": "markdown",
   "metadata": {
    "slideshow": {
     "slide_type": "subslide"
    }
   },
   "source": [
    "The `simulate()` function returns a standard `TreeSequence` object. Here there is only one tree because we have not provided a value for recombination_rate, which therefore defaults to zero. We can access the first (and only) tree in this sequence using `first()` method of a `TreeSequence` object."
   ]
  },
  {
   "cell_type": "markdown",
   "metadata": {
    "slideshow": {
     "slide_type": "fragment"
    }
   },
   "source": [
    "\n",
    "We can also obtain the length of a branch joining a node to its parent using the `branch_length()` method; the total branch length in the tree is also stored in the `total_branch_length` attribute: "
   ]
  },
  {
   "cell_type": "code",
   "execution_count": 16,
   "metadata": {
    "slideshow": {
     "slide_type": "fragment"
    }
   },
   "outputs": [
    {
     "name": "stdout",
     "output_type": "stream",
     "text": [
      "Branch length above node 7 is 4605.0710027482955\n",
      "Total branch length in tree is 63385.43180380048\n"
     ]
    }
   ],
   "source": [
    "node = 7\n",
    "print(\"Branch length above node\", node, \"is\", first_tree.branch_length(node))\n",
    "print(\"Total branch length in tree is\", first_tree.total_branch_length)"
   ]
  },
  {
   "cell_type": "markdown",
   "metadata": {
    "slideshow": {
     "slide_type": "subslide"
    }
   },
   "source": [
    "We can do the standard tree traverals using the ``nodes`` iterator:"
   ]
  },
  {
   "cell_type": "code",
   "execution_count": 17,
   "metadata": {
    "slideshow": {
     "slide_type": "fragment"
    }
   },
   "outputs": [
    {
     "data": {
      "image/svg+xml": [
       "<svg baseProfile=\"full\" height=\"200\" version=\"1.1\" width=\"200\" xmlns=\"http://www.w3.org/2000/svg\" xmlns:ev=\"http://www.w3.org/2001/xml-events\" xmlns:xlink=\"http://www.w3.org/1999/xlink\"><defs/><g id=\"tree_0\"><g fill=\"none\" id=\"edges\" stroke=\"black\"><path d=\"M 35.714285714285715 170.0 V 30.0 H 69.46428571428572\" id=\"edge_0_2\"/><path d=\"M 103.21428571428572 63.98036497314585 V 30.0 H 69.46428571428572\" id=\"edge_0_9\"/><path d=\"M 74.28571428571428 154.85723928910372 V 63.98036497314585 H 103.21428571428572\" id=\"edge_0_6\"/><path d=\"M 61.42857142857143 170.0 V 154.85723928910372 H 74.28571428571428\" id=\"edge_0_4\"/><path d=\"M 87.14285714285714 170.0 V 154.85723928910372 H 74.28571428571428\" id=\"edge_0_5\"/><path d=\"M 132.14285714285717 108.90473417056447 V 63.98036497314585 H 103.21428571428572\" id=\"edge_0_8\"/><path d=\"M 112.85714285714286 170.0 V 108.90473417056447 H 132.14285714285717\" id=\"edge_0_0\"/><path d=\"M 151.42857142857144 144.35199946017312 V 108.90473417056447 H 132.14285714285717\" id=\"edge_0_7\"/><path d=\"M 138.57142857142858 170.0 V 144.35199946017312 H 151.42857142857144\" id=\"edge_0_1\"/><path d=\"M 164.2857142857143 170.0 V 144.35199946017312 H 151.42857142857144\" id=\"edge_0_3\"/></g><g id=\"symbols\"><g class=\"nodes\"><circle cx=\"69.46428571428572\" cy=\"30.0\" id=\"node_0_10\" r=\"3\"/><circle cx=\"35.714285714285715\" cy=\"170.0\" id=\"node_0_2\" r=\"3\"/><circle cx=\"103.21428571428572\" cy=\"63.98036497314585\" id=\"node_0_9\" r=\"3\"/><circle cx=\"74.28571428571428\" cy=\"154.85723928910372\" id=\"node_0_6\" r=\"3\"/><circle cx=\"61.42857142857143\" cy=\"170.0\" id=\"node_0_4\" r=\"3\"/><circle cx=\"87.14285714285714\" cy=\"170.0\" id=\"node_0_5\" r=\"3\"/><circle cx=\"132.14285714285717\" cy=\"108.90473417056447\" id=\"node_0_8\" r=\"3\"/><circle cx=\"112.85714285714286\" cy=\"170.0\" id=\"node_0_0\" r=\"3\"/><circle cx=\"151.42857142857144\" cy=\"144.35199946017312\" id=\"node_0_7\" r=\"3\"/><circle cx=\"138.57142857142858\" cy=\"170.0\" id=\"node_0_1\" r=\"3\"/><circle cx=\"164.2857142857143\" cy=\"170.0\" id=\"node_0_3\" r=\"3\"/></g><g class=\"mutations\" fill=\"red\"/></g><g font-size=\"14\" id=\"labels\"><g class=\"nodes\"><g text-anchor=\"start\"><text x=\"108.21428571428572\" y=\"58.98036497314585\">9</text><text x=\"137.14285714285717\" y=\"103.90473417056447\">8</text><text x=\"156.42857142857144\" y=\"139.35199946017312\">7</text></g><g text-anchor=\"middle\"><text x=\"69.46428571428572\" y=\"25.0\">10</text><text x=\"35.714285714285715\" y=\"190.0\">2</text><text x=\"61.42857142857143\" y=\"190.0\">4</text><text x=\"87.14285714285714\" y=\"190.0\">5</text><text x=\"112.85714285714286\" y=\"190.0\">0</text><text x=\"138.57142857142858\" y=\"190.0\">1</text><text x=\"164.2857142857143\" y=\"190.0\">3</text></g><g text-anchor=\"end\"><text x=\"69.28571428571428\" y=\"149.85723928910372\">6</text></g></g><g class=\"mutations\" font-style=\"italic\"><g text-anchor=\"start\"/><g text-anchor=\"end\"/></g></g></g></svg>"
      ],
      "text/plain": [
       "<IPython.core.display.SVG object>"
      ]
     },
     "metadata": {},
     "output_type": "display_data"
    },
    {
     "name": "stdout",
     "output_type": "stream",
     "text": [
      "Default:\t [10, 2, 9, 6, 4, 5, 8, 0, 7, 1, 3]\n",
      "Preorder:\t [10, 2, 9, 6, 4, 5, 8, 0, 7, 1, 3]\n",
      "Inorder:\t [2, 10, 4, 6, 5, 9, 0, 8, 1, 7, 3]\n",
      "Postorder:\t [2, 4, 5, 6, 0, 1, 3, 7, 8, 9, 10]\n"
     ]
    }
   ],
   "source": [
    "display(SVG(first_tree.draw()))\n",
    "print(\"Default:\\t\", list(first_tree.nodes()))\n",
    "print(\"Preorder:\\t\", list(first_tree.nodes(order=\"preorder\")))\n",
    "print(\"Inorder:\\t\", list(first_tree.nodes(order=\"inorder\")))\n",
    "print(\"Postorder:\\t\", list(first_tree.nodes(order=\"postorder\")))"
   ]
  },
  {
   "cell_type": "markdown",
   "metadata": {
    "slideshow": {
     "slide_type": "subslide"
    }
   },
   "source": [
    "### Recombination\n",
    "We are most often interested in simulating the history of our sample across large genomic regions under the influence of recombination. The msprime API is specifically designed to make this common requirement both easy and efficient. "
   ]
  },
  {
   "cell_type": "markdown",
   "metadata": {
    "slideshow": {
     "slide_type": "fragment"
    }
   },
   "source": [
    "To model genomic sequences under the influence of recombination we have two parameters to the `simulate()` function. The length parameter specifies the length of the simulated sequence. The recombination_rate parameter specifies the rate of crossing over per unit of length per generation, and is zero by default.\n",
    "\n",
    "Here, we simulate the trees across over a 10kb region with a recombination rate of 2×10−8 per base per generation, with a diploid effective population size of 1000:"
   ]
  },
  {
   "cell_type": "code",
   "execution_count": 18,
   "metadata": {
    "slideshow": {
     "slide_type": "subslide"
    }
   },
   "outputs": [
    {
     "name": "stdout",
     "output_type": "stream",
     "text": [
      "--------------------\n",
      "tree 0: interval = (0.0, 6173.258988692718)\n"
     ]
    },
    {
     "data": {
      "image/svg+xml": [
       "<svg baseProfile=\"full\" height=\"200\" version=\"1.1\" width=\"200\" xmlns=\"http://www.w3.org/2000/svg\" xmlns:ev=\"http://www.w3.org/2001/xml-events\" xmlns:xlink=\"http://www.w3.org/1999/xlink\"><defs/><g id=\"tree_0\"><g fill=\"none\" id=\"edges\" stroke=\"black\"><path d=\"M 74.28571428571428 108.0361268149992 V 30.0 H 112.85714285714286\" id=\"edge_0_9\"/><path d=\"M 48.57142857142857 168.43718446645167 V 108.0361268149992 H 74.28571428571428\" id=\"edge_0_6\"/><path d=\"M 35.714285714285715 170.0 V 168.43718446645167 H 48.57142857142857\" id=\"edge_0_1\"/><path d=\"M 61.42857142857143 170.0 V 168.43718446645167 H 48.57142857142857\" id=\"edge_0_4\"/><path d=\"M 100.0 119.0916780314106 V 108.0361268149992 H 74.28571428571428\" id=\"edge_0_7\"/><path d=\"M 87.14285714285714 170.0 V 119.0916780314106 H 100.0\" id=\"edge_0_3\"/><path d=\"M 112.85714285714286 170.0 V 119.0916780314106 H 100.0\" id=\"edge_0_5\"/><path d=\"M 151.42857142857144 73.5873797858969 V 30.0 H 112.85714285714286\" id=\"edge_0_10\"/><path d=\"M 138.57142857142858 170.0 V 73.5873797858969 H 151.42857142857144\" id=\"edge_0_0\"/><path d=\"M 164.2857142857143 170.0 V 73.5873797858969 H 151.42857142857144\" id=\"edge_0_2\"/></g><g id=\"symbols\"><g class=\"nodes\"><circle cx=\"112.85714285714286\" cy=\"30.0\" id=\"node_0_11\" r=\"3\"/><circle cx=\"74.28571428571428\" cy=\"108.0361268149992\" id=\"node_0_9\" r=\"3\"/><circle cx=\"48.57142857142857\" cy=\"168.43718446645167\" id=\"node_0_6\" r=\"3\"/><circle cx=\"35.714285714285715\" cy=\"170.0\" id=\"node_0_1\" r=\"3\"/><circle cx=\"61.42857142857143\" cy=\"170.0\" id=\"node_0_4\" r=\"3\"/><circle cx=\"100.0\" cy=\"119.0916780314106\" id=\"node_0_7\" r=\"3\"/><circle cx=\"87.14285714285714\" cy=\"170.0\" id=\"node_0_3\" r=\"3\"/><circle cx=\"112.85714285714286\" cy=\"170.0\" id=\"node_0_5\" r=\"3\"/><circle cx=\"151.42857142857144\" cy=\"73.5873797858969\" id=\"node_0_10\" r=\"3\"/><circle cx=\"138.57142857142858\" cy=\"170.0\" id=\"node_0_0\" r=\"3\"/><circle cx=\"164.2857142857143\" cy=\"170.0\" id=\"node_0_2\" r=\"3\"/></g><g class=\"mutations\" fill=\"red\"/></g><g font-size=\"14\" id=\"labels\"><g class=\"nodes\"><g text-anchor=\"start\"><text x=\"105.0\" y=\"114.0916780314106\">7</text><text x=\"156.42857142857144\" y=\"68.5873797858969\">10</text></g><g text-anchor=\"middle\"><text x=\"112.85714285714286\" y=\"25.0\">11</text><text x=\"35.714285714285715\" y=\"190.0\">1</text><text x=\"61.42857142857143\" y=\"190.0\">4</text><text x=\"87.14285714285714\" y=\"190.0\">3</text><text x=\"112.85714285714286\" y=\"190.0\">5</text><text x=\"138.57142857142858\" y=\"190.0\">0</text><text x=\"164.2857142857143\" y=\"190.0\">2</text></g><g text-anchor=\"end\"><text x=\"69.28571428571428\" y=\"103.0361268149992\">9</text><text x=\"43.57142857142857\" y=\"163.43718446645167\">6</text></g></g><g class=\"mutations\" font-style=\"italic\"><g text-anchor=\"start\"/><g text-anchor=\"end\"/></g></g></g></svg>"
      ],
      "text/plain": [
       "<IPython.core.display.SVG object>"
      ]
     },
     "metadata": {},
     "output_type": "display_data"
    },
    {
     "name": "stdout",
     "output_type": "stream",
     "text": [
      "--------------------\n",
      "tree 1: interval = (6173.258988692718, 10000.0)\n"
     ]
    },
    {
     "data": {
      "image/svg+xml": [
       "<svg baseProfile=\"full\" height=\"200\" version=\"1.1\" width=\"200\" xmlns=\"http://www.w3.org/2000/svg\" xmlns:ev=\"http://www.w3.org/2001/xml-events\" xmlns:xlink=\"http://www.w3.org/1999/xlink\"><defs/><g id=\"tree_1\"><g fill=\"none\" id=\"edges\" stroke=\"black\"><path d=\"M 77.5 108.0361268149992 V 30.0 H 120.89285714285715\" id=\"edge_1_9\"/><path d=\"M 48.57142857142857 119.0916780314106 V 108.0361268149992 H 77.5\" id=\"edge_1_7\"/><path d=\"M 35.714285714285715 170.0 V 119.0916780314106 H 48.57142857142857\" id=\"edge_1_3\"/><path d=\"M 61.42857142857143 170.0 V 119.0916780314106 H 48.57142857142857\" id=\"edge_1_5\"/><path d=\"M 106.42857142857143 112.77118071311742 V 108.0361268149992 H 77.5\" id=\"edge_1_8\"/><path d=\"M 87.14285714285714 170.0 V 112.77118071311742 H 106.42857142857143\" id=\"edge_1_2\"/><path d=\"M 125.71428571428572 168.43718446645167 V 112.77118071311742 H 106.42857142857143\" id=\"edge_1_6\"/><path d=\"M 112.85714285714286 170.0 V 168.43718446645167 H 125.71428571428572\" id=\"edge_1_1\"/><path d=\"M 138.57142857142858 170.0 V 168.43718446645167 H 125.71428571428572\" id=\"edge_1_4\"/><path d=\"M 164.2857142857143 170.0 V 30.0 H 120.89285714285715\" id=\"edge_1_0\"/></g><g id=\"symbols\"><g class=\"nodes\"><circle cx=\"120.89285714285715\" cy=\"30.0\" id=\"node_1_11\" r=\"3\"/><circle cx=\"77.5\" cy=\"108.0361268149992\" id=\"node_1_9\" r=\"3\"/><circle cx=\"48.57142857142857\" cy=\"119.0916780314106\" id=\"node_1_7\" r=\"3\"/><circle cx=\"35.714285714285715\" cy=\"170.0\" id=\"node_1_3\" r=\"3\"/><circle cx=\"61.42857142857143\" cy=\"170.0\" id=\"node_1_5\" r=\"3\"/><circle cx=\"106.42857142857143\" cy=\"112.77118071311742\" id=\"node_1_8\" r=\"3\"/><circle cx=\"87.14285714285714\" cy=\"170.0\" id=\"node_1_2\" r=\"3\"/><circle cx=\"125.71428571428572\" cy=\"168.43718446645167\" id=\"node_1_6\" r=\"3\"/><circle cx=\"112.85714285714286\" cy=\"170.0\" id=\"node_1_1\" r=\"3\"/><circle cx=\"138.57142857142858\" cy=\"170.0\" id=\"node_1_4\" r=\"3\"/><circle cx=\"164.2857142857143\" cy=\"170.0\" id=\"node_1_0\" r=\"3\"/></g><g class=\"mutations\" fill=\"red\"/></g><g font-size=\"14\" id=\"labels\"><g class=\"nodes\"><g text-anchor=\"start\"><text x=\"111.42857142857143\" y=\"107.77118071311742\">8</text><text x=\"130.71428571428572\" y=\"163.43718446645167\">6</text></g><g text-anchor=\"middle\"><text x=\"120.89285714285715\" y=\"25.0\">11</text><text x=\"35.714285714285715\" y=\"190.0\">3</text><text x=\"61.42857142857143\" y=\"190.0\">5</text><text x=\"87.14285714285714\" y=\"190.0\">2</text><text x=\"112.85714285714286\" y=\"190.0\">1</text><text x=\"138.57142857142858\" y=\"190.0\">4</text><text x=\"164.2857142857143\" y=\"190.0\">0</text></g><g text-anchor=\"end\"><text x=\"72.5\" y=\"103.0361268149992\">9</text><text x=\"43.57142857142857\" y=\"114.0916780314106\">7</text></g></g><g class=\"mutations\" font-style=\"italic\"><g text-anchor=\"start\"/><g text-anchor=\"end\"/></g></g></g></svg>"
      ],
      "text/plain": [
       "<IPython.core.display.SVG object>"
      ]
     },
     "metadata": {},
     "output_type": "display_data"
    }
   ],
   "source": [
    "simple_tree_seq = msprime.simulate(\n",
    "  sample_size=6, Ne=1000, length=1e4, recombination_rate=2e-8, random_seed=7)\n",
    "for tree in simple_tree_seq.trees():\n",
    "    print(\"-\" * 20)\n",
    "    print(\"tree {}: interval = {}\".format(tree.index, tree.interval))\n",
    "    display(SVG(tree.draw()))"
   ]
  },
  {
   "cell_type": "markdown",
   "metadata": {
    "slideshow": {
     "slide_type": "subslide"
    }
   },
   "source": [
    "As before, we use the `trees()` method to iterate over the trees in the sequence. For each tree we print out its index (i.e. its position in the sequence) and the interval the tree covers (i.e. the genomic coordinates which all share precisely this tree) using the index and interval attributes. Thus, the first tree covers the first 6kb of sequence, the second tree covers the remaining 4kb."
   ]
  },
  {
   "cell_type": "markdown",
   "metadata": {
    "slideshow": {
     "slide_type": "subslide"
    }
   },
   "source": [
    "### Mutations\n",
    "Mutations are generated in msprime by throwing mutations down on the branches of trees at a particular rate. The mutation rate for simulations is specified using the mutation_rate parameter of `simulate()`. For example, the following chunk simulates 50kb of nonrecombining sequence with a mutation rate of 1×10−8 per base per generation:"
   ]
  },
  {
   "cell_type": "code",
   "execution_count": 19,
   "metadata": {
    "slideshow": {
     "slide_type": "subslide"
    }
   },
   "outputs": [
    {
     "name": "stdout",
     "output_type": "stream",
     "text": [
      "Num trees: 1\n",
      "Mutation 0 @ position 1556.54 over node 9\n",
      "Mutation 1 @ position 4485.17 over node 6\n",
      "Mutation 2 @ position 9788.56 over node 6\n",
      "Mutation 3 @ position 11759.03 over node 6\n",
      "Mutation 4 @ position 11949.32 over node 6\n",
      "Mutation 5 @ position 14321.77 over node 9\n",
      "Mutation 6 @ position 31454.99 over node 6\n",
      "Mutation 7 @ position 45125.69 over node 9\n",
      "Mutation 8 @ position 49709.68 over node 6\n"
     ]
    },
    {
     "data": {
      "image/svg+xml": [
       "<svg baseProfile=\"full\" height=\"200\" version=\"1.1\" width=\"200\" xmlns=\"http://www.w3.org/2000/svg\" xmlns:ev=\"http://www.w3.org/2001/xml-events\" xmlns:xlink=\"http://www.w3.org/1999/xlink\"><defs/><g id=\"tree_0\"><g fill=\"none\" id=\"edges\" stroke=\"black\"><path d=\"M 48.57142857142857 168.19054396894734 V 30.0 H 87.14285714285714\" id=\"edge_0_6\"/><path d=\"M 35.714285714285715 170.0 V 168.19054396894734 H 48.57142857142857\" id=\"edge_0_0\"/><path d=\"M 61.42857142857143 170.0 V 168.19054396894734 H 48.57142857142857\" id=\"edge_0_4\"/><path d=\"M 125.71428571428572 156.02967657194657 V 30.0 H 87.14285714285714\" id=\"edge_0_9\"/><path d=\"M 100.0 167.5437252123846 V 156.02967657194657 H 125.71428571428572\" id=\"edge_0_7\"/><path d=\"M 87.14285714285714 170.0 V 167.5437252123846 H 100.0\" id=\"edge_0_2\"/><path d=\"M 112.85714285714286 170.0 V 167.5437252123846 H 100.0\" id=\"edge_0_5\"/><path d=\"M 151.42857142857144 166.76130818933413 V 156.02967657194657 H 125.71428571428572\" id=\"edge_0_8\"/><path d=\"M 138.57142857142858 170.0 V 166.76130818933413 H 151.42857142857144\" id=\"edge_0_1\"/><path d=\"M 164.2857142857143 170.0 V 166.76130818933413 H 151.42857142857144\" id=\"edge_0_3\"/></g><g id=\"symbols\"><g class=\"nodes\"><circle cx=\"87.14285714285714\" cy=\"30.0\" id=\"node_0_10\" r=\"3\"/><circle cx=\"48.57142857142857\" cy=\"168.19054396894734\" id=\"node_0_6\" r=\"3\"/><circle cx=\"35.714285714285715\" cy=\"170.0\" id=\"node_0_0\" r=\"3\"/><circle cx=\"61.42857142857143\" cy=\"170.0\" id=\"node_0_4\" r=\"3\"/><circle cx=\"125.71428571428572\" cy=\"156.02967657194657\" id=\"node_0_9\" r=\"3\"/><circle cx=\"100.0\" cy=\"167.5437252123846\" id=\"node_0_7\" r=\"3\"/><circle cx=\"87.14285714285714\" cy=\"170.0\" id=\"node_0_2\" r=\"3\"/><circle cx=\"112.85714285714286\" cy=\"170.0\" id=\"node_0_5\" r=\"3\"/><circle cx=\"151.42857142857144\" cy=\"166.76130818933413\" id=\"node_0_8\" r=\"3\"/><circle cx=\"138.57142857142858\" cy=\"170.0\" id=\"node_0_1\" r=\"3\"/><circle cx=\"164.2857142857143\" cy=\"170.0\" id=\"node_0_3\" r=\"3\"/></g><g class=\"mutations\" fill=\"red\"><rect height=\"6\" transform=\"translate(-3, -3)\" width=\"6\" x=\"48.57142857142857\" y=\"49.74150628127819\"/><rect height=\"6\" transform=\"translate(-3, -3)\" width=\"6\" x=\"48.57142857142857\" y=\"69.48301256255638\"/><rect height=\"6\" transform=\"translate(-3, -3)\" width=\"6\" x=\"48.57142857142857\" y=\"89.22451884383457\"/><rect height=\"6\" transform=\"translate(-3, -3)\" width=\"6\" x=\"48.57142857142857\" y=\"108.96602512511276\"/><rect height=\"6\" transform=\"translate(-3, -3)\" width=\"6\" x=\"48.57142857142857\" y=\"128.70753140639096\"/><rect height=\"6\" transform=\"translate(-3, -3)\" width=\"6\" x=\"48.57142857142857\" y=\"148.44903768766915\"/><rect height=\"6\" transform=\"translate(-3, -3)\" width=\"6\" x=\"125.71428571428572\" y=\"61.50741914298664\"/><rect height=\"6\" transform=\"translate(-3, -3)\" width=\"6\" x=\"125.71428571428572\" y=\"93.01483828597328\"/><rect height=\"6\" transform=\"translate(-3, -3)\" width=\"6\" x=\"125.71428571428572\" y=\"124.52225742895993\"/></g></g><g font-size=\"14\" id=\"labels\"><g class=\"nodes\"><g text-anchor=\"start\"><text x=\"130.71428571428572\" y=\"151.02967657194657\">9</text><text x=\"156.42857142857144\" y=\"161.76130818933413\">8</text></g><g text-anchor=\"middle\"><text x=\"87.14285714285714\" y=\"25.0\">10</text><text x=\"35.714285714285715\" y=\"190.0\">0</text><text x=\"61.42857142857143\" y=\"190.0\">4</text><text x=\"87.14285714285714\" y=\"190.0\">2</text><text x=\"112.85714285714286\" y=\"190.0\">5</text><text x=\"138.57142857142858\" y=\"190.0\">1</text><text x=\"164.2857142857143\" y=\"190.0\">3</text></g><g text-anchor=\"end\"><text x=\"43.57142857142857\" y=\"163.19054396894734\">6</text><text x=\"95.0\" y=\"162.5437252123846\">7</text></g></g><g class=\"mutations\" font-style=\"italic\"><g text-anchor=\"start\"><text x=\"130.71428571428572\" y=\"65.50741914298663\">7</text><text x=\"130.71428571428572\" y=\"97.01483828597328\">5</text><text x=\"130.71428571428572\" y=\"128.52225742895993\">0</text></g><g text-anchor=\"end\"><text x=\"43.57142857142857\" y=\"53.74150628127819\">8</text><text x=\"43.57142857142857\" y=\"73.48301256255638\">6</text><text x=\"43.57142857142857\" y=\"93.22451884383457\">4</text><text x=\"43.57142857142857\" y=\"112.96602512511276\">3</text><text x=\"43.57142857142857\" y=\"132.70753140639096\">2</text><text x=\"43.57142857142857\" y=\"152.44903768766915\">1</text></g></g></g></g></svg>"
      ],
      "text/plain": [
       "<IPython.core.display.SVG object>"
      ]
     },
     "metadata": {},
     "output_type": "display_data"
    }
   ],
   "source": [
    "mut_tree_seq = msprime.simulate(\n",
    "  sample_size=6, Ne=1000, length=50e3, mutation_rate=1e-8, random_seed=30)\n",
    "print(\"Num trees:\", mut_tree_seq.num_trees)\n",
    "tree = mut_tree_seq.first()\n",
    "for site in tree.sites():\n",
    "    for mutation in site.mutations:\n",
    "        print(\"Mutation {} @ position {:.2f} over node {}\".format(\n",
    "        mutation.id, site.position, mutation.node))\n",
    "display(SVG(tree.draw()))"
   ]
  },
  {
   "cell_type": "markdown",
   "metadata": {
    "slideshow": {
     "slide_type": "slide"
    }
   },
   "source": [
    "## Large simulations with $\\texttt{msprime}$\n",
    "\n"
   ]
  },
  {
   "cell_type": "markdown",
   "metadata": {
    "slideshow": {
     "slide_type": "skip"
    }
   },
   "source": [
    "One of the big advantages of msprime/tskit is that we can simulate and process genetic data on a very large scale. For example, here is a simulation of 100K human-like 10Mb chromosomes:"
   ]
  },
  {
   "cell_type": "code",
   "execution_count": 20,
   "metadata": {
    "slideshow": {
     "slide_type": "skip"
    }
   },
   "outputs": [
    {
     "name": "stdout",
     "output_type": "stream",
     "text": [
      "CPU times: user 4.46 s, sys: 62 ms, total: 4.52 s\n",
      "Wall time: 4.53 s\n"
     ]
    }
   ],
   "source": [
    "%%time\n",
    "ts = msprime.simulate(\n",
    "    sample_size=10**5, length=1e7, recombination_rate=1e-8, Ne=10**4, random_seed=20)"
   ]
  },
  {
   "cell_type": "code",
   "execution_count": 21,
   "metadata": {
    "slideshow": {
     "slide_type": "skip"
    }
   },
   "outputs": [
    {
     "name": "stdout",
     "output_type": "stream",
     "text": [
      "Number of simulated trees: 45597, Number of tips in each tree: 100000\n"
     ]
    }
   ],
   "source": [
    "print(\"Number of simulated trees: {}, Number of tips in each tree: {}\".format(ts.num_trees, ts.num_samples))"
   ]
  },
  {
   "cell_type": "code",
   "execution_count": 22,
   "metadata": {
    "slideshow": {
     "slide_type": "skip"
    }
   },
   "outputs": [
    {
     "name": "stdout",
     "output_type": "stream",
     "text": [
      "File size = 16.758358001708984MiB\n"
     ]
    }
   ],
   "source": [
    "# Write the tree sequence to file.\n",
    "ts.dump(\"data/large-ts-no-mutations.trees\")\n",
    "\n",
    "# Get the size\n",
    "import os\n",
    "print(\"File size = {}MiB\".format(os.path.getsize(\"data/large-ts-no-mutations.trees\") / 2**20))"
   ]
  },
  {
   "cell_type": "code",
   "execution_count": 23,
   "metadata": {
    "slideshow": {
     "slide_type": "skip"
    }
   },
   "outputs": [
    {
     "name": "stdout",
     "output_type": "stream",
     "text": [
      "CPU times: user 13.4 ms, sys: 11.9 ms, total: 25.3 ms\n",
      "Wall time: 25.5 ms\n"
     ]
    }
   ],
   "source": [
    "%%time\n",
    "# Loading is fast\n",
    "ts = msprime.load(\"data/large-ts-no-mutations.trees\")"
   ]
  },
  {
   "cell_type": "code",
   "execution_count": 24,
   "metadata": {
    "slideshow": {
     "slide_type": "skip"
    }
   },
   "outputs": [
    {
     "name": "stdout",
     "output_type": "stream",
     "text": [
      "10000000.0 10000000.0\n",
      "CPU times: user 148 ms, sys: 4.23 ms, total: 152 ms\n",
      "Wall time: 151 ms\n"
     ]
    }
   ],
   "source": [
    "%%time\n",
    "# So is iterating over all trees\n",
    "total = 0  \n",
    "for tree in ts.trees():\n",
    "    total += tree.interval[1] - tree.interval[0] # Just to do *something* in the loop\n",
    "\n",
    "print(total, ts.sequence_length)"
   ]
  },
  {
   "cell_type": "code",
   "execution_count": 25,
   "metadata": {
    "slideshow": {
     "slide_type": "skip"
    }
   },
   "outputs": [
    {
     "name": "stdout",
     "output_type": "stream",
     "text": [
      "CPU times: user 12 s, sys: 1.22 s, total: 13.3 s\n",
      "Wall time: 13.6 s\n"
     ]
    }
   ],
   "source": [
    "%%time\n",
    "# Insert a ridiculous number of mutations\n",
    "mutated_ts = msprime.mutate(ts, rate=1e-6, random_seed=42) # deliberately high mutation rate"
   ]
  },
  {
   "cell_type": "code",
   "execution_count": 26,
   "metadata": {
    "slideshow": {
     "slide_type": "skip"
    }
   },
   "outputs": [
    {
     "name": "stdout",
     "output_type": "stream",
     "text": [
      "We just created 4,873,605 variant sites!\n"
     ]
    }
   ],
   "source": [
    "print(\"We just created {:,} variant sites!\".format(mutated_ts.num_sites))"
   ]
  },
  {
   "cell_type": "code",
   "execution_count": 27,
   "metadata": {
    "slideshow": {
     "slide_type": "skip"
    }
   },
   "outputs": [
    {
     "name": "stdout",
     "output_type": "stream",
     "text": [
      "Tree sequence size = 193.38MiB\n"
     ]
    }
   ],
   "source": [
    "mutated_ts.dump(\"data/large-ts-mutations.trees\")\n",
    "\n",
    "print(\"Tree sequence size = {:.2f}MiB\".format(os.path.getsize(\"data/large-ts-mutations.trees\") / 2**20))\n",
    "# PUT THIS IN GIGBYTES"
   ]
  },
  {
   "cell_type": "code",
   "execution_count": 28,
   "metadata": {},
   "outputs": [
    {
     "name": "stdout",
     "output_type": "stream",
     "text": [
      "Tree Sequence as a set of Newick Files is 191.201489727GiB\n"
     ]
    }
   ],
   "source": [
    "print(\"Tree Sequence as a set of Newick Files is {}GiB\".format((len(ts.first().newick()) * ts.num_trees) / 1e9))"
   ]
  },
  {
   "cell_type": "code",
   "execution_count": 29,
   "metadata": {
    "slideshow": {
     "slide_type": "skip"
    }
   },
   "outputs": [
    {
     "name": "stdout",
     "output_type": "stream",
     "text": [
      "Genotype matrix size: 453.89GiB\n"
     ]
    }
   ],
   "source": [
    "print(\"Genotype matrix size: {:.2f}GiB\".format(\n",
    "    mutated_ts.num_sites * mutated_ts.num_samples / 2**30))"
   ]
  },
  {
   "cell_type": "markdown",
   "metadata": {
    "slideshow": {
     "slide_type": "skip"
    }
   },
   "source": [
    "We can easily calculate statistics such as pairwise diversity with tskit"
   ]
  },
  {
   "cell_type": "code",
   "execution_count": 30,
   "metadata": {
    "slideshow": {
     "slide_type": "skip"
    }
   },
   "outputs": [
    {
     "name": "stdout",
     "output_type": "stream",
     "text": [
      "CPU times: user 2.57 s, sys: 35.2 ms, total: 2.6 s\n",
      "Wall time: 2.61 s\n"
     ]
    },
    {
     "data": {
      "text/plain": [
       "407924.0359974259"
      ]
     },
     "execution_count": 30,
     "metadata": {},
     "output_type": "execute_result"
    }
   ],
   "source": [
    "%%time\n",
    "mutated_ts.pairwise_diversity()"
   ]
  },
  {
   "cell_type": "markdown",
   "metadata": {},
   "source": [
    "# 3. Tree Sequence Statistics\n",
    "1. [tskit Python API](#ts)\n",
    "2. [msprime Simulations</span>](#msprime)\n",
    "3. [Tree Sequence Statistics</span>](#statistics)"
   ]
  },
  {
   "cell_type": "code",
   "execution_count": 31,
   "metadata": {},
   "outputs": [],
   "source": [
    "with open(\"data/example.vcf\", \"w\") as vcf_file:\n",
    "    treeseq_example.write_vcf(vcf_file, ploidy=2)\n"
   ]
  },
  {
   "cell_type": "code",
   "execution_count": 32,
   "metadata": {},
   "outputs": [],
   "source": [
    "import allel\n",
    "callset = allel.read_vcf('data/example.vcf')"
   ]
  },
  {
   "cell_type": "code",
   "execution_count": 33,
   "metadata": {},
   "outputs": [],
   "source": [
    "gt = allel.GenotypeArray(callset['calldata/GT'])"
   ]
  },
  {
   "cell_type": "code",
   "execution_count": 34,
   "metadata": {},
   "outputs": [],
   "source": [
    "ac = gt.count_alleles()"
   ]
  },
  {
   "cell_type": "code",
   "execution_count": 35,
   "metadata": {},
   "outputs": [
    {
     "data": {
      "text/plain": [
       "array([1, 4, 3, 3], dtype=int32)"
      ]
     },
     "execution_count": 35,
     "metadata": {},
     "output_type": "execute_result"
    }
   ],
   "source": [
    "ac[:,1]"
   ]
  },
  {
   "cell_type": "code",
   "execution_count": 36,
   "metadata": {},
   "outputs": [
    {
     "data": {
      "text/plain": [
       "array([0, 1, 0, 2, 1])"
      ]
     },
     "execution_count": 36,
     "metadata": {},
     "output_type": "execute_result"
    }
   ],
   "source": [
    "allel.sfs(ac[:,1])"
   ]
  },
  {
   "cell_type": "code",
   "execution_count": 37,
   "metadata": {},
   "outputs": [
    {
     "data": {
      "text/plain": [
       "array([0., 1., 0., 2., 1., 0., 0.])"
      ]
     },
     "execution_count": 37,
     "metadata": {},
     "output_type": "execute_result"
    }
   ],
   "source": [
    "treeseq_example.allele_frequency_spectrum(span_normalise=False, polarised=True)"
   ]
  },
  {
   "cell_type": "code",
   "execution_count": 38,
   "metadata": {},
   "outputs": [
    {
     "data": {
      "image/svg+xml": [
       "<svg baseProfile=\"full\" height=\"200\" version=\"1.1\" width=\"600\" xmlns=\"http://www.w3.org/2000/svg\" xmlns:ev=\"http://www.w3.org/2001/xml-events\" xmlns:xlink=\"http://www.w3.org/1999/xlink\"><defs><g id=\"tree_0\"><g fill=\"none\" id=\"edges\" stroke=\"black\"><path d=\"M 45.714285714285715 118.0 V 30.0 H 73.98809523809524\" id=\"edge_0_7\"/><path d=\"M 33.80952380952381 140.0 V 118.0 H 45.714285714285715\" id=\"edge_0_0\"/><path d=\"M 57.61904761904762 140.0 V 118.0 H 45.714285714285715\" id=\"edge_0_1\"/><path d=\"M 102.26190476190476 63.0 V 30.0 H 73.98809523809524\" id=\"edge_0_11\"/><path d=\"M 81.42857142857143 140.0 V 63.0 H 102.26190476190476\" id=\"edge_0_2\"/><path d=\"M 123.09523809523809 74.0 V 63.0 H 102.26190476190476\" id=\"edge_0_9\"/><path d=\"M 105.23809523809524 140.0 V 74.0 H 123.09523809523809\" id=\"edge_0_5\"/><path d=\"M 140.95238095238093 107.0 V 74.0 H 123.09523809523809\" id=\"edge_0_8\"/><path d=\"M 129.04761904761904 140.0 V 107.0 H 140.95238095238093\" id=\"edge_0_3\"/><path d=\"M 152.85714285714283 140.0 V 107.0 H 140.95238095238093\" id=\"edge_0_4\"/></g><g id=\"symbols\"><g class=\"nodes\"><circle cx=\"73.98809523809524\" cy=\"30.0\" id=\"node_0_12\" r=\"3\"/><circle cx=\"45.714285714285715\" cy=\"118.0\" id=\"node_0_7\" r=\"3\"/><circle cx=\"33.80952380952381\" cy=\"140.0\" id=\"node_0_0\" r=\"3\"/><circle cx=\"57.61904761904762\" cy=\"140.0\" id=\"node_0_1\" r=\"3\"/><circle cx=\"102.26190476190476\" cy=\"63.0\" id=\"node_0_11\" r=\"3\"/><circle cx=\"81.42857142857143\" cy=\"140.0\" id=\"node_0_2\" r=\"3\"/><circle cx=\"123.09523809523809\" cy=\"74.0\" id=\"node_0_9\" r=\"3\"/><circle cx=\"105.23809523809524\" cy=\"140.0\" id=\"node_0_5\" r=\"3\"/><circle cx=\"140.95238095238093\" cy=\"107.0\" id=\"node_0_8\" r=\"3\"/><circle cx=\"129.04761904761904\" cy=\"140.0\" id=\"node_0_3\" r=\"3\"/><circle cx=\"152.85714285714283\" cy=\"140.0\" id=\"node_0_4\" r=\"3\"/></g><g class=\"mutations\" fill=\"red\"><rect height=\"6\" transform=\"translate(-3, -3)\" width=\"6\" x=\"33.80952380952381\" y=\"129.0\"/><rect height=\"6\" transform=\"translate(-3, -3)\" width=\"6\" x=\"102.26190476190476\" y=\"46.5\"/></g></g><g font-size=\"14\" id=\"labels\"><g class=\"nodes\"><g text-anchor=\"start\"><text x=\"107.26190476190476\" y=\"58.0\">11</text><text x=\"128.09523809523807\" y=\"69.0\">9</text><text x=\"145.95238095238093\" y=\"102.0\">8</text></g><g text-anchor=\"middle\"><text x=\"73.98809523809524\" y=\"25.0\">12</text><text x=\"33.80952380952381\" y=\"160.0\">0</text><text x=\"57.61904761904762\" y=\"160.0\">1</text><text x=\"81.42857142857143\" y=\"160.0\">2</text><text x=\"105.23809523809524\" y=\"160.0\">5</text><text x=\"129.04761904761904\" y=\"160.0\">3</text><text x=\"152.85714285714283\" y=\"160.0\">4</text></g><g text-anchor=\"end\"><text x=\"40.714285714285715\" y=\"113.0\">7</text></g></g><g class=\"mutations\" font-style=\"italic\"><g text-anchor=\"start\"><text x=\"107.26190476190476\" y=\"50.5\">1</text></g><g text-anchor=\"end\"><text x=\"28.80952380952381\" y=\"133.0\">0</text></g></g></g></g><g id=\"tree_1\"><g fill=\"none\" id=\"edges\" stroke=\"black\"><path d=\"M 45.714285714285715 118.0 V 30.0 H 73.98809523809524\" id=\"edge_1_7\"/><path d=\"M 33.80952380952381 140.0 V 118.0 H 45.714285714285715\" id=\"edge_1_0\"/><path d=\"M 57.61904761904762 140.0 V 118.0 H 45.714285714285715\" id=\"edge_1_1\"/><path d=\"M 102.26190476190476 74.0 V 30.0 H 73.98809523809524\" id=\"edge_1_9\"/><path d=\"M 81.42857142857143 140.0 V 74.0 H 102.26190476190476\" id=\"edge_1_5\"/><path d=\"M 123.09523809523809 107.0 V 74.0 H 102.26190476190476\" id=\"edge_1_8\"/><path d=\"M 105.23809523809524 140.0 V 107.0 H 123.09523809523809\" id=\"edge_1_4\"/><path d=\"M 140.95238095238093 118.0 V 107.0 H 123.09523809523809\" id=\"edge_1_6\"/><path d=\"M 129.04761904761904 140.0 V 118.0 H 140.95238095238093\" id=\"edge_1_2\"/><path d=\"M 152.85714285714283 140.0 V 118.0 H 140.95238095238093\" id=\"edge_1_3\"/></g><g id=\"symbols\"><g class=\"nodes\"><circle cx=\"73.98809523809524\" cy=\"30.0\" id=\"node_1_12\" r=\"3\"/><circle cx=\"45.714285714285715\" cy=\"118.0\" id=\"node_1_7\" r=\"3\"/><circle cx=\"33.80952380952381\" cy=\"140.0\" id=\"node_1_0\" r=\"3\"/><circle cx=\"57.61904761904762\" cy=\"140.0\" id=\"node_1_1\" r=\"3\"/><circle cx=\"102.26190476190476\" cy=\"74.0\" id=\"node_1_9\" r=\"3\"/><circle cx=\"81.42857142857143\" cy=\"140.0\" id=\"node_1_5\" r=\"3\"/><circle cx=\"123.09523809523809\" cy=\"107.0\" id=\"node_1_8\" r=\"3\"/><circle cx=\"105.23809523809524\" cy=\"140.0\" id=\"node_1_4\" r=\"3\"/><circle cx=\"140.95238095238093\" cy=\"118.0\" id=\"node_1_6\" r=\"3\"/><circle cx=\"129.04761904761904\" cy=\"140.0\" id=\"node_1_2\" r=\"3\"/><circle cx=\"152.85714285714283\" cy=\"140.0\" id=\"node_1_3\" r=\"3\"/></g><g class=\"mutations\" fill=\"red\"><rect height=\"6\" transform=\"translate(-3, -3)\" width=\"6\" x=\"123.09523809523809\" y=\"90.5\"/></g></g><g font-size=\"14\" id=\"labels\"><g class=\"nodes\"><g text-anchor=\"start\"><text x=\"107.26190476190476\" y=\"69.0\">9</text><text x=\"128.09523809523807\" y=\"102.0\">8</text><text x=\"145.95238095238093\" y=\"113.0\">6</text></g><g text-anchor=\"middle\"><text x=\"73.98809523809524\" y=\"25.0\">12</text><text x=\"33.80952380952381\" y=\"160.0\">0</text><text x=\"57.61904761904762\" y=\"160.0\">1</text><text x=\"81.42857142857143\" y=\"160.0\">5</text><text x=\"105.23809523809524\" y=\"160.0\">4</text><text x=\"129.04761904761904\" y=\"160.0\">2</text><text x=\"152.85714285714283\" y=\"160.0\">3</text></g><g text-anchor=\"end\"><text x=\"40.714285714285715\" y=\"113.0\">7</text></g></g><g class=\"mutations\" font-style=\"italic\"><g text-anchor=\"start\"><text x=\"128.09523809523807\" y=\"94.5\">2</text></g><g text-anchor=\"end\"/></g></g></g><g id=\"tree_2\"><g fill=\"none\" id=\"edges\" stroke=\"black\"><path d=\"M 51.666666666666664 74.0 V 30.0 H 87.38095238095238\" id=\"edge_2_9\"/><path d=\"M 33.80952380952381 140.0 V 74.0 H 51.666666666666664\" id=\"edge_2_5\"/><path d=\"M 69.52380952380952 107.0 V 74.0 H 51.666666666666664\" id=\"edge_2_8\"/><path d=\"M 57.61904761904762 140.0 V 107.0 H 69.52380952380952\" id=\"edge_2_4\"/><path d=\"M 81.42857142857143 140.0 V 107.0 H 69.52380952380952\" id=\"edge_2_2\"/><path d=\"M 123.09523809523809 74.0 V 30.0 H 87.38095238095238\" id=\"edge_2_10\"/><path d=\"M 105.23809523809524 140.0 V 74.0 H 123.09523809523809\" id=\"edge_2_3\"/><path d=\"M 140.95238095238093 118.0 V 74.0 H 123.09523809523809\" id=\"edge_2_7\"/><path d=\"M 129.04761904761904 140.0 V 118.0 H 140.95238095238093\" id=\"edge_2_0\"/><path d=\"M 152.85714285714283 140.0 V 118.0 H 140.95238095238093\" id=\"edge_2_1\"/></g><g id=\"symbols\"><g class=\"nodes\"><circle cx=\"87.38095238095238\" cy=\"30.0\" id=\"node_2_12\" r=\"3\"/><circle cx=\"51.666666666666664\" cy=\"74.0\" id=\"node_2_9\" r=\"3\"/><circle cx=\"33.80952380952381\" cy=\"140.0\" id=\"node_2_5\" r=\"3\"/><circle cx=\"69.52380952380952\" cy=\"107.0\" id=\"node_2_8\" r=\"3\"/><circle cx=\"57.61904761904762\" cy=\"140.0\" id=\"node_2_4\" r=\"3\"/><circle cx=\"81.42857142857143\" cy=\"140.0\" id=\"node_2_2\" r=\"3\"/><circle cx=\"123.09523809523809\" cy=\"74.0\" id=\"node_2_10\" r=\"3\"/><circle cx=\"105.23809523809524\" cy=\"140.0\" id=\"node_2_3\" r=\"3\"/><circle cx=\"140.95238095238093\" cy=\"118.0\" id=\"node_2_7\" r=\"3\"/><circle cx=\"129.04761904761904\" cy=\"140.0\" id=\"node_2_0\" r=\"3\"/><circle cx=\"152.85714285714283\" cy=\"140.0\" id=\"node_2_1\" r=\"3\"/></g><g class=\"mutations\" fill=\"red\"><rect height=\"6\" transform=\"translate(-3, -3)\" width=\"6\" x=\"123.09523809523809\" y=\"52.0\"/></g></g><g font-size=\"14\" id=\"labels\"><g class=\"nodes\"><g text-anchor=\"start\"><text x=\"74.52380952380952\" y=\"102.0\">8</text><text x=\"128.09523809523807\" y=\"69.0\">10</text><text x=\"145.95238095238093\" y=\"113.0\">7</text></g><g text-anchor=\"middle\"><text x=\"87.38095238095238\" y=\"25.0\">12</text><text x=\"33.80952380952381\" y=\"160.0\">5</text><text x=\"57.61904761904762\" y=\"160.0\">4</text><text x=\"81.42857142857143\" y=\"160.0\">2</text><text x=\"105.23809523809524\" y=\"160.0\">3</text><text x=\"129.04761904761904\" y=\"160.0\">0</text><text x=\"152.85714285714283\" y=\"160.0\">1</text></g><g text-anchor=\"end\"><text x=\"46.666666666666664\" y=\"69.0\">9</text></g></g><g class=\"mutations\" font-style=\"italic\"><g text-anchor=\"start\"><text x=\"128.09523809523807\" y=\"56.0\">3</text></g><g text-anchor=\"end\"/></g></g></g></defs><use x=\"20\" xlink:href=\"#tree_0\" y=\"15\"/><use x=\"206.66666666666666\" xlink:href=\"#tree_1\" y=\"15\"/><use x=\"393.3333333333333\" xlink:href=\"#tree_2\" y=\"15\"/><line stroke=\"black\" x1=\"20\" x2=\"580\" y1=\"180\" y2=\"180\"/><line stroke=\"black\" x1=\"20\" x2=\"20\" y1=\"175\" y2=\"185\"/><text font-size=\"14\" font-weight=\"bold\" text-anchor=\"middle\" x=\"20\" y=\"200\">0.00</text><line stroke=\"black\" x1=\"206.66666666666666\" x2=\"206.66666666666666\" y1=\"175\" y2=\"185\"/><text font-size=\"14\" font-weight=\"bold\" text-anchor=\"middle\" x=\"206.66666666666666\" y=\"200\">15.00</text><line stroke=\"black\" x1=\"393.3333333333333\" x2=\"393.3333333333333\" y1=\"175\" y2=\"185\"/><text font-size=\"14\" font-weight=\"bold\" text-anchor=\"middle\" x=\"393.3333333333333\" y=\"200\">30.00</text><line stroke=\"black\" x1=\"580.0\" x2=\"580.0\" y1=\"175\" y2=\"185\"/><text font-size=\"14\" font-weight=\"bold\" text-anchor=\"middle\" x=\"580.0\" y=\"200\">50.00</text></svg>"
      ],
      "text/plain": [
       "<IPython.core.display.SVG object>"
      ]
     },
     "execution_count": 38,
     "metadata": {},
     "output_type": "execute_result"
    }
   ],
   "source": [
    "SVG(treeseq_example.draw_svg())"
   ]
  },
  {
   "cell_type": "code",
   "execution_count": 39,
   "metadata": {},
   "outputs": [
    {
     "data": {
      "text/plain": [
       "array([[0.4, 0.3, 0.3]])"
      ]
     },
     "execution_count": 39,
     "metadata": {},
     "output_type": "execute_result"
    }
   ],
   "source": [
    "treeseq_example.genealogical_nearest_neighbours([3], [[0, 1], [2], [4, 5]])"
   ]
  },
  {
   "cell_type": "markdown",
   "metadata": {
    "slideshow": {
     "slide_type": "slide"
    }
   },
   "source": [
    "## *P. vivax* Example\n",
    "\n"
   ]
  },
  {
   "cell_type": "markdown",
   "metadata": {
    "slideshow": {
     "slide_type": "fragment"
    }
   },
   "source": [
    "We now use tsinfer on real data from the [ *P. vivax* Genome Variation Project](https://www.malariagen.net/projects/p-vivax-genome-variation), which contains 228 samples from 13 countries. Joe Zhu, formerly of the McVean group at Oxford, ran [Deploid](https://github.com/DEploid-dev/DEploid) on this dataset to identify 124 clonal samples. He then phased and imputed haplotypes for each strain.\n",
    "<br> \n"
   ]
  },
  {
   "cell_type": "markdown",
   "metadata": {
    "slideshow": {
     "slide_type": "fragment"
    }
   },
   "source": [
    "Since $\\texttt{tsinfer}$ requires ancestral and derived alleles, Wilder used [$\\texttt{Mauve}$](http://darlinglab.org/mauve/mauve.html) to create a multi-species alignment of the *vivax* genome to outgroups.  A rules-based maximum parsimony approach was used to determine ancestral alleles using this multi-species alignment. \n",
    "<br>\n",
    "We have pre-made a SampleData object that $\\texttt{tsinfer}$ requires to run Chromosome 1 of the 124 vivax samples. The data wrangling necessary when working with VCFs is thus kept under the hood."
   ]
  },
  {
   "cell_type": "code",
   "execution_count": 40,
   "metadata": {
    "slideshow": {
     "slide_type": "fragment"
    }
   },
   "outputs": [],
   "source": [
    "vivax_inferred_ts = tskit.load(\"data/vivax_inferred_ts.trees\")"
   ]
  },
  {
   "cell_type": "code",
   "execution_count": 41,
   "metadata": {
    "slideshow": {
     "slide_type": "fragment"
    }
   },
   "outputs": [
    {
     "data": {
      "text/plain": [
       "1475"
      ]
     },
     "execution_count": 41,
     "metadata": {},
     "output_type": "execute_result"
    }
   ],
   "source": [
    "vivax_inferred_ts.num_trees"
   ]
  },
  {
   "cell_type": "markdown",
   "metadata": {
    "slideshow": {
     "slide_type": "subslide"
    }
   },
   "source": [
    "Let's visualise the first of the 1475 inferred marginal trees."
   ]
  },
  {
   "cell_type": "code",
   "execution_count": 42,
   "metadata": {
    "slideshow": {
     "slide_type": "fragment"
    }
   },
   "outputs": [
    {
     "data": {
      "image/svg+xml": [
       "<svg baseProfile=\"full\" height=\"200\" version=\"1.1\" width=\"500\" xmlns=\"http://www.w3.org/2000/svg\" xmlns:ev=\"http://www.w3.org/2001/xml-events\" xmlns:xlink=\"http://www.w3.org/1999/xlink\"><defs/><g id=\"tree_0\"><g fill=\"none\" id=\"edges\" stroke=\"black\"><path d=\"M 13.84 170.0 V 30.0 H 133.49499999999995\" id=\"edge_0_14\"/><path d=\"M 17.68 170.0 V 30.0 H 133.49499999999995\" id=\"edge_0_26\"/><path d=\"M 21.52 170.0 V 30.0 H 133.49499999999995\" id=\"edge_0_39\"/><path d=\"M 25.36 170.0 V 30.0 H 133.49499999999995\" id=\"edge_0_47\"/><path d=\"M 29.2 170.0 V 30.0 H 133.49499999999995\" id=\"edge_0_50\"/><path d=\"M 33.04 170.0 V 30.0 H 133.49499999999995\" id=\"edge_0_52\"/><path d=\"M 36.879999999999995 170.0 V 30.0 H 133.49499999999995\" id=\"edge_0_54\"/><path d=\"M 40.72 170.0 V 30.0 H 133.49499999999995\" id=\"edge_0_67\"/><path d=\"M 44.56 170.0 V 30.0 H 133.49499999999995\" id=\"edge_0_83\"/><path d=\"M 48.400000000000006 170.0 V 30.0 H 133.49499999999995\" id=\"edge_0_87\"/><path d=\"M 54.16000000000001 168.54166666666666 V 30.0 H 133.49499999999995\" id=\"edge_0_329\"/><path d=\"M 52.24000000000001 170.0 V 168.54166666666666 H 54.16000000000001\" id=\"edge_0_73\"/><path d=\"M 56.08000000000001 170.0 V 168.54166666666666 H 54.16000000000001\" id=\"edge_0_88\"/><path d=\"M 63.76000000000002 167.08333333333334 V 30.0 H 133.49499999999995\" id=\"edge_0_887\"/><path d=\"M 59.920000000000016 170.0 V 167.08333333333334 H 63.76000000000002\" id=\"edge_0_57\"/><path d=\"M 63.76000000000002 170.0 V 167.08333333333334 H 63.76000000000002\" id=\"edge_0_58\"/><path d=\"M 67.60000000000002 170.0 V 167.08333333333334 H 63.76000000000002\" id=\"edge_0_59\"/><path d=\"M 75.28000000000003 167.08333333333334 V 30.0 H 133.49499999999995\" id=\"edge_0_1028\"/><path d=\"M 71.44000000000003 170.0 V 167.08333333333334 H 75.28000000000003\" id=\"edge_0_41\"/><path d=\"M 75.28000000000003 170.0 V 167.08333333333334 H 75.28000000000003\" id=\"edge_0_51\"/><path d=\"M 79.12000000000003 170.0 V 167.08333333333334 H 75.28000000000003\" id=\"edge_0_119\"/><path d=\"M 88.72000000000004 165.625 V 30.0 H 133.49499999999995\" id=\"edge_0_1154\"/><path d=\"M 82.96000000000004 170.0 V 165.625 H 88.72000000000004\" id=\"edge_0_48\"/><path d=\"M 86.80000000000004 170.0 V 165.625 H 88.72000000000004\" id=\"edge_0_62\"/><path d=\"M 90.64000000000004 170.0 V 165.625 H 88.72000000000004\" id=\"edge_0_71\"/><path d=\"M 94.48000000000005 170.0 V 165.625 H 88.72000000000004\" id=\"edge_0_110\"/><path d=\"M 253.14999999999992 85.41666666666667 V 30.0 H 133.49499999999995\" id=\"edge_0_1816\"/><path d=\"M 180.4000000000001 101.45833333333334 V 85.41666666666667 H 253.14999999999992\" id=\"edge_0_1790\"/><path d=\"M 98.32000000000005 170.0 V 101.45833333333334 H 180.4000000000001\" id=\"edge_0_0\"/><path d=\"M 102.16000000000005 170.0 V 101.45833333333334 H 180.4000000000001\" id=\"edge_0_2\"/><path d=\"M 106.00000000000006 170.0 V 101.45833333333334 H 180.4000000000001\" id=\"edge_0_5\"/><path d=\"M 109.84000000000006 170.0 V 101.45833333333334 H 180.4000000000001\" id=\"edge_0_11\"/><path d=\"M 113.68000000000006 170.0 V 101.45833333333334 H 180.4000000000001\" id=\"edge_0_15\"/><path d=\"M 117.52000000000007 170.0 V 101.45833333333334 H 180.4000000000001\" id=\"edge_0_17\"/><path d=\"M 121.36000000000007 170.0 V 101.45833333333334 H 180.4000000000001\" id=\"edge_0_23\"/><path d=\"M 125.20000000000007 170.0 V 101.45833333333334 H 180.4000000000001\" id=\"edge_0_24\"/><path d=\"M 129.04000000000008 170.0 V 101.45833333333334 H 180.4000000000001\" id=\"edge_0_25\"/><path d=\"M 132.88000000000008 170.0 V 101.45833333333334 H 180.4000000000001\" id=\"edge_0_31\"/><path d=\"M 136.72000000000008 170.0 V 101.45833333333334 H 180.4000000000001\" id=\"edge_0_34\"/><path d=\"M 140.5600000000001 170.0 V 101.45833333333334 H 180.4000000000001\" id=\"edge_0_44\"/><path d=\"M 144.4000000000001 170.0 V 101.45833333333334 H 180.4000000000001\" id=\"edge_0_66\"/><path d=\"M 148.2400000000001 170.0 V 101.45833333333334 H 180.4000000000001\" id=\"edge_0_72\"/><path d=\"M 152.0800000000001 170.0 V 101.45833333333334 H 180.4000000000001\" id=\"edge_0_97\"/><path d=\"M 155.9200000000001 170.0 V 101.45833333333334 H 180.4000000000001\" id=\"edge_0_105\"/><path d=\"M 159.7600000000001 170.0 V 101.45833333333334 H 180.4000000000001\" id=\"edge_0_111\"/><path d=\"M 163.6000000000001 170.0 V 101.45833333333334 H 180.4000000000001\" id=\"edge_0_116\"/><path d=\"M 173.2000000000001 168.54166666666666 V 101.45833333333334 H 180.4000000000001\" id=\"edge_0_315\"/><path d=\"M 167.4400000000001 170.0 V 168.54166666666666 H 173.2000000000001\" id=\"edge_0_74\"/><path d=\"M 171.28000000000011 170.0 V 168.54166666666666 H 173.2000000000001\" id=\"edge_0_93\"/><path d=\"M 175.12000000000012 170.0 V 168.54166666666666 H 173.2000000000001\" id=\"edge_0_94\"/><path d=\"M 178.96000000000012 170.0 V 168.54166666666666 H 173.2000000000001\" id=\"edge_0_107\"/><path d=\"M 184.72000000000014 168.54166666666666 V 101.45833333333334 H 180.4000000000001\" id=\"edge_0_481\"/><path d=\"M 182.80000000000013 170.0 V 168.54166666666666 H 184.72000000000014\" id=\"edge_0_32\"/><path d=\"M 186.64000000000013 170.0 V 168.54166666666666 H 184.72000000000014\" id=\"edge_0_114\"/><path d=\"M 192.40000000000015 168.54166666666666 V 101.45833333333334 H 180.4000000000001\" id=\"edge_0_561\"/><path d=\"M 190.48000000000013 170.0 V 168.54166666666666 H 192.40000000000015\" id=\"edge_0_22\"/><path d=\"M 194.32000000000014 170.0 V 168.54166666666666 H 192.40000000000015\" id=\"edge_0_27\"/><path d=\"M 200.08000000000015 167.08333333333334 V 101.45833333333334 H 180.4000000000001\" id=\"edge_0_931\"/><path d=\"M 198.16000000000014 170.0 V 167.08333333333334 H 200.08000000000015\" id=\"edge_0_106\"/><path d=\"M 202.00000000000014 170.0 V 167.08333333333334 H 200.08000000000015\" id=\"edge_0_118\"/><path d=\"M 213.52000000000015 158.33333333333334 V 101.45833333333334 H 180.4000000000001\" id=\"edge_0_1561\"/><path d=\"M 205.84000000000015 170.0 V 158.33333333333334 H 213.52000000000015\" id=\"edge_0_6\"/><path d=\"M 209.68000000000015 170.0 V 158.33333333333334 H 213.52000000000015\" id=\"edge_0_10\"/><path d=\"M 213.52000000000015 170.0 V 158.33333333333334 H 213.52000000000015\" id=\"edge_0_56\"/><path d=\"M 217.36000000000016 170.0 V 158.33333333333334 H 213.52000000000015\" id=\"edge_0_65\"/><path d=\"M 221.20000000000016 170.0 V 158.33333333333334 H 213.52000000000015\" id=\"edge_0_113\"/><path d=\"M 231.76000000000016 153.95833333333334 V 101.45833333333334 H 180.4000000000001\" id=\"edge_0_1613\"/><path d=\"M 225.04000000000016 170.0 V 153.95833333333334 H 231.76000000000016\" id=\"edge_0_3\"/><path d=\"M 228.88000000000017 170.0 V 153.95833333333334 H 231.76000000000016\" id=\"edge_0_19\"/><path d=\"M 232.72000000000017 170.0 V 153.95833333333334 H 231.76000000000016\" id=\"edge_0_35\"/><path d=\"M 238.4800000000002 168.54166666666666 V 153.95833333333334 H 231.76000000000016\" id=\"edge_0_735\"/><path d=\"M 236.56000000000017 170.0 V 168.54166666666666 H 238.4800000000002\" id=\"edge_0_1\"/><path d=\"M 240.40000000000018 170.0 V 168.54166666666666 H 238.4800000000002\" id=\"edge_0_37\"/><path d=\"M 262.48000000000013 151.04166666666666 V 101.45833333333334 H 180.4000000000001\" id=\"edge_0_1639\"/><path d=\"M 244.24000000000018 170.0 V 151.04166666666666 H 262.48000000000013\" id=\"edge_0_9\"/><path d=\"M 248.08000000000018 170.0 V 151.04166666666666 H 262.48000000000013\" id=\"edge_0_49\"/><path d=\"M 251.9200000000002 170.0 V 151.04166666666666 H 262.48000000000013\" id=\"edge_0_95\"/><path d=\"M 257.6800000000002 168.54166666666666 V 151.04166666666666 H 262.48000000000013\" id=\"edge_0_391\"/><path d=\"M 255.7600000000002 170.0 V 168.54166666666666 H 257.6800000000002\" id=\"edge_0_55\"/><path d=\"M 259.6000000000002 170.0 V 168.54166666666666 H 257.6800000000002\" id=\"edge_0_70\"/><path d=\"M 269.20000000000016 167.08333333333334 V 151.04166666666666 H 262.48000000000013\" id=\"edge_0_1037\"/><path d=\"M 263.44000000000017 170.0 V 167.08333333333334 H 269.20000000000016\" id=\"edge_0_12\"/><path d=\"M 267.28000000000014 170.0 V 167.08333333333334 H 269.20000000000016\" id=\"edge_0_16\"/><path d=\"M 271.1200000000001 170.0 V 167.08333333333334 H 269.20000000000016\" id=\"edge_0_28\"/><path d=\"M 274.9600000000001 170.0 V 167.08333333333334 H 269.20000000000016\" id=\"edge_0_108\"/><path d=\"M 280.72 159.79166666666666 V 151.04166666666666 H 262.48000000000013\" id=\"edge_0_1531\"/><path d=\"M 278.80000000000007 170.0 V 159.79166666666666 H 280.72\" id=\"edge_0_21\"/><path d=\"M 282.64000000000004 170.0 V 159.79166666666666 H 280.72\" id=\"edge_0_45\"/><path d=\"M 325.89999999999975 89.79166666666667 V 85.41666666666667 H 253.14999999999992\" id=\"edge_0_1810\"/><path d=\"M 288.4 168.54166666666666 V 89.79166666666667 H 325.89999999999975\" id=\"edge_0_587\"/><path d=\"M 286.48 170.0 V 168.54166666666666 H 288.4\" id=\"edge_0_18\"/><path d=\"M 290.32 170.0 V 168.54166666666666 H 288.4\" id=\"edge_0_120\"/><path d=\"M 363.3999999999995 100.0 V 89.79166666666667 H 325.89999999999975\" id=\"edge_0_1792\"/><path d=\"M 294.15999999999997 170.0 V 100.0 H 363.3999999999995\" id=\"edge_0_30\"/><path d=\"M 297.99999999999994 170.0 V 100.0 H 363.3999999999995\" id=\"edge_0_38\"/><path d=\"M 301.8399999999999 170.0 V 100.0 H 363.3999999999995\" id=\"edge_0_60\"/><path d=\"M 305.6799999999999 170.0 V 100.0 H 363.3999999999995\" id=\"edge_0_61\"/><path d=\"M 309.51999999999987 170.0 V 100.0 H 363.3999999999995\" id=\"edge_0_63\"/><path d=\"M 313.35999999999984 170.0 V 100.0 H 363.3999999999995\" id=\"edge_0_76\"/><path d=\"M 317.1999999999998 170.0 V 100.0 H 363.3999999999995\" id=\"edge_0_79\"/><path d=\"M 321.0399999999998 170.0 V 100.0 H 363.3999999999995\" id=\"edge_0_90\"/><path d=\"M 324.87999999999977 170.0 V 100.0 H 363.3999999999995\" id=\"edge_0_101\"/><path d=\"M 328.71999999999974 170.0 V 100.0 H 363.3999999999995\" id=\"edge_0_109\"/><path d=\"M 332.5599999999997 170.0 V 100.0 H 363.3999999999995\" id=\"edge_0_112\"/><path d=\"M 338.3199999999997 168.54166666666666 V 100.0 H 363.3999999999995\" id=\"edge_0_130\"/><path d=\"M 336.3999999999997 170.0 V 168.54166666666666 H 338.3199999999997\" id=\"edge_0_4\"/><path d=\"M 340.23999999999967 170.0 V 168.54166666666666 H 338.3199999999997\" id=\"edge_0_117\"/><path d=\"M 345.99999999999966 168.54166666666666 V 100.0 H 363.3999999999995\" id=\"edge_0_218\"/><path d=\"M 344.07999999999964 170.0 V 168.54166666666666 H 345.99999999999966\" id=\"edge_0_86\"/><path d=\"M 347.9199999999996 170.0 V 168.54166666666666 H 345.99999999999966\" id=\"edge_0_89\"/><path d=\"M 353.6799999999996 167.08333333333334 V 100.0 H 363.3999999999995\" id=\"edge_0_919\"/><path d=\"M 351.7599999999996 170.0 V 167.08333333333334 H 353.6799999999996\" id=\"edge_0_53\"/><path d=\"M 355.59999999999957 170.0 V 167.08333333333334 H 353.6799999999996\" id=\"edge_0_69\"/><path d=\"M 363.2799999999995 164.16666666666666 V 100.0 H 363.3999999999995\" id=\"edge_0_1329\"/><path d=\"M 359.43999999999954 170.0 V 164.16666666666666 H 363.2799999999995\" id=\"edge_0_20\"/><path d=\"M 363.2799999999995 170.0 V 164.16666666666666 H 363.2799999999995\" id=\"edge_0_29\"/><path d=\"M 367.1199999999995 170.0 V 164.16666666666666 H 363.2799999999995\" id=\"edge_0_46\"/><path d=\"M 376.23999999999944 159.79166666666666 V 100.0 H 363.3999999999995\" id=\"edge_0_1533\"/><path d=\"M 370.95999999999947 170.0 V 159.79166666666666 H 376.23999999999944\" id=\"edge_0_36\"/><path d=\"M 374.79999999999944 170.0 V 159.79166666666666 H 376.23999999999944\" id=\"edge_0_121\"/><path d=\"M 381.5199999999994 165.625 V 159.79166666666666 H 376.23999999999944\" id=\"edge_0_1242\"/><path d=\"M 378.6399999999994 170.0 V 165.625 H 381.5199999999994\" id=\"edge_0_40\"/><path d=\"M 384.3999999999994 168.54166666666666 V 165.625 H 381.5199999999994\" id=\"edge_0_680\"/><path d=\"M 382.4799999999994 170.0 V 168.54166666666666 H 384.3999999999994\" id=\"edge_0_7\"/><path d=\"M 386.31999999999937 170.0 V 168.54166666666666 H 384.3999999999994\" id=\"edge_0_43\"/><path d=\"M 394.95999999999935 137.91666666666669 V 100.0 H 363.3999999999995\" id=\"edge_0_1704\"/><path d=\"M 390.15999999999934 170.0 V 137.91666666666669 H 394.95999999999935\" id=\"edge_0_68\"/><path d=\"M 393.9999999999993 170.0 V 137.91666666666669 H 394.95999999999935\" id=\"edge_0_115\"/><path d=\"M 399.7599999999993 164.16666666666666 V 137.91666666666669 H 394.95999999999935\" id=\"edge_0_1319\"/><path d=\"M 397.8399999999993 170.0 V 164.16666666666666 H 399.7599999999993\" id=\"edge_0_33\"/><path d=\"M 401.67999999999927 170.0 V 164.16666666666666 H 399.7599999999993\" id=\"edge_0_64\"/><path d=\"M 432.6399999999991 124.79166666666669 V 100.0 H 363.3999999999995\" id=\"edge_0_1742\"/><path d=\"M 405.51999999999924 170.0 V 124.79166666666669 H 432.6399999999991\" id=\"edge_0_78\"/><path d=\"M 409.3599999999992 170.0 V 124.79166666666669 H 432.6399999999991\" id=\"edge_0_82\"/><path d=\"M 415.1199999999992 168.54166666666666 V 124.79166666666669 H 432.6399999999991\" id=\"edge_0_165\"/><path d=\"M 413.1999999999992 170.0 V 168.54166666666666 H 415.1199999999992\" id=\"edge_0_99\"/><path d=\"M 417.03999999999917 170.0 V 168.54166666666666 H 415.1199999999992\" id=\"edge_0_102\"/><path d=\"M 422.79999999999916 168.54166666666666 V 124.79166666666669 H 432.6399999999991\" id=\"edge_0_262\"/><path d=\"M 420.87999999999914 170.0 V 168.54166666666666 H 422.79999999999916\" id=\"edge_0_80\"/><path d=\"M 424.7199999999991 170.0 V 168.54166666666666 H 422.79999999999916\" id=\"edge_0_81\"/><path d=\"M 434.319999999999 167.08333333333334 V 124.79166666666669 H 432.6399999999991\" id=\"edge_0_782\"/><path d=\"M 428.5599999999991 170.0 V 167.08333333333334 H 434.319999999999\" id=\"edge_0_77\"/><path d=\"M 432.39999999999907 170.0 V 167.08333333333334 H 434.319999999999\" id=\"edge_0_98\"/><path d=\"M 436.23999999999904 170.0 V 167.08333333333334 H 434.319999999999\" id=\"edge_0_100\"/><path d=\"M 440.079999999999 170.0 V 167.08333333333334 H 434.319999999999\" id=\"edge_0_104\"/><path d=\"M 459.75999999999885 139.375 V 124.79166666666669 H 432.6399999999991\" id=\"edge_0_1692\"/><path d=\"M 443.919999999999 170.0 V 139.375 H 459.75999999999885\" id=\"edge_0_13\"/><path d=\"M 447.75999999999897 170.0 V 139.375 H 459.75999999999885\" id=\"edge_0_85\"/><path d=\"M 451.59999999999894 170.0 V 139.375 H 459.75999999999885\" id=\"edge_0_91\"/><path d=\"M 455.4399999999989 170.0 V 139.375 H 459.75999999999885\" id=\"edge_0_92\"/><path d=\"M 459.2799999999989 170.0 V 139.375 H 459.75999999999885\" id=\"edge_0_103\"/><path d=\"M 463.11999999999887 170.0 V 139.375 H 459.75999999999885\" id=\"edge_0_122\"/><path d=\"M 475.5999999999988 167.08333333333334 V 139.375 H 459.75999999999885\" id=\"edge_0_949\"/><path d=\"M 466.95999999999884 170.0 V 167.08333333333334 H 475.5999999999988\" id=\"edge_0_8\"/><path d=\"M 470.7999999999988 170.0 V 167.08333333333334 H 475.5999999999988\" id=\"edge_0_42\"/><path d=\"M 474.6399999999988 170.0 V 167.08333333333334 H 475.5999999999988\" id=\"edge_0_84\"/><path d=\"M 478.47999999999877 170.0 V 167.08333333333334 H 475.5999999999988\" id=\"edge_0_123\"/><path d=\"M 484.23999999999876 168.54166666666666 V 167.08333333333334 H 475.5999999999988\" id=\"edge_0_302\"/><path d=\"M 482.31999999999874 170.0 V 168.54166666666666 H 484.23999999999876\" id=\"edge_0_75\"/><path d=\"M 486.1599999999987 170.0 V 168.54166666666666 H 484.23999999999876\" id=\"edge_0_96\"/></g><g id=\"symbols\"><g class=\"nodes\"><circle cx=\"133.49499999999995\" cy=\"30.0\" id=\"node_0_1874\" r=\"3\"/><circle cx=\"13.84\" cy=\"170.0\" id=\"node_0_14\" r=\"3\"/><circle cx=\"17.68\" cy=\"170.0\" id=\"node_0_26\" r=\"3\"/><circle cx=\"21.52\" cy=\"170.0\" id=\"node_0_39\" r=\"3\"/><circle cx=\"25.36\" cy=\"170.0\" id=\"node_0_47\" r=\"3\"/><circle cx=\"29.2\" cy=\"170.0\" id=\"node_0_50\" r=\"3\"/><circle cx=\"33.04\" cy=\"170.0\" id=\"node_0_52\" r=\"3\"/><circle cx=\"36.879999999999995\" cy=\"170.0\" id=\"node_0_54\" r=\"3\"/><circle cx=\"40.72\" cy=\"170.0\" id=\"node_0_67\" r=\"3\"/><circle cx=\"44.56\" cy=\"170.0\" id=\"node_0_83\" r=\"3\"/><circle cx=\"48.400000000000006\" cy=\"170.0\" id=\"node_0_87\" r=\"3\"/><circle cx=\"54.16000000000001\" cy=\"168.54166666666666\" id=\"node_0_329\" r=\"3\"/><circle cx=\"52.24000000000001\" cy=\"170.0\" id=\"node_0_73\" r=\"3\"/><circle cx=\"56.08000000000001\" cy=\"170.0\" id=\"node_0_88\" r=\"3\"/><circle cx=\"63.76000000000002\" cy=\"167.08333333333334\" id=\"node_0_887\" r=\"3\"/><circle cx=\"59.920000000000016\" cy=\"170.0\" id=\"node_0_57\" r=\"3\"/><circle cx=\"63.76000000000002\" cy=\"170.0\" id=\"node_0_58\" r=\"3\"/><circle cx=\"67.60000000000002\" cy=\"170.0\" id=\"node_0_59\" r=\"3\"/><circle cx=\"75.28000000000003\" cy=\"167.08333333333334\" id=\"node_0_1028\" r=\"3\"/><circle cx=\"71.44000000000003\" cy=\"170.0\" id=\"node_0_41\" r=\"3\"/><circle cx=\"75.28000000000003\" cy=\"170.0\" id=\"node_0_51\" r=\"3\"/><circle cx=\"79.12000000000003\" cy=\"170.0\" id=\"node_0_119\" r=\"3\"/><circle cx=\"88.72000000000004\" cy=\"165.625\" id=\"node_0_1154\" r=\"3\"/><circle cx=\"82.96000000000004\" cy=\"170.0\" id=\"node_0_48\" r=\"3\"/><circle cx=\"86.80000000000004\" cy=\"170.0\" id=\"node_0_62\" r=\"3\"/><circle cx=\"90.64000000000004\" cy=\"170.0\" id=\"node_0_71\" r=\"3\"/><circle cx=\"94.48000000000005\" cy=\"170.0\" id=\"node_0_110\" r=\"3\"/><circle cx=\"253.14999999999992\" cy=\"85.41666666666667\" id=\"node_0_1816\" r=\"3\"/><circle cx=\"180.4000000000001\" cy=\"101.45833333333334\" id=\"node_0_1790\" r=\"3\"/><circle cx=\"98.32000000000005\" cy=\"170.0\" id=\"node_0_0\" r=\"3\"/><circle cx=\"102.16000000000005\" cy=\"170.0\" id=\"node_0_2\" r=\"3\"/><circle cx=\"106.00000000000006\" cy=\"170.0\" id=\"node_0_5\" r=\"3\"/><circle cx=\"109.84000000000006\" cy=\"170.0\" id=\"node_0_11\" r=\"3\"/><circle cx=\"113.68000000000006\" cy=\"170.0\" id=\"node_0_15\" r=\"3\"/><circle cx=\"117.52000000000007\" cy=\"170.0\" id=\"node_0_17\" r=\"3\"/><circle cx=\"121.36000000000007\" cy=\"170.0\" id=\"node_0_23\" r=\"3\"/><circle cx=\"125.20000000000007\" cy=\"170.0\" id=\"node_0_24\" r=\"3\"/><circle cx=\"129.04000000000008\" cy=\"170.0\" id=\"node_0_25\" r=\"3\"/><circle cx=\"132.88000000000008\" cy=\"170.0\" id=\"node_0_31\" r=\"3\"/><circle cx=\"136.72000000000008\" cy=\"170.0\" id=\"node_0_34\" r=\"3\"/><circle cx=\"140.5600000000001\" cy=\"170.0\" id=\"node_0_44\" r=\"3\"/><circle cx=\"144.4000000000001\" cy=\"170.0\" id=\"node_0_66\" r=\"3\"/><circle cx=\"148.2400000000001\" cy=\"170.0\" id=\"node_0_72\" r=\"3\"/><circle cx=\"152.0800000000001\" cy=\"170.0\" id=\"node_0_97\" r=\"3\"/><circle cx=\"155.9200000000001\" cy=\"170.0\" id=\"node_0_105\" r=\"3\"/><circle cx=\"159.7600000000001\" cy=\"170.0\" id=\"node_0_111\" r=\"3\"/><circle cx=\"163.6000000000001\" cy=\"170.0\" id=\"node_0_116\" r=\"3\"/><circle cx=\"173.2000000000001\" cy=\"168.54166666666666\" id=\"node_0_315\" r=\"3\"/><circle cx=\"167.4400000000001\" cy=\"170.0\" id=\"node_0_74\" r=\"3\"/><circle cx=\"171.28000000000011\" cy=\"170.0\" id=\"node_0_93\" r=\"3\"/><circle cx=\"175.12000000000012\" cy=\"170.0\" id=\"node_0_94\" r=\"3\"/><circle cx=\"178.96000000000012\" cy=\"170.0\" id=\"node_0_107\" r=\"3\"/><circle cx=\"184.72000000000014\" cy=\"168.54166666666666\" id=\"node_0_481\" r=\"3\"/><circle cx=\"182.80000000000013\" cy=\"170.0\" id=\"node_0_32\" r=\"3\"/><circle cx=\"186.64000000000013\" cy=\"170.0\" id=\"node_0_114\" r=\"3\"/><circle cx=\"192.40000000000015\" cy=\"168.54166666666666\" id=\"node_0_561\" r=\"3\"/><circle cx=\"190.48000000000013\" cy=\"170.0\" id=\"node_0_22\" r=\"3\"/><circle cx=\"194.32000000000014\" cy=\"170.0\" id=\"node_0_27\" r=\"3\"/><circle cx=\"200.08000000000015\" cy=\"167.08333333333334\" id=\"node_0_931\" r=\"3\"/><circle cx=\"198.16000000000014\" cy=\"170.0\" id=\"node_0_106\" r=\"3\"/><circle cx=\"202.00000000000014\" cy=\"170.0\" id=\"node_0_118\" r=\"3\"/><circle cx=\"213.52000000000015\" cy=\"158.33333333333334\" id=\"node_0_1561\" r=\"3\"/><circle cx=\"205.84000000000015\" cy=\"170.0\" id=\"node_0_6\" r=\"3\"/><circle cx=\"209.68000000000015\" cy=\"170.0\" id=\"node_0_10\" r=\"3\"/><circle cx=\"213.52000000000015\" cy=\"170.0\" id=\"node_0_56\" r=\"3\"/><circle cx=\"217.36000000000016\" cy=\"170.0\" id=\"node_0_65\" r=\"3\"/><circle cx=\"221.20000000000016\" cy=\"170.0\" id=\"node_0_113\" r=\"3\"/><circle cx=\"231.76000000000016\" cy=\"153.95833333333334\" id=\"node_0_1613\" r=\"3\"/><circle cx=\"225.04000000000016\" cy=\"170.0\" id=\"node_0_3\" r=\"3\"/><circle cx=\"228.88000000000017\" cy=\"170.0\" id=\"node_0_19\" r=\"3\"/><circle cx=\"232.72000000000017\" cy=\"170.0\" id=\"node_0_35\" r=\"3\"/><circle cx=\"238.4800000000002\" cy=\"168.54166666666666\" id=\"node_0_735\" r=\"3\"/><circle cx=\"236.56000000000017\" cy=\"170.0\" id=\"node_0_1\" r=\"3\"/><circle cx=\"240.40000000000018\" cy=\"170.0\" id=\"node_0_37\" r=\"3\"/><circle cx=\"262.48000000000013\" cy=\"151.04166666666666\" id=\"node_0_1639\" r=\"3\"/><circle cx=\"244.24000000000018\" cy=\"170.0\" id=\"node_0_9\" r=\"3\"/><circle cx=\"248.08000000000018\" cy=\"170.0\" id=\"node_0_49\" r=\"3\"/><circle cx=\"251.9200000000002\" cy=\"170.0\" id=\"node_0_95\" r=\"3\"/><circle cx=\"257.6800000000002\" cy=\"168.54166666666666\" id=\"node_0_391\" r=\"3\"/><circle cx=\"255.7600000000002\" cy=\"170.0\" id=\"node_0_55\" r=\"3\"/><circle cx=\"259.6000000000002\" cy=\"170.0\" id=\"node_0_70\" r=\"3\"/><circle cx=\"269.20000000000016\" cy=\"167.08333333333334\" id=\"node_0_1037\" r=\"3\"/><circle cx=\"263.44000000000017\" cy=\"170.0\" id=\"node_0_12\" r=\"3\"/><circle cx=\"267.28000000000014\" cy=\"170.0\" id=\"node_0_16\" r=\"3\"/><circle cx=\"271.1200000000001\" cy=\"170.0\" id=\"node_0_28\" r=\"3\"/><circle cx=\"274.9600000000001\" cy=\"170.0\" id=\"node_0_108\" r=\"3\"/><circle cx=\"280.72\" cy=\"159.79166666666666\" id=\"node_0_1531\" r=\"3\"/><circle cx=\"278.80000000000007\" cy=\"170.0\" id=\"node_0_21\" r=\"3\"/><circle cx=\"282.64000000000004\" cy=\"170.0\" id=\"node_0_45\" r=\"3\"/><circle cx=\"325.89999999999975\" cy=\"89.79166666666667\" id=\"node_0_1810\" r=\"3\"/><circle cx=\"288.4\" cy=\"168.54166666666666\" id=\"node_0_587\" r=\"3\"/><circle cx=\"286.48\" cy=\"170.0\" id=\"node_0_18\" r=\"3\"/><circle cx=\"290.32\" cy=\"170.0\" id=\"node_0_120\" r=\"3\"/><circle cx=\"363.3999999999995\" cy=\"100.0\" id=\"node_0_1792\" r=\"3\"/><circle cx=\"294.15999999999997\" cy=\"170.0\" id=\"node_0_30\" r=\"3\"/><circle cx=\"297.99999999999994\" cy=\"170.0\" id=\"node_0_38\" r=\"3\"/><circle cx=\"301.8399999999999\" cy=\"170.0\" id=\"node_0_60\" r=\"3\"/><circle cx=\"305.6799999999999\" cy=\"170.0\" id=\"node_0_61\" r=\"3\"/><circle cx=\"309.51999999999987\" cy=\"170.0\" id=\"node_0_63\" r=\"3\"/><circle cx=\"313.35999999999984\" cy=\"170.0\" id=\"node_0_76\" r=\"3\"/><circle cx=\"317.1999999999998\" cy=\"170.0\" id=\"node_0_79\" r=\"3\"/><circle cx=\"321.0399999999998\" cy=\"170.0\" id=\"node_0_90\" r=\"3\"/><circle cx=\"324.87999999999977\" cy=\"170.0\" id=\"node_0_101\" r=\"3\"/><circle cx=\"328.71999999999974\" cy=\"170.0\" id=\"node_0_109\" r=\"3\"/><circle cx=\"332.5599999999997\" cy=\"170.0\" id=\"node_0_112\" r=\"3\"/><circle cx=\"338.3199999999997\" cy=\"168.54166666666666\" id=\"node_0_130\" r=\"3\"/><circle cx=\"336.3999999999997\" cy=\"170.0\" id=\"node_0_4\" r=\"3\"/><circle cx=\"340.23999999999967\" cy=\"170.0\" id=\"node_0_117\" r=\"3\"/><circle cx=\"345.99999999999966\" cy=\"168.54166666666666\" id=\"node_0_218\" r=\"3\"/><circle cx=\"344.07999999999964\" cy=\"170.0\" id=\"node_0_86\" r=\"3\"/><circle cx=\"347.9199999999996\" cy=\"170.0\" id=\"node_0_89\" r=\"3\"/><circle cx=\"353.6799999999996\" cy=\"167.08333333333334\" id=\"node_0_919\" r=\"3\"/><circle cx=\"351.7599999999996\" cy=\"170.0\" id=\"node_0_53\" r=\"3\"/><circle cx=\"355.59999999999957\" cy=\"170.0\" id=\"node_0_69\" r=\"3\"/><circle cx=\"363.2799999999995\" cy=\"164.16666666666666\" id=\"node_0_1329\" r=\"3\"/><circle cx=\"359.43999999999954\" cy=\"170.0\" id=\"node_0_20\" r=\"3\"/><circle cx=\"363.2799999999995\" cy=\"170.0\" id=\"node_0_29\" r=\"3\"/><circle cx=\"367.1199999999995\" cy=\"170.0\" id=\"node_0_46\" r=\"3\"/><circle cx=\"376.23999999999944\" cy=\"159.79166666666666\" id=\"node_0_1533\" r=\"3\"/><circle cx=\"370.95999999999947\" cy=\"170.0\" id=\"node_0_36\" r=\"3\"/><circle cx=\"374.79999999999944\" cy=\"170.0\" id=\"node_0_121\" r=\"3\"/><circle cx=\"381.5199999999994\" cy=\"165.625\" id=\"node_0_1242\" r=\"3\"/><circle cx=\"378.6399999999994\" cy=\"170.0\" id=\"node_0_40\" r=\"3\"/><circle cx=\"384.3999999999994\" cy=\"168.54166666666666\" id=\"node_0_680\" r=\"3\"/><circle cx=\"382.4799999999994\" cy=\"170.0\" id=\"node_0_7\" r=\"3\"/><circle cx=\"386.31999999999937\" cy=\"170.0\" id=\"node_0_43\" r=\"3\"/><circle cx=\"394.95999999999935\" cy=\"137.91666666666669\" id=\"node_0_1704\" r=\"3\"/><circle cx=\"390.15999999999934\" cy=\"170.0\" id=\"node_0_68\" r=\"3\"/><circle cx=\"393.9999999999993\" cy=\"170.0\" id=\"node_0_115\" r=\"3\"/><circle cx=\"399.7599999999993\" cy=\"164.16666666666666\" id=\"node_0_1319\" r=\"3\"/><circle cx=\"397.8399999999993\" cy=\"170.0\" id=\"node_0_33\" r=\"3\"/><circle cx=\"401.67999999999927\" cy=\"170.0\" id=\"node_0_64\" r=\"3\"/><circle cx=\"432.6399999999991\" cy=\"124.79166666666669\" id=\"node_0_1742\" r=\"3\"/><circle cx=\"405.51999999999924\" cy=\"170.0\" id=\"node_0_78\" r=\"3\"/><circle cx=\"409.3599999999992\" cy=\"170.0\" id=\"node_0_82\" r=\"3\"/><circle cx=\"415.1199999999992\" cy=\"168.54166666666666\" id=\"node_0_165\" r=\"3\"/><circle cx=\"413.1999999999992\" cy=\"170.0\" id=\"node_0_99\" r=\"3\"/><circle cx=\"417.03999999999917\" cy=\"170.0\" id=\"node_0_102\" r=\"3\"/><circle cx=\"422.79999999999916\" cy=\"168.54166666666666\" id=\"node_0_262\" r=\"3\"/><circle cx=\"420.87999999999914\" cy=\"170.0\" id=\"node_0_80\" r=\"3\"/><circle cx=\"424.7199999999991\" cy=\"170.0\" id=\"node_0_81\" r=\"3\"/><circle cx=\"434.319999999999\" cy=\"167.08333333333334\" id=\"node_0_782\" r=\"3\"/><circle cx=\"428.5599999999991\" cy=\"170.0\" id=\"node_0_77\" r=\"3\"/><circle cx=\"432.39999999999907\" cy=\"170.0\" id=\"node_0_98\" r=\"3\"/><circle cx=\"436.23999999999904\" cy=\"170.0\" id=\"node_0_100\" r=\"3\"/><circle cx=\"440.079999999999\" cy=\"170.0\" id=\"node_0_104\" r=\"3\"/><circle cx=\"459.75999999999885\" cy=\"139.375\" id=\"node_0_1692\" r=\"3\"/><circle cx=\"443.919999999999\" cy=\"170.0\" id=\"node_0_13\" r=\"3\"/><circle cx=\"447.75999999999897\" cy=\"170.0\" id=\"node_0_85\" r=\"3\"/><circle cx=\"451.59999999999894\" cy=\"170.0\" id=\"node_0_91\" r=\"3\"/><circle cx=\"455.4399999999989\" cy=\"170.0\" id=\"node_0_92\" r=\"3\"/><circle cx=\"459.2799999999989\" cy=\"170.0\" id=\"node_0_103\" r=\"3\"/><circle cx=\"463.11999999999887\" cy=\"170.0\" id=\"node_0_122\" r=\"3\"/><circle cx=\"475.5999999999988\" cy=\"167.08333333333334\" id=\"node_0_949\" r=\"3\"/><circle cx=\"466.95999999999884\" cy=\"170.0\" id=\"node_0_8\" r=\"3\"/><circle cx=\"470.7999999999988\" cy=\"170.0\" id=\"node_0_42\" r=\"3\"/><circle cx=\"474.6399999999988\" cy=\"170.0\" id=\"node_0_84\" r=\"3\"/><circle cx=\"478.47999999999877\" cy=\"170.0\" id=\"node_0_123\" r=\"3\"/><circle cx=\"484.23999999999876\" cy=\"168.54166666666666\" id=\"node_0_302\" r=\"3\"/><circle cx=\"482.31999999999874\" cy=\"170.0\" id=\"node_0_75\" r=\"3\"/><circle cx=\"486.1599999999987\" cy=\"170.0\" id=\"node_0_96\" r=\"3\"/></g><g class=\"mutations\" fill=\"red\"><rect height=\"6\" transform=\"translate(-3, -3)\" width=\"6\" x=\"88.72000000000004\" y=\"97.8125\"/><rect height=\"6\" transform=\"translate(-3, -3)\" width=\"6\" x=\"148.2400000000001\" y=\"135.72916666666669\"/><rect height=\"6\" transform=\"translate(-3, -3)\" width=\"6\" x=\"238.4800000000002\" y=\"161.25\"/></g></g><g font-size=\"14\" id=\"labels\"><g class=\"nodes\"><g text-anchor=\"start\"><text x=\"59.16000000000001\" y=\"163.54166666666666\">329</text><text x=\"68.76000000000002\" y=\"162.08333333333334\">887</text><text x=\"80.28000000000003\" y=\"162.08333333333334\">1028</text><text x=\"93.72000000000004\" y=\"160.625\">1154</text><text x=\"258.1499999999999\" y=\"80.41666666666667\">1816</text><text x=\"178.2000000000001\" y=\"163.54166666666666\">315</text><text x=\"189.72000000000014\" y=\"163.54166666666666\">481</text><text x=\"197.40000000000015\" y=\"163.54166666666666\">561</text><text x=\"205.08000000000015\" y=\"162.08333333333334\">931</text><text x=\"218.52000000000015\" y=\"153.33333333333334\">1561</text><text x=\"236.76000000000016\" y=\"148.95833333333334\">1613</text><text x=\"243.4800000000002\" y=\"163.54166666666666\">735</text><text x=\"267.48000000000013\" y=\"146.04166666666666\">1639</text><text x=\"262.6800000000002\" y=\"163.54166666666666\">391</text><text x=\"274.20000000000016\" y=\"162.08333333333334\">1037</text><text x=\"285.72\" y=\"154.79166666666666\">1531</text><text x=\"330.89999999999975\" y=\"84.79166666666667\">1810</text><text x=\"368.3999999999995\" y=\"95.0\">1792</text><text x=\"343.3199999999997\" y=\"163.54166666666666\">130</text><text x=\"350.99999999999966\" y=\"163.54166666666666\">218</text><text x=\"358.6799999999996\" y=\"162.08333333333334\">919</text><text x=\"368.2799999999995\" y=\"159.16666666666666\">1329</text><text x=\"381.23999999999944\" y=\"154.79166666666666\">1533</text><text x=\"386.5199999999994\" y=\"160.625\">1242</text><text x=\"389.3999999999994\" y=\"163.54166666666666\">680</text><text x=\"399.95999999999935\" y=\"132.91666666666669\">1704</text><text x=\"404.7599999999993\" y=\"159.16666666666666\">1319</text><text x=\"437.6399999999991\" y=\"119.79166666666669\">1742</text><text x=\"420.1199999999992\" y=\"163.54166666666666\">165</text><text x=\"427.79999999999916\" y=\"163.54166666666666\">262</text><text x=\"439.319999999999\" y=\"162.08333333333334\">782</text><text x=\"464.75999999999885\" y=\"134.375\">1692</text><text x=\"480.5999999999988\" y=\"162.08333333333334\">949</text><text x=\"489.23999999999876\" y=\"163.54166666666666\">302</text></g><g text-anchor=\"middle\"><text x=\"133.49499999999995\" y=\"25.0\">1874</text><text x=\"13.84\" y=\"190.0\">14</text><text x=\"17.68\" y=\"190.0\">26</text><text x=\"21.52\" y=\"190.0\">39</text><text x=\"25.36\" y=\"190.0\">47</text><text x=\"29.2\" y=\"190.0\">50</text><text x=\"33.04\" y=\"190.0\">52</text><text x=\"36.879999999999995\" y=\"190.0\">54</text><text x=\"40.72\" y=\"190.0\">67</text><text x=\"44.56\" y=\"190.0\">83</text><text x=\"48.400000000000006\" y=\"190.0\">87</text><text x=\"52.24000000000001\" y=\"190.0\">73</text><text x=\"56.08000000000001\" y=\"190.0\">88</text><text x=\"59.920000000000016\" y=\"190.0\">57</text><text x=\"63.76000000000002\" y=\"190.0\">58</text><text x=\"67.60000000000002\" y=\"190.0\">59</text><text x=\"71.44000000000003\" y=\"190.0\">41</text><text x=\"75.28000000000003\" y=\"190.0\">51</text><text x=\"79.12000000000003\" y=\"190.0\">119</text><text x=\"82.96000000000004\" y=\"190.0\">48</text><text x=\"86.80000000000004\" y=\"190.0\">62</text><text x=\"90.64000000000004\" y=\"190.0\">71</text><text x=\"94.48000000000005\" y=\"190.0\">110</text><text x=\"98.32000000000005\" y=\"190.0\">0</text><text x=\"102.16000000000005\" y=\"190.0\">2</text><text x=\"106.00000000000006\" y=\"190.0\">5</text><text x=\"109.84000000000006\" y=\"190.0\">11</text><text x=\"113.68000000000006\" y=\"190.0\">15</text><text x=\"117.52000000000007\" y=\"190.0\">17</text><text x=\"121.36000000000007\" y=\"190.0\">23</text><text x=\"125.20000000000007\" y=\"190.0\">24</text><text x=\"129.04000000000008\" y=\"190.0\">25</text><text x=\"132.88000000000008\" y=\"190.0\">31</text><text x=\"136.72000000000008\" y=\"190.0\">34</text><text x=\"140.5600000000001\" y=\"190.0\">44</text><text x=\"144.4000000000001\" y=\"190.0\">66</text><text x=\"148.2400000000001\" y=\"190.0\">72</text><text x=\"152.0800000000001\" y=\"190.0\">97</text><text x=\"155.9200000000001\" y=\"190.0\">105</text><text x=\"159.7600000000001\" y=\"190.0\">111</text><text x=\"163.6000000000001\" y=\"190.0\">116</text><text x=\"167.4400000000001\" y=\"190.0\">74</text><text x=\"171.28000000000011\" y=\"190.0\">93</text><text x=\"175.12000000000012\" y=\"190.0\">94</text><text x=\"178.96000000000012\" y=\"190.0\">107</text><text x=\"182.80000000000013\" y=\"190.0\">32</text><text x=\"186.64000000000013\" y=\"190.0\">114</text><text x=\"190.48000000000013\" y=\"190.0\">22</text><text x=\"194.32000000000014\" y=\"190.0\">27</text><text x=\"198.16000000000014\" y=\"190.0\">106</text><text x=\"202.00000000000014\" y=\"190.0\">118</text><text x=\"205.84000000000015\" y=\"190.0\">6</text><text x=\"209.68000000000015\" y=\"190.0\">10</text><text x=\"213.52000000000015\" y=\"190.0\">56</text><text x=\"217.36000000000016\" y=\"190.0\">65</text><text x=\"221.20000000000016\" y=\"190.0\">113</text><text x=\"225.04000000000016\" y=\"190.0\">3</text><text x=\"228.88000000000017\" y=\"190.0\">19</text><text x=\"232.72000000000017\" y=\"190.0\">35</text><text x=\"236.56000000000017\" y=\"190.0\">1</text><text x=\"240.40000000000018\" y=\"190.0\">37</text><text x=\"244.24000000000018\" y=\"190.0\">9</text><text x=\"248.08000000000018\" y=\"190.0\">49</text><text x=\"251.9200000000002\" y=\"190.0\">95</text><text x=\"255.7600000000002\" y=\"190.0\">55</text><text x=\"259.6000000000002\" y=\"190.0\">70</text><text x=\"263.44000000000017\" y=\"190.0\">12</text><text x=\"267.28000000000014\" y=\"190.0\">16</text><text x=\"271.1200000000001\" y=\"190.0\">28</text><text x=\"274.9600000000001\" y=\"190.0\">108</text><text x=\"278.80000000000007\" y=\"190.0\">21</text><text x=\"282.64000000000004\" y=\"190.0\">45</text><text x=\"286.48\" y=\"190.0\">18</text><text x=\"290.32\" y=\"190.0\">120</text><text x=\"294.15999999999997\" y=\"190.0\">30</text><text x=\"297.99999999999994\" y=\"190.0\">38</text><text x=\"301.8399999999999\" y=\"190.0\">60</text><text x=\"305.6799999999999\" y=\"190.0\">61</text><text x=\"309.51999999999987\" y=\"190.0\">63</text><text x=\"313.35999999999984\" y=\"190.0\">76</text><text x=\"317.1999999999998\" y=\"190.0\">79</text><text x=\"321.0399999999998\" y=\"190.0\">90</text><text x=\"324.87999999999977\" y=\"190.0\">101</text><text x=\"328.71999999999974\" y=\"190.0\">109</text><text x=\"332.5599999999997\" y=\"190.0\">112</text><text x=\"336.3999999999997\" y=\"190.0\">4</text><text x=\"340.23999999999967\" y=\"190.0\">117</text><text x=\"344.07999999999964\" y=\"190.0\">86</text><text x=\"347.9199999999996\" y=\"190.0\">89</text><text x=\"351.7599999999996\" y=\"190.0\">53</text><text x=\"355.59999999999957\" y=\"190.0\">69</text><text x=\"359.43999999999954\" y=\"190.0\">20</text><text x=\"363.2799999999995\" y=\"190.0\">29</text><text x=\"367.1199999999995\" y=\"190.0\">46</text><text x=\"370.95999999999947\" y=\"190.0\">36</text><text x=\"374.79999999999944\" y=\"190.0\">121</text><text x=\"378.6399999999994\" y=\"190.0\">40</text><text x=\"382.4799999999994\" y=\"190.0\">7</text><text x=\"386.31999999999937\" y=\"190.0\">43</text><text x=\"390.15999999999934\" y=\"190.0\">68</text><text x=\"393.9999999999993\" y=\"190.0\">115</text><text x=\"397.8399999999993\" y=\"190.0\">33</text><text x=\"401.67999999999927\" y=\"190.0\">64</text><text x=\"405.51999999999924\" y=\"190.0\">78</text><text x=\"409.3599999999992\" y=\"190.0\">82</text><text x=\"413.1999999999992\" y=\"190.0\">99</text><text x=\"417.03999999999917\" y=\"190.0\">102</text><text x=\"420.87999999999914\" y=\"190.0\">80</text><text x=\"424.7199999999991\" y=\"190.0\">81</text><text x=\"428.5599999999991\" y=\"190.0\">77</text><text x=\"432.39999999999907\" y=\"190.0\">98</text><text x=\"436.23999999999904\" y=\"190.0\">100</text><text x=\"440.079999999999\" y=\"190.0\">104</text><text x=\"443.919999999999\" y=\"190.0\">13</text><text x=\"447.75999999999897\" y=\"190.0\">85</text><text x=\"451.59999999999894\" y=\"190.0\">91</text><text x=\"455.4399999999989\" y=\"190.0\">92</text><text x=\"459.2799999999989\" y=\"190.0\">103</text><text x=\"463.11999999999887\" y=\"190.0\">122</text><text x=\"466.95999999999884\" y=\"190.0\">8</text><text x=\"470.7999999999988\" y=\"190.0\">42</text><text x=\"474.6399999999988\" y=\"190.0\">84</text><text x=\"478.47999999999877\" y=\"190.0\">123</text><text x=\"482.31999999999874\" y=\"190.0\">75</text><text x=\"486.1599999999987\" y=\"190.0\">96</text></g><g text-anchor=\"end\"><text x=\"175.4000000000001\" y=\"96.45833333333334\">1790</text><text x=\"283.4\" y=\"163.54166666666666\">587</text></g></g><g class=\"mutations\" font-style=\"italic\"><g text-anchor=\"start\"><text x=\"93.72000000000004\" y=\"101.8125\">1</text><text x=\"153.2400000000001\" y=\"139.72916666666669\">2</text><text x=\"243.4800000000002\" y=\"165.25\">0</text></g><g text-anchor=\"end\"/></g></g></g></svg>"
      ],
      "text/plain": [
       "<IPython.core.display.SVG object>"
      ]
     },
     "execution_count": 42,
     "metadata": {},
     "output_type": "execute_result"
    }
   ],
   "source": [
    "first_tree = vivax_inferred_ts.first()\n",
    "SVG(first_tree.draw(width=500))"
   ]
  },
  {
   "cell_type": "markdown",
   "metadata": {
    "slideshow": {
     "slide_type": "subslide"
    }
   },
   "source": [
    "Clearly, with 124 samples, the tree is unintelligible. We can use the powerful [ete3 tree drawing engine](http://etetoolkit.org/docs/latest/tutorial/tutorial_drawing.html) to draw the first tree with a circular output:\n",
    "\n",
    "<img src=\"figures/circular_vivax_tree.png\">\n"
   ]
  },
  {
   "cell_type": "code",
   "execution_count": 43,
   "metadata": {
    "slideshow": {
     "slide_type": "skip"
    }
   },
   "outputs": [],
   "source": [
    "#if you're curious how this tree was created here is the code\n",
    "#it won't run on jupyter hub however\n",
    "\n",
    "# first_tree_newick=Tree(first_tree.newick())\n",
    "# ts = TreeStyle()\n",
    "# ts.mode = \"c\"\n",
    "# ts.arc_start = 0 # 0 degrees = 3 o'clock\n",
    "# ts.arc_span = 360\n",
    "# #ts.scale = 20\n",
    "# ts.show_leaf_name = True\n",
    "# ts.show_scale = False\n",
    "# first_tree_newick.render(\"%%inline\",tree_style=ts,w=500)  "
   ]
  },
  {
   "cell_type": "markdown",
   "metadata": {
    "slideshow": {
     "slide_type": "subslide"
    }
   },
   "source": [
    "This is better, but it would be helpful to know where the samples came from!\n",
    "\n",
    "Luckily the country of origin of the 124 sequences we are considering was stored in the vivax sample data file. Cleverly, this metadata has been transferred into the inferred tree sequence too, which we can query using the `populations()` iterator:"
   ]
  },
  {
   "cell_type": "code",
   "execution_count": 44,
   "metadata": {
    "slideshow": {
     "slide_type": "subslide"
    }
   },
   "outputs": [
    {
     "name": "stdout",
     "output_type": "stream",
     "text": [
      "Sample IDs from population West Thailand\n",
      "[ 0  1  2  3  4  5  6  7  8  9 10 11 12 13 14 15 16 17 18 19 20 21 22 23\n",
      " 24 25 26 27 28 29 30 31 32 33 34 35 36 37 38 39 40 41 42 43 44 45 46 47\n",
      " 48 49 50]\n",
      "Sample IDs from population East Thailand\n",
      "[51]\n",
      "Sample IDs from population West Cambodia\n",
      "[52 53 54 55 56 57 58 59 60 61 62 63 64 65 66 67 68 69 70 71]\n",
      "Sample IDs from population Northeast Cambodia\n",
      "[72]\n",
      "Sample IDs from population Indonesia\n",
      "[73 74 75 76 77 78 79 80 81 82 83 84 85 86 87 88 89 90 91 92 93 94 95 96]\n",
      "Sample IDs from population Papua New Guinea\n",
      "[ 97  98  99 100 101 102 103 104]\n",
      "Sample IDs from population Brazil\n",
      "[105]\n",
      "Sample IDs from population Sri Lanka\n",
      "[106]\n",
      "Sample IDs from population Vietnam\n",
      "[107 108 109 110 111 112 113]\n",
      "Sample IDs from population India\n",
      "[114]\n",
      "Sample IDs from population Malaysia\n",
      "[115 116 117 118 119]\n",
      "Sample IDs from population Myanmar\n",
      "[120]\n",
      "Sample IDs from population Laos\n",
      "[121]\n",
      "Sample IDs from population Madagascar\n",
      "[122]\n",
      "Sample IDs from population China\n",
      "[123]\n"
     ]
    }
   ],
   "source": [
    "for p in vivax_inferred_ts.populations():\n",
    "    print(\"Sample IDs from population\", json.loads(p.metadata)['name'])\n",
    "    print(vivax_inferred_ts.samples(population=p.id))"
   ]
  },
  {
   "cell_type": "markdown",
   "metadata": {
    "slideshow": {
     "slide_type": "subslide"
    }
   },
   "source": [
    "We can use these to redraw the tree, coloring the tips by the country of origin. We won't show all the code here as it gets a bit messy, but here is the output:"
   ]
  },
  {
   "cell_type": "markdown",
   "metadata": {
    "slideshow": {
     "slide_type": "subslide"
    }
   },
   "source": [
    "\n",
    "<center> <img src=\"figures/malaria_circular.png\"  style=\"width: 450px;\"/>"
   ]
  },
  {
   "cell_type": "markdown",
   "metadata": {
    "slideshow": {
     "slide_type": "subslide"
    }
   },
   "source": [
    "This sort of representation at a region of interest could certainly be informative, but with 1475 marginal trees we need other ways to summarize the relationships between samples. "
   ]
  },
  {
   "cell_type": "markdown",
   "metadata": {
    "slideshow": {
     "slide_type": "slide"
    }
   },
   "source": [
    "## Genealogical Nearest Neighbours\n",
    "A useful metric for understanding population level relationships from a tree sequence is genealogical nearest neighbours. \n"
   ]
  },
  {
   "cell_type": "markdown",
   "metadata": {
    "slideshow": {
     "slide_type": "fragment"
    }
   },
   "source": [
    "Given K sets of reference nodes (e.g., the samples for each of the 15 populations of clonal *vivax* samples), the GNN statistic for a specific node is a K-vector describing the proportion of its immediate neighbours within the tree from each of these reference sets. <br>\n",
    "Here is an example from the small example we've been working with."
   ]
  },
  {
   "cell_type": "code",
   "execution_count": 45,
   "metadata": {
    "slideshow": {
     "slide_type": "subslide"
    }
   },
   "outputs": [
    {
     "data": {
      "text/html": [
       "<div>\n",
       "<style scoped>\n",
       "    .dataframe tbody tr th:only-of-type {\n",
       "        vertical-align: middle;\n",
       "    }\n",
       "\n",
       "    .dataframe tbody tr th {\n",
       "        vertical-align: top;\n",
       "    }\n",
       "\n",
       "    .dataframe thead th {\n",
       "        text-align: right;\n",
       "    }\n",
       "</style>\n",
       "<table border=\"1\" class=\"dataframe\">\n",
       "  <thead>\n",
       "    <tr style=\"text-align: right;\">\n",
       "      <th></th>\n",
       "      <th>Individual_A</th>\n",
       "      <th>Individual_B</th>\n",
       "      <th>Individual_C</th>\n",
       "    </tr>\n",
       "  </thead>\n",
       "  <tbody>\n",
       "    <tr>\n",
       "      <th>0</th>\n",
       "      <td>1.0</td>\n",
       "      <td>0.00</td>\n",
       "      <td>0.00</td>\n",
       "    </tr>\n",
       "    <tr>\n",
       "      <th>1</th>\n",
       "      <td>1.0</td>\n",
       "      <td>0.00</td>\n",
       "      <td>0.00</td>\n",
       "    </tr>\n",
       "    <tr>\n",
       "      <th>2</th>\n",
       "      <td>0.0</td>\n",
       "      <td>0.40</td>\n",
       "      <td>0.60</td>\n",
       "    </tr>\n",
       "    <tr>\n",
       "      <th>3</th>\n",
       "      <td>0.4</td>\n",
       "      <td>0.30</td>\n",
       "      <td>0.30</td>\n",
       "    </tr>\n",
       "    <tr>\n",
       "      <th>4</th>\n",
       "      <td>0.0</td>\n",
       "      <td>1.00</td>\n",
       "      <td>0.00</td>\n",
       "    </tr>\n",
       "    <tr>\n",
       "      <th>5</th>\n",
       "      <td>0.0</td>\n",
       "      <td>0.55</td>\n",
       "      <td>0.45</td>\n",
       "    </tr>\n",
       "  </tbody>\n",
       "</table>\n",
       "</div>"
      ],
      "text/plain": [
       "   Individual_A  Individual_B  Individual_C\n",
       "0           1.0          0.00          0.00\n",
       "1           1.0          0.00          0.00\n",
       "2           0.0          0.40          0.60\n",
       "3           0.4          0.30          0.30\n",
       "4           0.0          1.00          0.00\n",
       "5           0.0          0.55          0.45"
      ]
     },
     "execution_count": 45,
     "metadata": {},
     "output_type": "execute_result"
    }
   ],
   "source": [
    "# Define a reference set for each individual\n",
    "reference_sets = [[0,1],[2,3],[4,5]]\n",
    "pd.DataFrame(treeseq_example.genealogical_nearest_neighbours(treeseq_example.samples(),reference_sets),\n",
    "             columns=[\"Individual_A\",\"Individual_B\",\"Individual_C\"])\n"
   ]
  },
  {
   "cell_type": "markdown",
   "metadata": {
    "slideshow": {
     "slide_type": "fragment"
    }
   },
   "source": [
    "<img src=\"figures/original_trees.png\" width=700px>\n"
   ]
  },
  {
   "cell_type": "markdown",
   "metadata": {
    "slideshow": {
     "slide_type": "subslide"
    }
   },
   "source": [
    "Think of this as looking at the most recent ancestor of each sample and determining what population the other daughter sample(s) of that node came from.  \n",
    "<br>\n",
    "\n"
   ]
  },
  {
   "cell_type": "markdown",
   "metadata": {
    "slideshow": {
     "slide_type": "fragment"
    }
   },
   "source": [
    "In the tsinfer preprint, we determined the GNN matrix for the UK Biobank. Here we show a much smaller example from the same clonal *vivax* dataset."
   ]
  },
  {
   "cell_type": "markdown",
   "metadata": {
    "slideshow": {
     "slide_type": "skip"
    }
   },
   "source": [
    "We begin by creating the reference set of populations for which the GNN statistic will be calculated."
   ]
  },
  {
   "cell_type": "code",
   "execution_count": 46,
   "metadata": {
    "slideshow": {
     "slide_type": "skip"
    }
   },
   "outputs": [],
   "source": [
    "import json\n",
    "tables = vivax_inferred_ts.dump_tables()\n",
    "reference_sets = []\n",
    "\n",
    "for pop in vivax_inferred_ts.populations():\n",
    "    reference_sets.append(np.where(tables.nodes.population == pop.id)[0].astype(np.int32))\n",
    "    name = json.loads(pop.metadata.decode())[\"name\"]"
   ]
  },
  {
   "cell_type": "markdown",
   "metadata": {
    "slideshow": {
     "slide_type": "skip"
    }
   },
   "source": [
    "We then run the genealogical_nearest_neighbours function, converting the resulting array into a Pandas DataFrame and adding a Population column."
   ]
  },
  {
   "cell_type": "code",
   "execution_count": 47,
   "metadata": {
    "slideshow": {
     "slide_type": "subslide"
    }
   },
   "outputs": [
    {
     "name": "stdout",
     "output_type": "stream",
     "text": [
      "CPU times: user 8.95 ms, sys: 2.25 ms, total: 11.2 ms\n",
      "Wall time: 13.6 ms\n"
     ]
    }
   ],
   "source": [
    "%%time\n",
    "A = vivax_inferred_ts.genealogical_nearest_neighbours(\n",
    "    vivax_inferred_ts.samples(), reference_sets)\n",
    "gnn = pd.DataFrame(A)\n",
    "gnn[\"Population\"] = \"\""
   ]
  },
  {
   "cell_type": "markdown",
   "metadata": {
    "slideshow": {
     "slide_type": "skip"
    }
   },
   "source": [
    "We create a dictionary listing the samples belonging to each population from the metadata."
   ]
  },
  {
   "cell_type": "code",
   "execution_count": 48,
   "metadata": {
    "slideshow": {
     "slide_type": "skip"
    }
   },
   "outputs": [],
   "source": [
    "pop_dict = {}\n",
    "for p in vivax_inferred_ts.populations():\n",
    "    pop_dict[json.loads(p.metadata)['name']] = list(vivax_inferred_ts.samples(population=p.id))"
   ]
  },
  {
   "cell_type": "markdown",
   "metadata": {
    "slideshow": {
     "slide_type": "skip"
    }
   },
   "source": [
    "We then use this dictionary to assign a population to each sample and rename the columns by the population they represent."
   ]
  },
  {
   "cell_type": "code",
   "execution_count": 49,
   "metadata": {
    "slideshow": {
     "slide_type": "skip"
    }
   },
   "outputs": [],
   "source": [
    "i = 0\n",
    "for pop in pop_dict.items():\n",
    "    for indiv in pop[1]:\n",
    "        gnn.iloc[i,15] = pop[0]\n",
    "        i += 1\n",
    "gnn = gnn.rename(index=str, columns={v: k for v, k in enumerate(list(pop_dict.keys()))})"
   ]
  },
  {
   "cell_type": "markdown",
   "metadata": {
    "slideshow": {
     "slide_type": "skip"
    }
   },
   "source": [
    "We keep populations with more than one sample."
   ]
  },
  {
   "cell_type": "code",
   "execution_count": 50,
   "metadata": {
    "slideshow": {
     "slide_type": "skip"
    }
   },
   "outputs": [],
   "source": [
    "gnn_removed_singletons=gnn[gnn[\"Population\"].isin(['West Thailand','Indonesia',\"West Cambodia\",\"Papua New Guinea\",\n",
    "                                                   \"Vietnam\",\"Malaysia\"])]\n",
    "gnn_small = gnn_removed_singletons[['West Thailand','Indonesia',\"West Cambodia\",\"Papua New Guinea\",\n",
    "                                                   \"Vietnam\",\"Malaysia\",\"Population\"]]"
   ]
  },
  {
   "cell_type": "markdown",
   "metadata": {
    "slideshow": {
     "slide_type": "subslide"
    }
   },
   "source": [
    "We determine the Z-score normalised GNN proportions for clonal *vivax* samples by population. \n",
    "The GNN matrix is first z-score normalised by column and the rows are then hierarchically clustered."
   ]
  },
  {
   "cell_type": "code",
   "execution_count": 51,
   "metadata": {
    "slideshow": {
     "slide_type": "subslide"
    }
   },
   "outputs": [],
   "source": [
    "dfg = gnn_small.groupby(\"Population\").mean()\n",
    "\n",
    "# Zscore normalise\n",
    "for col in list(dfg):\n",
    "    dfg[col] = scipy.stats.zscore(dfg[col])\n",
    "\n",
    "row_linkage = scipy.cluster.hierarchy.linkage(dfg, method=\"average\")\n",
    "order = scipy.cluster.hierarchy.leaves_list(row_linkage)\n",
    "x_pop = dfg.index.values[order]"
   ]
  },
  {
   "cell_type": "code",
   "execution_count": 52,
   "metadata": {
    "slideshow": {
     "slide_type": "subslide"
    }
   },
   "outputs": [
    {
     "data": {
      "text/plain": [
       "<seaborn.matrix.ClusterGrid at 0x125a7f2e8>"
      ]
     },
     "execution_count": 52,
     "metadata": {},
     "output_type": "execute_result"
    },
    {
     "data": {
      "image/png": "[encoded data removed]",
      "text/plain": [
       "<Figure size 720x720 with 4 Axes>"
      ]
     },
     "metadata": {},
     "output_type": "display_data"
    }
   ],
   "source": [
    "sns.clustermap(dfg[x_pop],row_linkage=row_linkage,col_cluster=False)"
   ]
  },
  {
   "cell_type": "markdown",
   "metadata": {},
   "source": [
    "# References and Documentation"
   ]
  },
  {
   "cell_type": "markdown",
   "metadata": {},
   "source": [
    "$\\texttt{msprime}$: <br>\n",
    "Reference: Kelleher, J., Etheridge, A.M. and McVean, G., 2016. Efficient coalescent simulation and genealogical analysis for large sample sizes. PLoS computational biology, 12(5), p.e1004842.\n",
    "<br>\n",
    "Documentation: https://msprime.readthedocs.io/en/stable/index.html\n",
    "\n",
    "$\\texttt{SLiM}$: <br>\n",
    "Reference: Haller, B.C., Galloway, J., Kelleher, J., Messer, P.W. and Ralph, P.L., 2018. Tree‐sequence recording in SL iM opens new horizons for forward‐time simulation of whole genomes. Molecular Ecology Resources.\n",
    "<br>\n",
    "Documentation: http://benhaller.com/slim/SLiM_Manual.pdf\n",
    "\n",
    "$\\texttt{tsinfer}$: <br>\n",
    "Reference:  Kelleher, J., Wong, Y., Albers, P., Wohns, A.W. and McVean, G., 2018. Inferring the ancestry of everyone. bioRxiv, p.458067.\n",
    "<br>\n",
    "Documentation: https://tsinfer.readthedocs.io/en/latest/api.html?highlight=sample_data\n",
    "\n",
    "Out of Africa Model used in section 3: <br>\n",
    "Gutenkunst, R.N., Hernandez, R.D., Williamson, S.H. and Bustamante, C.D., 2009. Inferring the joint demographic history of multiple populations from multidimensional SNP frequency data. PLoS genetics, 5(10), p.e1000695."
   ]
  },
  {
   "cell_type": "code",
   "execution_count": null,
   "metadata": {},
   "outputs": [],
   "source": []
  }
 ],
 "metadata": {
  "kernelspec": {
   "display_name": "Python 3",
   "language": "python",
   "name": "python3"
  },
  "language_info": {
   "codemirror_mode": {
    "name": "ipython",
    "version": 3
   },
   "file_extension": ".py",
   "mimetype": "text/x-python",
   "name": "python",
   "nbconvert_exporter": "python",
   "pygments_lexer": "ipython3",
   "version": "3.6.9"
  }
 },
 "nbformat": 4,
 "nbformat_minor": 2
}
